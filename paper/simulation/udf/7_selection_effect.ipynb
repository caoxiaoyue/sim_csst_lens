{
 "cells": [
  {
   "cell_type": "code",
   "execution_count": 1,
   "id": "048060c8-9ad1-432e-afa5-4d7414ceac4c",
   "metadata": {
    "tags": []
   },
   "outputs": [
    {
     "name": "stdout",
     "output_type": "stream",
     "text": [
      "836 728\n"
     ]
    }
   ],
   "source": [
    "from astropy.table import Table\n",
    "import numpy as np\n",
    "lens_samples = Table.read('lens_samples.fits')\n",
    "mask_stack = lens_samples['if_obs_stack'].data\n",
    "mask_single = lens_samples['if_obs_single'].data\n",
    "\n",
    "print(np.count_nonzero(mask_stack), np.count_nonzero(mask_single))\n",
    "#Lens:q_l, re_l, vdisp_l\n",
    "#Source:q, re_s, mag_g, "
   ]
  },
  {
   "cell_type": "code",
   "execution_count": 2,
   "id": "7dc0e410-b224-4174-a8d4-4145e89cadd1",
   "metadata": {
    "tags": []
   },
   "outputs": [],
   "source": [
    "obs_stack_sample = lens_samples[mask_stack]\n",
    "# obs_stack_sample.write('csst_obs_stack_samples.fits', overwrite=True)"
   ]
  },
  {
   "cell_type": "code",
   "execution_count": 3,
   "id": "893ae7a1-bb20-41bb-bbb9-60956b00b578",
   "metadata": {
    "tags": []
   },
   "outputs": [
    {
     "data": {
      "text/html": [
       "<i>Row index=0</i>\n",
       "<table id=\"table140075260734800\">\n",
       "<thead><tr><th>thetaE_s0</th><th>mass_s0</th><th>z_s0</th><th>re_s0</th><th>q_s0</th><th>pa_s0</th><th>x_s0</th><th>y_s0</th><th>mag_g_s0</th><th>mag_r_s0</th><th>mag_i_s0</th><th>mag_z_s0</th><th>vdisp_l</th><th>re_l</th><th>q_l</th><th>z_l</th><th>mag_g_l</th><th>mag_r_l</th><th>mag_i_l</th><th>mag_z_l</th><th>SNR_g</th><th>SNR_r</th><th>SNR_i</th><th>SNR_z</th><th>SNR_stack</th><th>best_band</th><th>mu</th><th>if_ring</th><th>if_obs_stack</th><th>if_obs_single</th><th>noise_seed</th></tr></thead>\n",
       "<thead><tr><th>float64</th><th>float64</th><th>float64</th><th>float64</th><th>float64</th><th>float64</th><th>float64</th><th>float64</th><th>float64</th><th>float64</th><th>float64</th><th>float64</th><th>float64</th><th>float64</th><th>float64</th><th>float64</th><th>float64</th><th>float64</th><th>float64</th><th>float64</th><th>float64</th><th>float64</th><th>float64</th><th>float64</th><th>float64</th><th>bytes1</th><th>float64</th><th>bool</th><th>bool</th><th>bool</th><th>int64</th></tr></thead>\n",
       "<tr><td>0.7551854998370612</td><td>121628811912.94075</td><td>1.9875</td><td>0.09555366191910125</td><td>0.510175628241307</td><td>4.513799488809944</td><td>-0.521156737618329</td><td>0.00496968539320269</td><td>26.7678</td><td>26.8196</td><td>26.8888</td><td>26.8314</td><td>197.12833849063614</td><td>0.5375433061960756</td><td>0.47409034013176166</td><td>0.4384578425252495</td><td>22.522684695449517</td><td>20.608330225394962</td><td>19.775954598753057</td><td>19.2866136257531</td><td>46.301281851665344</td><td>32.09652462512723</td><td>23.398015788489875</td><td>16.10893871790978</td><td>57.95248174133211</td><td>g</td><td>3.3082721934494015</td><td>False</td><td>True</td><td>True</td><td>10</td></tr>\n",
       "</table>"
      ],
      "text/plain": [
       "<Row index=0>\n",
       "    thetaE_s0           mass_s0         z_s0         re_s0               q_s0             pa_s0              x_s0                y_s0        mag_g_s0 mag_r_s0 mag_i_s0 mag_z_s0      vdisp_l              re_l                q_l                z_l              mag_g_l            mag_r_l            mag_i_l           mag_z_l            SNR_g              SNR_r             SNR_i              SNR_z           SNR_stack     best_band         mu         if_ring if_obs_stack if_obs_single noise_seed\n",
       "     float64            float64       float64       float64            float64           float64           float64             float64       float64  float64  float64  float64       float64            float64             float64            float64            float64            float64            float64           float64           float64            float64           float64            float64           float64        bytes1       float64         bool      bool          bool       int64   \n",
       "------------------ ------------------ ------- ------------------- ----------------- ----------------- ------------------ ------------------- -------- -------- -------- -------- ------------------ ------------------ ------------------- ------------------ ------------------ ------------------ ------------------ ---------------- ------------------ ----------------- ------------------ ----------------- ----------------- --------- ------------------ ------- ------------ ------------- ----------\n",
       "0.7551854998370612 121628811912.94075  1.9875 0.09555366191910125 0.510175628241307 4.513799488809944 -0.521156737618329 0.00496968539320269  26.7678  26.8196  26.8888  26.8314 197.12833849063614 0.5375433061960756 0.47409034013176166 0.4384578425252495 22.522684695449517 20.608330225394962 19.775954598753057 19.2866136257531 46.301281851665344 32.09652462512723 23.398015788489875 16.10893871790978 57.95248174133211         g 3.3082721934494015   False         True          True         10"
      ]
     },
     "execution_count": 3,
     "metadata": {},
     "output_type": "execute_result"
    }
   ],
   "source": [
    "obs_stack_sample[0]"
   ]
  },
  {
   "cell_type": "code",
   "execution_count": 4,
   "id": "8b03c7d6-4c97-4538-bc84-20a161059f61",
   "metadata": {
    "tags": []
   },
   "outputs": [
    {
     "ename": "ValueError",
     "evalue": "Cannot take a larger sample than population when 'replace=False'",
     "output_type": "error",
     "traceback": [
      "\u001b[0;31m---------------------------------------------------------------------------\u001b[0m",
      "\u001b[0;31mValueError\u001b[0m                                Traceback (most recent call last)",
      "Cell \u001b[0;32mIn[4], line 5\u001b[0m\n\u001b[1;32m      2\u001b[0m hist_size \u001b[38;5;241m=\u001b[39m \u001b[38;5;241m10000\u001b[39m\n\u001b[1;32m      4\u001b[0m stacked_samples \u001b[38;5;241m=\u001b[39m lens_samples[mask_stack]\n\u001b[0;32m----> 5\u001b[0m indices \u001b[38;5;241m=\u001b[39m np\u001b[38;5;241m.\u001b[39mrandom\u001b[38;5;241m.\u001b[39mchoice(\u001b[38;5;28mlen\u001b[39m(stacked_samples), size\u001b[38;5;241m=\u001b[39mhist_size, replace\u001b[38;5;241m=\u001b[39m\u001b[38;5;28;01mFalse\u001b[39;00m)\n\u001b[1;32m      6\u001b[0m stacked_samples_ \u001b[38;5;241m=\u001b[39m stacked_samples[indices]\n\u001b[1;32m      8\u001b[0m vdisp_l \u001b[38;5;241m=\u001b[39m stacked_samples_[\u001b[38;5;124m'\u001b[39m\u001b[38;5;124mvdisp_l\u001b[39m\u001b[38;5;124m'\u001b[39m]\n",
      "File \u001b[0;32mmtrand.pyx:984\u001b[0m, in \u001b[0;36mnumpy.random.mtrand.RandomState.choice\u001b[0;34m()\u001b[0m\n",
      "\u001b[0;31mValueError\u001b[0m: Cannot take a larger sample than population when 'replace=False'"
     ]
    }
   ],
   "source": [
    "np.random.seed(1)\n",
    "hist_size = 10000\n",
    "\n",
    "stacked_samples = lens_samples[mask_stack]\n",
    "indices = np.random.choice(len(stacked_samples), size=hist_size, replace=False)\n",
    "stacked_samples_ = stacked_samples[indices]\n",
    "\n",
    "vdisp_l = stacked_samples_['vdisp_l']\n",
    "q_l = stacked_samples_['q_l']\n",
    "re_l = stacked_samples_['re_l']\n",
    "\n",
    "q_s = stacked_samples_['q_s0']\n",
    "re_s = stacked_samples_['re_s0']\n",
    "mag_g_s = stacked_samples_['mag_g_s0']\n",
    "\n",
    "from SimCsstLens.LensPop.Population import LensPopulation\n",
    "from SimCsstLens import CosmologyDistance as CD\n",
    "this_cosmos = CD.CosmosDist(Om0=0.3, Ode0=0.7, h=0.7)\n",
    "lens_pop = LensPopulation(\n",
    "    vdisp_floor=50, \n",
    "    zl_max=2.5, \n",
    "    cosmo_dist=this_cosmos,\n",
    "    src_catalog_type='lsst',\n",
    "    bands=['g', 'r', 'i', 'z'],\n",
    ")\n",
    "lens_pop.draw_lens_samples(\n",
    "    nsamples=hist_size,\n",
    "    nsrcs_per_sample=1,\n",
    "    src_over_density=1,\n",
    ")"
   ]
  },
  {
   "cell_type": "code",
   "execution_count": 14,
   "id": "16cdbfe0-a70b-4fe4-8ab4-f782521e567e",
   "metadata": {
    "tags": []
   },
   "outputs": [],
   "source": [
    "from scipy.ndimage import gaussian_filter1d\n",
    "def smooth_hist(data, bins=30, smooth=True, sigma=2, log_bin=False, density=False):\n",
    "    if log_bin:\n",
    "        bins = np.logspace(np.log10(np.min(data)), np.log10(np.max(data)),  bins)\n",
    "        \n",
    "    counts, bins = np.histogram(data, bins=bins, density=density)\n",
    "    \n",
    "    if smooth:\n",
    "        counts_smoothed = gaussian_filter1d(counts, sigma=sigma)\n",
    "    else:\n",
    "        counts_smoothed = counts\n",
    "        \n",
    "    #for beautiful step plot\n",
    "    counts_smoothed = np.insert(counts_smoothed, 0, 0)\n",
    "    bins = np.insert(bins, 0, bins[0]-1e-3)\n",
    "    counts_smoothed = np.append(counts_smoothed, 0)\n",
    "    bins = np.append(bins, bins[-1]+1e-3)\n",
    "    return counts_smoothed, bins"
   ]
  },
  {
   "cell_type": "code",
   "execution_count": null,
   "id": "28e6cee7-94a0-46f4-9629-747f9385f1a1",
   "metadata": {
    "tags": []
   },
   "outputs": [],
   "source": [
    "from matplotlib import pyplot as plt\n",
    "from astropy.visualization import hist\n",
    "import scienceplots\n",
    "plt.style.use(['science','no-latex', 'nature'])\n",
    "# Set the font family and size for all text\n",
    "plt.rcParams['font.family'] = 'sans-serif'\n",
    "plt.rcParams['font.size'] = 10\n",
    "plt.rcParams['legend.fontsize'] = 9\n",
    "plt.rcParams['axes.labelsize'] = 12\n",
    "plt.rcParams['xtick.labelsize'] = 10\n",
    "plt.rcParams['ytick.labelsize'] = 10\n",
    "# Set the background color and grid style\n",
    "plt.rcParams['axes.facecolor'] = 'white'\n",
    "plt.rcParams['grid.linewidth'] = 1.5\n",
    "plt.rcParams['grid.color'] = 'black'\n",
    "plt.rcParams['grid.alpha'] = 0.5\n",
    "\n",
    "columnwidth = 3.33\n",
    "aspect_ratio = 0.8\n",
    "fig, axes = plt.subplots(nrows=2, ncols=3, figsize=(3*columnwidth+2*0.5, 2*columnwidth*aspect_ratio+1))\n",
    "\n",
    "this_ax = axes[0,0]\n",
    "data = lens_pop.dfl_pop.q_arr\n",
    "counts_smoothed, bins = smooth_hist(data, density=True)\n",
    "this_ax.step(bins[:-1], counts_smoothed,  where='post', color='black', label=\"Parent ETG\", ls='--')\n",
    "data = q_l\n",
    "counts_smoothed, bins = smooth_hist(data, density=True)\n",
    "this_ax.step(bins[:-1], counts_smoothed,  where='post', color='black', label=\"Forground deflector\")\n",
    "this_ax.set_xlabel(r'$q_\\mathrm{l}$')\n",
    "this_ax.set_ylabel(r'$\\rm PDF$')\n",
    "_, ymax = this_ax.get_ylim()\n",
    "this_ax.set_ylim(0,ymax)\n",
    "this_ax.set_xlim(0.2,1.0)\n",
    "this_ax.set_yticklabels([])\n",
    "this_ax.legend(loc='upper left')\n",
    "\n",
    "\n",
    "this_ax = axes[0,1]\n",
    "data = lens_pop.dfl_pop.Re_arr\n",
    "counts_smoothed, bins = smooth_hist(data, density=True, log_bin=True)\n",
    "this_ax.step(bins[:-1], counts_smoothed,  where='post', color='black', label=\"Parent ETG\", ls='--')\n",
    "data = re_l\n",
    "counts_smoothed, bins = smooth_hist(data, density=True, log_bin=True)\n",
    "this_ax.step(bins[:-1], counts_smoothed,  where='post', color='black', label=\"Forground deflector\")\n",
    "this_ax.set_xlabel(r'$R_\\mathrm{e}^\\mathrm{l} \\; \\left(\\mathrm{arcsec}\\right) $')\n",
    "_, ymax = this_ax.get_ylim()\n",
    "this_ax.set_xscale('log')\n",
    "this_ax.set_ylim(0,ymax)\n",
    "this_ax.set_yticklabels([])\n",
    "this_ax.legend()\n",
    "\n",
    "\n",
    "this_ax = axes[0,2]\n",
    "data = lens_pop.dfl_pop.vdisp_arr\n",
    "counts_smoothed, bins = smooth_hist(data, density=True)\n",
    "this_ax.step(bins[:-1], counts_smoothed,  where='post', color='black', label=\"Parent ETG\", ls='--')\n",
    "data = vdisp_l\n",
    "counts_smoothed, bins = smooth_hist(data, density=True)\n",
    "this_ax.step(bins[:-1], counts_smoothed,  where='post', color='black', label=\"Forground deflector\")\n",
    "this_ax.set_xlabel(r'$\\sigma_v \\; \\left(\\mathrm{km/s}\\right)$')\n",
    "_, ymax = this_ax.get_ylim()\n",
    "this_ax.set_ylim(0,ymax)\n",
    "this_ax.set_yticklabels([])\n",
    "this_ax.legend()\n",
    "\n",
    "\n",
    "this_ax = axes[1,0]\n",
    "data = lens_pop.src_pop.q_arr.reshape(-1)\n",
    "counts_smoothed, bins = smooth_hist(data, density=True)\n",
    "this_ax.step(bins[:-1], counts_smoothed,  where='post', color='black', label=\"Parent source\", ls='--')\n",
    "data = q_s\n",
    "counts_smoothed, bins = smooth_hist(data, density=True)\n",
    "this_ax.step(bins[:-1], counts_smoothed,  where='post', color='black', label=\"Background source\")\n",
    "this_ax.set_xlabel(r'$q_\\mathrm{s}$')\n",
    "this_ax.set_ylabel(r'$\\rm PDF$')\n",
    "_, ymax = this_ax.get_ylim()\n",
    "this_ax.set_ylim(0,ymax)\n",
    "this_ax.set_yticklabels([])\n",
    "this_ax.set_xlim(0.2,1.0)\n",
    "this_ax.legend(loc='lower right')\n",
    "\n",
    "\n",
    "this_ax = axes[1,1]\n",
    "data = lens_pop.src_pop.Re_arr.reshape(-1)\n",
    "counts_smoothed, bins = smooth_hist(data, density=True, log_bin=True)\n",
    "this_ax.step(bins[:-1], counts_smoothed,  where='post', color='black', label=\"Parent source\", ls='--')\n",
    "data = re_s\n",
    "counts_smoothed, bins = smooth_hist(data, density=True, log_bin=True)\n",
    "this_ax.step(bins[:-1], counts_smoothed,  where='post', color='black', label=\"Background source\")\n",
    "this_ax.set_xlabel(r'$R_\\mathrm{e}^\\mathrm{s} \\; \\left(\\mathrm{arcsec}\\right)$')\n",
    "_, ymax = this_ax.get_ylim()\n",
    "this_ax.set_xscale('log')\n",
    "this_ax.set_ylim(0,ymax)\n",
    "this_ax.set_yticklabels([])\n",
    "this_ax.legend()\n",
    "\n",
    "this_ax = axes[1,2]\n",
    "data = lens_pop.src_pop.app_mag_arr['g'].reshape(-1)\n",
    "counts_smoothed, bins = smooth_hist(data, density=True)\n",
    "this_ax.step(bins[:-1], counts_smoothed,  where='post', color='black', label=\"Parent source\", ls='--')\n",
    "data = mag_g_s\n",
    "counts_smoothed, bins = smooth_hist(data, density=True)\n",
    "this_ax.step(bins[:-1], counts_smoothed,  where='post', color='black', label=\"Background source\")\n",
    "this_ax.set_xlabel(r'$\\mathrm{mag}_\\mathrm{g}^\\mathrm{src}$')\n",
    "_, ymax = this_ax.get_ylim()\n",
    "this_ax.set_ylim(0,ymax)\n",
    "this_ax.set_yticklabels([])\n",
    "this_ax.legend(loc='upper left')\n",
    "\n",
    "plt.tight_layout()\n",
    "fig.savefig('figures/selection_effect.pdf', bbox_inches='tight')\n",
    "plt.close(fig)\n",
    "# plt.show()"
   ]
  },
  {
   "cell_type": "code",
   "execution_count": 7,
   "id": "31541355-925b-448d-8fe7-cb7b99c3f961",
   "metadata": {
    "tags": []
   },
   "outputs": [
    {
     "data": {
      "text/plain": [
       "array([221.19507154,  94.92198932, 202.10574299, ..., 122.71728187,\n",
       "       130.06109923, 163.0703084 ])"
      ]
     },
     "execution_count": 7,
     "metadata": {},
     "output_type": "execute_result"
    }
   ],
   "source": [
    "lens_pop.dfl_pop.vdisp_arr"
   ]
  },
  {
   "cell_type": "code",
   "execution_count": null,
   "id": "df85cfec-4923-4ad4-abbf-281f22552580",
   "metadata": {},
   "outputs": [],
   "source": []
  }
 ],
 "metadata": {
  "kernelspec": {
   "display_name": "Python 3 (ipykernel)",
   "language": "python",
   "name": "python3"
  },
  "language_info": {
   "codemirror_mode": {
    "name": "ipython",
    "version": 3
   },
   "file_extension": ".py",
   "mimetype": "text/x-python",
   "name": "python",
   "nbconvert_exporter": "python",
   "pygments_lexer": "ipython3",
   "version": "3.11.3"
  }
 },
 "nbformat": 4,
 "nbformat_minor": 5
}
