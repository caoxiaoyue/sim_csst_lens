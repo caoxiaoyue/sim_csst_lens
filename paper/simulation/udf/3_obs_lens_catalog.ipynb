{
 "cells": [
  {
   "cell_type": "code",
   "execution_count": 1,
   "id": "89a51777-8a0c-4993-b9bc-22eef22687c5",
   "metadata": {
    "tags": []
   },
   "outputs": [],
   "source": [
    "from SimCsstLens.LensPop.Population import LensPopulation\n",
    "from SimCsstLens import CosmologyDistance as CD\n",
    "import math\n",
    "import h5py\n",
    "import numpy as np \n",
    "from multiprocessing import Pool\n",
    "import os\n",
    "from astropy.table import Table, vstack\n",
    "\n",
    "this_cosmos = CD.CosmosDist(Om0=0.3, Ode0=0.7, h=0.7)\n",
    "lens_pop = LensPopulation(\n",
    "    vdisp_floor=50, \n",
    "    zl_max=2.5, \n",
    "    cosmo_dist=this_cosmos,\n",
    "    src_catalog_type='lsst',\n",
    "    bands=['g', 'r', 'i', 'z'],\n",
    ")\n",
    "sky_frac = 9/41252.96\n",
    "N_etgs = lens_pop.dfl_pop.number_of_etgs(sky_frac=sky_frac) #ideal lenses\n",
    "Nsamples_per_draw = 5000\n",
    "Ndraw = math.ceil(N_etgs/Nsamples_per_draw)"
   ]
  },
  {
   "cell_type": "code",
   "execution_count": 2,
   "id": "6562fd99-f019-4b5b-ae50-19ac1d5be82f",
   "metadata": {
    "tags": []
   },
   "outputs": [
    {
     "data": {
      "text/html": [
       "<div><i>Table length=5</i>\n",
       "<table id=\"table140625499168656\" class=\"table-striped table-bordered table-condensed\">\n",
       "<thead><tr><th>thetaE_s0</th><th>mass_s0</th><th>z_s0</th><th>re_s0</th><th>q_s0</th><th>pa_s0</th><th>x_s0</th><th>y_s0</th><th>mag_g_s0</th><th>mag_r_s0</th><th>mag_i_s0</th><th>mag_z_s0</th><th>vdisp_l</th><th>re_l</th><th>q_l</th><th>z_l</th><th>mag_g_l</th><th>mag_r_l</th><th>mag_i_l</th><th>mag_z_l</th><th>SNR_g</th><th>SNR_r</th><th>SNR_i</th><th>SNR_z</th><th>SNR_stack</th><th>best_band</th><th>mu</th><th>if_ring</th><th>if_obs_stack</th><th>if_obs_single</th><th>noise_seed</th></tr></thead>\n",
       "<thead><tr><th>float64</th><th>float64</th><th>float64</th><th>float64</th><th>float64</th><th>float64</th><th>float64</th><th>float64</th><th>float64</th><th>float64</th><th>float64</th><th>float64</th><th>float64</th><th>float64</th><th>float64</th><th>float64</th><th>float64</th><th>float64</th><th>float64</th><th>float64</th><th>float64</th><th>float64</th><th>float64</th><th>float64</th><th>float64</th><th>str1</th><th>float64</th><th>bool</th><th>bool</th><th>bool</th><th>int64</th></tr></thead>\n",
       "<tr><td>1.3282385133121593</td><td>324586911625.77637</td><td>1.2132</td><td>0.934842663557567</td><td>0.9144195490940105</td><td>64.04704365032579</td><td>0.3769152696032093</td><td>0.3520879976976028</td><td>27.7519</td><td>27.3304</td><td>27.0823</td><td>26.3904</td><td>265.0944811077561</td><td>1.515693692122302</td><td>0.7633194840032703</td><td>0.3308795450335912</td><td>19.948375090162077</td><td>18.03507582673575</td><td>17.384922879110537</td><td>17.028081767279758</td><td>2.89198243465602</td><td>2.8224810719230495</td><td>2.7222546613256027</td><td>3.4356071222280513</td><td>5.872603652423859</td><td>z</td><td>3.812545485635517</td><td>False</td><td>False</td><td>False</td><td>0</td></tr>\n",
       "<tr><td>0.9240293331642928</td><td>145331697724.88254</td><td>1.9072</td><td>0.37780637064196876</td><td>0.8477952163196067</td><td>123.6457171865729</td><td>-0.27703916121650446</td><td>0.7862095338330914</td><td>25.7376</td><td>25.9494</td><td>25.6555</td><td>25.4779</td><td>209.51442201858478</td><td>0.7084663535546086</td><td>0.9836305206620388</td><td>0.3462459692383374</td><td>21.329982476685718</td><td>19.37920081113861</td><td>18.721834419043454</td><td>18.346927189102885</td><td>29.00786724104473</td><td>17.667300111442117</td><td>18.862055749905945</td><td>15.026437864592223</td><td>39.78963441757281</td><td>g</td><td>2.6526981258191262</td><td>False</td><td>False</td><td>False</td><td>1</td></tr>\n",
       "<tr><td>1.034234336817764</td><td>310368872565.0242</td><td>3.2704</td><td>0.038696734086015316</td><td>0.24333040740339273</td><td>7.997143982361045</td><td>0.4241427899854191</td><td>0.593494734346664</td><td>27.4552</td><td>27.2956</td><td>27.3304</td><td>27.3567</td><td>240.05455231496026</td><td>0.5983026753532263</td><td>0.9492211730907733</td><td>0.6959688448119559</td><td>24.03722339837881</td><td>22.04188640517225</td><td>20.492859641432748</td><td>19.817907387193085</td><td>48.34216449618423</td><td>39.926246189197556</td><td>29.14139012371117</td><td>17.809970816941767</td><td>67.48201181168643</td><td>g</td><td>2.994956703973848</td><td>False</td><td>False</td><td>False</td><td>2</td></tr>\n",
       "<tr><td>0.8016181620819005</td><td>193957866448.81348</td><td>2.011</td><td>0.03397521875816424</td><td>0.9017076406602748</td><td>104.58159195346802</td><td>0.7164116081346683</td><td>0.11765363911929098</td><td>27.2504</td><td>27.2847</td><td>27.3415</td><td>27.2619</td><td>221.40756429131784</td><td>0.3583129963871201</td><td>0.9302315033695121</td><td>0.61410977239639</td><td>23.675399822529847</td><td>21.781735992745826</td><td>20.417224689983893</td><td>19.83713698333492</td><td>51.204936397122495</td><td>37.29510602315694</td><td>27.42522453526857</td><td>19.222759273517706</td><td>68.3849501812082</td><td>g</td><td>2.190421047002111</td><td>False</td><td>False</td><td>False</td><td>3</td></tr>\n",
       "<tr><td>1.1678619016962097</td><td>546569646067.6839</td><td>2.1965</td><td>0.15412291842399542</td><td>0.8708520319410653</td><td>159.29643014270852</td><td>-0.9567599020813807</td><td>-0.4830754520644672</td><td>27.686</td><td>27.7027</td><td>27.7317</td><td>27.4887</td><td>290.89995866842816</td><td>0.5932488019836093</td><td>0.9814962573542517</td><td>0.8202245783796196</td><td>24.38321712657386</td><td>21.802475351620508</td><td>20.48820117739793</td><td>19.42556499081606</td><td>11.546024366770721</td><td>8.731129405385257</td><td>6.982015462003028</td><td>5.8656102734141635</td><td>16.525158598468405</td><td>g</td><td>2.208233835250616</td><td>False</td><td>False</td><td>False</td><td>4</td></tr>\n",
       "</table></div>"
      ],
      "text/plain": [
       "<Table length=5>\n",
       "    thetaE_s0           mass_s0         z_s0         re_s0         ... if_obs_stack if_obs_single noise_seed\n",
       "     float64            float64       float64       float64        ...     bool          bool       int64   \n",
       "------------------ ------------------ ------- -------------------- ... ------------ ------------- ----------\n",
       "1.3282385133121593 324586911625.77637  1.2132    0.934842663557567 ...        False         False          0\n",
       "0.9240293331642928 145331697724.88254  1.9072  0.37780637064196876 ...        False         False          1\n",
       " 1.034234336817764  310368872565.0242  3.2704 0.038696734086015316 ...        False         False          2\n",
       "0.8016181620819005 193957866448.81348   2.011  0.03397521875816424 ...        False         False          3\n",
       "1.1678619016962097  546569646067.6839  2.1965  0.15412291842399542 ...        False         False          4"
      ]
     },
     "execution_count": 2,
     "metadata": {},
     "output_type": "execute_result"
    }
   ],
   "source": [
    "current_dir = os.getcwd()\n",
    "def return_detected(count_draw, stack=False):\n",
    "    table = Table()\n",
    "\n",
    "    fn = h5py.File(f\"./samples/lenses_{count_draw}.hdf5\", \"r\")\n",
    "    src_thetaE = fn['source/thetaE'][()]\n",
    "    for ii in range(src_thetaE.shape[0]):\n",
    "        table[f'thetaE_s{ii}'] =  src_thetaE[ii, :]\n",
    "        table[f'mass_s{ii}'] = fn['source/einstein_mass'][()][ii, :]\n",
    "        table[f'z_s{ii}'] = fn['source']['z'][()][ii, :]\n",
    "        table[f're_s{ii}'] = fn['source']['Re'][()][ii, :]\n",
    "        table[f'q_s{ii}'] = fn['source']['q'][()][ii, :]\n",
    "        table[f'pa_s{ii}'] = fn['source']['pa'][()][ii, :]\n",
    "        table[f'x_s{ii}'] = fn['source']['xs'][()][ii, :]\n",
    "        table[f'y_s{ii}'] = fn['source']['ys'][()][ii, :]\n",
    "        table[f'mag_g_s{ii}'] = fn['source']['app_mag_g'][()][ii, :]\n",
    "        table[f'mag_r_s{ii}'] = fn['source']['app_mag_r'][()][ii, :]\n",
    "        table[f'mag_i_s{ii}'] = fn['source']['app_mag_i'][()][ii, :]\n",
    "        table[f'mag_z_s{ii}'] = fn['source']['app_mag_z'][()][ii, :]\n",
    "\n",
    "    table['vdisp_l'] = fn['deflector/vdisp'][()]\n",
    "    table['re_l'] = fn['deflector/Re'][()]\n",
    "    table['q_l']= fn['deflector/q'][()]\n",
    "    table['z_l'] = fn['deflector/z'][()]\n",
    "    table['mag_g_l'] = fn['deflector/app_mag_g'][()]\n",
    "    table['mag_r_l'] = fn['deflector/app_mag_r'][()]\n",
    "    table['mag_i_l'] = fn['deflector/app_mag_i'][()]\n",
    "    table['mag_z_l'] = fn['deflector/app_mag_z'][()]\n",
    "\n",
    "    SNR = fn['Obs/SNR'][()] #shape: [nsrc, nband, n_ideal_lens]\n",
    "    table['SNR_g'] = SNR[0,0,:]\n",
    "    table['SNR_r'] = SNR[0,1,:]\n",
    "    table['SNR_i'] = SNR[0,2,:]\n",
    "    table['SNR_z'] = SNR[0,3,:]\n",
    "    table['SNR_stack'] = SNR[0,-1,:]\n",
    "    SNR_griz = SNR[0,0:-1,:]\n",
    "    indices = np.argmax(SNR_griz, axis=0)\n",
    "    table['best_band'] = np.array(['g', 'r', 'i', 'z'])[indices] \n",
    "    \n",
    "    mu = fn['Obs/magnification'][()] #shape: [nsrc, nband, n_ideal_lens]\n",
    "    table['mu'] = mu[0,-1,:]\n",
    "    \n",
    "    ring_cond = fn['Obs/ring_cond'][()] #shape: [nsrc, nband, n_ideal_lenses]\n",
    "    table['if_ring'] = ring_cond[0,-1,:]\n",
    "\n",
    "    obs_cond = fn['Obs/detect_cond'][()] #shape: [nsrc, nband, n_ideal_lenses, 3]\n",
    "    \n",
    "    fn.close()\n",
    "\n",
    "\n",
    "    #stack band\n",
    "    this_obs_cond = obs_cond.astype('int')\n",
    "    this_obs_cond = this_obs_cond[0, -1, :, :] #src-0, band-stack, nlens, 3-condition\n",
    "    this_obs_cond = np.sum(this_obs_cond, axis=1) #shape: [nlens]\n",
    "    bool_cond = (this_obs_cond==3)\n",
    "    table['if_obs_stack'] = bool_cond\n",
    "        \n",
    "    #individual band\n",
    "    this_obs_cond = obs_cond.astype('int')\n",
    "    this_obs_cond = this_obs_cond[:, :-1, :, :] #remove stack band\n",
    "    cond = np.sum(this_obs_cond, axis=3)[0,:,:] #cond: [nband, nlens]\n",
    "    bool_cond = (cond==3).astype('int') #cond: [nband, nlens]\n",
    "    bool_cond = (np.sum(bool_cond, axis=0)>0) #bool_cond\" [nlens]\n",
    "    table['if_obs_single'] = bool_cond\n",
    "    \n",
    "    n_detect_lens = len(np.where(bool_cond)[0])\n",
    "    n_ideal_lens = src_thetaE.shape[1]\n",
    "    \n",
    "    table['noise_seed'] = np.arange(n_ideal_lens, dtype='int')\n",
    "    \n",
    "    return n_detect_lens, n_ideal_lens, table\n",
    "\n",
    "n_detect_lens, n_ideal_lens, table = return_detected(0, stack=True)\n",
    "table[0:5]"
   ]
  },
  {
   "cell_type": "code",
   "execution_count": 3,
   "id": "80ec12d2-2f44-4469-a4f1-f717e92d8312",
   "metadata": {
    "tags": []
   },
   "outputs": [],
   "source": [
    "pool = Pool(processes=64)\n",
    "vars = list(zip(list(range(Ndraw)), [True]*Ndraw))\n",
    "results = pool.starmap(return_detected, vars)\n",
    "\n",
    "n_detect_lens = [item[0] for item in results]\n",
    "n_ideal_lens = [item[1] for item in results]\n",
    "n_detect_lens = sum(n_detect_lens)\n",
    "n_ideal_lens = sum(n_ideal_lens)\n",
    "\n",
    "tables = [item[2] for item in results]\n",
    "stacked_table = vstack(tables)\n",
    "mask_thetaE = (stacked_table['thetaE_s0'].data > 0.074)\n",
    "stacked_table = stacked_table[mask_thetaE]\n",
    "stacked_table.write('lens_samples.fits', overwrite=True)"
   ]
  },
  {
   "cell_type": "code",
   "execution_count": 4,
   "id": "724b16af-22bf-4f4f-b6c0-dc07e74eb72d",
   "metadata": {
    "tags": []
   },
   "outputs": [
    {
     "data": {
      "text/plain": [
       "2759"
      ]
     },
     "execution_count": 4,
     "metadata": {},
     "output_type": "execute_result"
    }
   ],
   "source": [
    "len(stacked_table)"
   ]
  },
  {
   "cell_type": "code",
   "execution_count": 5,
   "id": "27ff99e0-c292-47d0-8ad0-57ae55f4640c",
   "metadata": {
    "tags": []
   },
   "outputs": [
    {
     "data": {
      "text/plain": [
       "836"
      ]
     },
     "execution_count": 5,
     "metadata": {},
     "output_type": "execute_result"
    }
   ],
   "source": [
    "mask = stacked_table['if_obs_stack'].data\n",
    "table_detect = stacked_table[mask]\n",
    "table_detect.write(\"catalog_csv/csst_wf_stack.csv\", overwrite=True)\n",
    "len(table_detect)"
   ]
  },
  {
   "cell_type": "code",
   "execution_count": 6,
   "id": "dd2deb81-0827-4f04-aa3f-f22c132f0d95",
   "metadata": {
    "tags": []
   },
   "outputs": [
    {
     "data": {
      "text/plain": [
       "728"
      ]
     },
     "execution_count": 6,
     "metadata": {},
     "output_type": "execute_result"
    }
   ],
   "source": [
    "mask = stacked_table['if_obs_single'].data\n",
    "table_detect = stacked_table[mask]\n",
    "table_detect.write(\"catalog_csv/csst_wf_single.csv\", overwrite=True)\n",
    "len(table_detect)"
   ]
  },
  {
   "cell_type": "code",
   "execution_count": null,
   "id": "edd23620-c0b7-405f-abb1-29f4bde6da7e",
   "metadata": {},
   "outputs": [],
   "source": []
  }
 ],
 "metadata": {
  "kernelspec": {
   "display_name": "Python 3 (ipykernel)",
   "language": "python",
   "name": "python3"
  },
  "language_info": {
   "codemirror_mode": {
    "name": "ipython",
    "version": 3
   },
   "file_extension": ".py",
   "mimetype": "text/x-python",
   "name": "python",
   "nbconvert_exporter": "python",
   "pygments_lexer": "ipython3",
   "version": "3.11.3"
  }
 },
 "nbformat": 4,
 "nbformat_minor": 5
}
