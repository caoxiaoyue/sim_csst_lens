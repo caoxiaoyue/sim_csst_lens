{
 "cells": [
  {
   "cell_type": "code",
   "execution_count": 1,
   "id": "89a51777-8a0c-4993-b9bc-22eef22687c5",
   "metadata": {
    "tags": []
   },
   "outputs": [],
   "source": [
    "from SimCsstLens.LensPop.Population import LensPopulation\n",
    "from SimCsstLens import CosmologyDistance as CD\n",
    "import math\n",
    "import h5py\n",
    "import numpy as np \n",
    "from multiprocessing import Pool\n",
    "import os\n",
    "from astropy.table import Table, vstack\n",
    "\n",
    "this_cosmos = CD.CosmosDist(Om0=0.3, Ode0=0.7, h=0.7)\n",
    "lens_pop = LensPopulation(\n",
    "    vdisp_floor=100, \n",
    "    zl_max=2.0, \n",
    "    cosmo_dist=this_cosmos,\n",
    "    src_catalog_type='lsst',\n",
    "    bands=['g', 'r', 'i', 'z'],\n",
    ")\n",
    "sky_frac = 9.0/41252.96\n",
    "N_etgs = lens_pop.dfl_pop.number_of_etgs(sky_frac=sky_frac) #ideal lenses\n",
    "Nsamples_per_draw = 5000\n",
    "Ndraw = math.ceil(N_etgs/Nsamples_per_draw)"
   ]
  },
  {
   "cell_type": "code",
   "execution_count": 2,
   "id": "6562fd99-f019-4b5b-ae50-19ac1d5be82f",
   "metadata": {
    "tags": []
   },
   "outputs": [
    {
     "data": {
      "text/html": [
       "<div><i>Table length=5</i>\n",
       "<table id=\"table140123922542352\" class=\"table-striped table-bordered table-condensed\">\n",
       "<thead><tr><th>thetaE_s0</th><th>mass_s0</th><th>z_s0</th><th>re_s0</th><th>q_s0</th><th>pa_s0</th><th>x_s0</th><th>y_s0</th><th>mag_g_s0</th><th>mag_r_s0</th><th>mag_i_s0</th><th>mag_z_s0</th><th>vdisp_l</th><th>re_l</th><th>q_l</th><th>z_l</th><th>mag_g_l</th><th>mag_r_l</th><th>mag_i_l</th><th>mag_z_l</th><th>SNR_g</th><th>SNR_r</th><th>SNR_i</th><th>SNR_z</th><th>SNR_stack</th><th>best_band</th><th>mu</th><th>if_ring</th><th>if_obs_stack</th><th>if_obs_single</th><th>noise_seed</th></tr></thead>\n",
       "<thead><tr><th>float64</th><th>float64</th><th>float64</th><th>float64</th><th>float64</th><th>float64</th><th>float64</th><th>float64</th><th>float64</th><th>float64</th><th>float64</th><th>float64</th><th>float64</th><th>float64</th><th>float64</th><th>float64</th><th>float64</th><th>float64</th><th>float64</th><th>float64</th><th>float64</th><th>float64</th><th>float64</th><th>float64</th><th>float64</th><th>str1</th><th>float64</th><th>bool</th><th>bool</th><th>bool</th><th>int64</th></tr></thead>\n",
       "<tr><td>0.34654967935920145</td><td>28890342263.21468</td><td>0.8095</td><td>0.09701996081216313</td><td>0.6522624003814266</td><td>77.19658016364643</td><td>0.10697759955269898</td><td>-0.1348101644429451</td><td>25.8061</td><td>25.5448</td><td>24.8475</td><td>24.6583</td><td>152.5715256671548</td><td>0.5758979754401826</td><td>0.42632008956604706</td><td>0.3459937760977172</td><td>22.58589938414749</td><td>20.63553064011652</td><td>19.97824896979034</td><td>19.6037103868216</td><td>87.96799126643502</td><td>72.83147846295138</td><td>101.60521833466625</td><td>77.7448962702923</td><td>169.17728939537756</td><td>i</td><td>3.937739693064625</td><td>True</td><td>True</td><td>True</td><td>0</td></tr>\n",
       "<tr><td>0.2557068522821534</td><td>29079647537.00696</td><td>2.1366</td><td>0.037780093373152655</td><td>0.35251909574512363</td><td>74.17277626001191</td><td>0.18696460723977654</td><td>0.08581141893484165</td><td>27.523</td><td>27.6056</td><td>27.6722</td><td>27.6067</td><td>141.81106549973066</td><td>0.39878390678353187</td><td>0.4996854428055003</td><td>0.8806004717223257</td><td>28.042244719218807</td><td>25.266241907914956</td><td>24.015018470475493</td><td>22.792025961246477</td><td>21.264671740443973</td><td>15.316449226653688</td><td>11.314647273221146</td><td>7.375835447137116</td><td>27.515506677382643</td><td>g</td><td>2.1844944997751257</td><td>False</td><td>False</td><td>False</td><td>1</td></tr>\n",
       "<tr><td>0.3738327001582531</td><td>53231442397.31827</td><td>2.1788</td><td>1.2135559184982019</td><td>0.4680509090174003</td><td>37.061098401753476</td><td>0.32858310118097916</td><td>-0.1037231541219037</td><td>26.4399</td><td>26.5609</td><td>26.5627</td><td>26.1826</td><td>161.75715743821627</td><td>0.28313638045910544</td><td>0.9073631358777517</td><td>0.7822600972480143</td><td>26.692565426202428</td><td>24.297405589305292</td><td>22.890322311540718</td><td>21.98199879323414</td><td>4.664597731039863</td><td>3.22901234623794</td><td>2.6483985635694385</td><td>2.5327296160649286</td><td>6.50509006809372</td><td>g</td><td>1.4999421242437343</td><td>False</td><td>False</td><td>False</td><td>2</td></tr>\n",
       "<tr><td>0.7455501759359489</td><td>156332898231.25385</td><td>2.4373</td><td>0.07426816490162264</td><td>0.8090153964687051</td><td>179.9316575561918</td><td>0.6107874969789586</td><td>-0.13605541844986335</td><td>26.9317</td><td>26.9879</td><td>27.2505</td><td>27.1876</td><td>206.07659771385698</td><td>0.3023541177212386</td><td>0.8096571334510696</td><td>0.6146119873597595</td><td>23.90762956548182</td><td>22.013107353049342</td><td>20.647522806020806</td><td>20.067130586616518</td><td>32.58320049165174</td><td>24.368222044203044</td><td>15.566117832932</td><td>10.647992533911157</td><td>41.83170056833742</td><td>g</td><td>2.221986909503503</td><td>False</td><td>False</td><td>False</td><td>3</td></tr>\n",
       "<tr><td>0.46695473972695534</td><td>49188008819.938156</td><td>4.3409</td><td>0.3085054776019881</td><td>0.3619119600519518</td><td>91.80629425401443</td><td>0.14676374401541392</td><td>0.37055624087124306</td><td>28.3052</td><td>27.3211</td><td>26.9087</td><td>26.874</td><td>149.78875311676168</td><td>0.41188159237936367</td><td>0.7391351835442175</td><td>0.5527347056285474</td><td>24.680431727514705</td><td>22.839693754819542</td><td>21.60236063720239</td><td>21.04994608698747</td><td>3.858396872724322</td><td>7.23650190599813</td><td>8.393873809720139</td><td>5.74027926633498</td><td>12.776160809437483</td><td>i</td><td>2.9268067129270254</td><td>False</td><td>False</td><td>False</td><td>4</td></tr>\n",
       "</table></div>"
      ],
      "text/plain": [
       "<Table length=5>\n",
       "     thetaE_s0           mass_s0         z_s0         re_s0                 q_s0              pa_s0        ...         mu         if_ring if_obs_stack if_obs_single noise_seed\n",
       "      float64            float64       float64       float64              float64            float64       ...      float64         bool      bool          bool       int64   \n",
       "------------------- ------------------ ------- -------------------- ------------------- ------------------ ... ------------------ ------- ------------ ------------- ----------\n",
       "0.34654967935920145  28890342263.21468  0.8095  0.09701996081216313  0.6522624003814266  77.19658016364643 ...  3.937739693064625    True         True          True          0\n",
       " 0.2557068522821534  29079647537.00696  2.1366 0.037780093373152655 0.35251909574512363  74.17277626001191 ... 2.1844944997751257   False        False         False          1\n",
       " 0.3738327001582531  53231442397.31827  2.1788   1.2135559184982019  0.4680509090174003 37.061098401753476 ... 1.4999421242437343   False        False         False          2\n",
       " 0.7455501759359489 156332898231.25385  2.4373  0.07426816490162264  0.8090153964687051  179.9316575561918 ...  2.221986909503503   False        False         False          3\n",
       "0.46695473972695534 49188008819.938156  4.3409   0.3085054776019881  0.3619119600519518  91.80629425401443 ... 2.9268067129270254   False        False         False          4"
      ]
     },
     "execution_count": 2,
     "metadata": {},
     "output_type": "execute_result"
    }
   ],
   "source": [
    "current_dir = os.getcwd()\n",
    "def return_detected(count_draw, stack=False):\n",
    "    table = Table()\n",
    "\n",
    "    fn = h5py.File(f\"./samples/lenses_{count_draw}.hdf5\", \"r\")\n",
    "    src_thetaE = fn['source/thetaE'][()]\n",
    "    for ii in range(src_thetaE.shape[0]):\n",
    "        table[f'thetaE_s{ii}'] =  src_thetaE[ii, :]\n",
    "        table[f'mass_s{ii}'] = fn['source/einstein_mass'][()][ii, :]\n",
    "        table[f'z_s{ii}'] = fn['source']['z'][()][ii, :]\n",
    "        table[f're_s{ii}'] = fn['source']['Re'][()][ii, :]\n",
    "        table[f'q_s{ii}'] = fn['source']['q'][()][ii, :]\n",
    "        table[f'pa_s{ii}'] = fn['source']['pa'][()][ii, :]\n",
    "        table[f'x_s{ii}'] = fn['source']['xs'][()][ii, :]\n",
    "        table[f'y_s{ii}'] = fn['source']['ys'][()][ii, :]\n",
    "        table[f'mag_g_s{ii}'] = fn['source']['app_mag_g'][()][ii, :]\n",
    "        table[f'mag_r_s{ii}'] = fn['source']['app_mag_r'][()][ii, :]\n",
    "        table[f'mag_i_s{ii}'] = fn['source']['app_mag_i'][()][ii, :]\n",
    "        table[f'mag_z_s{ii}'] = fn['source']['app_mag_z'][()][ii, :]\n",
    "\n",
    "    table['vdisp_l'] = fn['deflector/vdisp'][()]\n",
    "    table['re_l'] = fn['deflector/Re'][()]\n",
    "    table['q_l']= fn['deflector/q'][()]\n",
    "    table['z_l'] = fn['deflector/z'][()]\n",
    "    table['mag_g_l'] = fn['deflector/app_mag_g'][()]\n",
    "    table['mag_r_l'] = fn['deflector/app_mag_r'][()]\n",
    "    table['mag_i_l'] = fn['deflector/app_mag_i'][()]\n",
    "    table['mag_z_l'] = fn['deflector/app_mag_z'][()]\n",
    "\n",
    "    SNR = fn['Obs/SNR'][()] #shape: [nsrc, nband, n_ideal_lens]\n",
    "    table['SNR_g'] = SNR[0,0,:]\n",
    "    table['SNR_r'] = SNR[0,1,:]\n",
    "    table['SNR_i'] = SNR[0,2,:]\n",
    "    table['SNR_z'] = SNR[0,3,:]\n",
    "    table['SNR_stack'] = SNR[0,-1,:]\n",
    "    SNR_griz = SNR[0,0:-1,:]\n",
    "    indices = np.argmax(SNR_griz, axis=0)\n",
    "    table['best_band'] = np.array(['g', 'r', 'i', 'z'])[indices] \n",
    "    \n",
    "    mu = fn['Obs/magnification'][()] #shape: [nsrc, nband, n_ideal_lens]\n",
    "    table['mu'] = mu[0,-1,:]\n",
    "    \n",
    "    ring_cond = fn['Obs/ring_cond'][()] #shape: [nsrc, nband, n_ideal_lenses]\n",
    "    table['if_ring'] = ring_cond[0,-1,:]\n",
    "\n",
    "    obs_cond = fn['Obs/detect_cond'][()] #shape: [nsrc, nband, n_ideal_lenses, 3]\n",
    "    \n",
    "    fn.close()\n",
    "\n",
    "\n",
    "    #stack band\n",
    "    this_obs_cond = obs_cond.astype('int')\n",
    "    this_obs_cond = this_obs_cond[0, -1, :, :] #src-0, band-stack, nlens, 3-condition\n",
    "    this_obs_cond = np.sum(this_obs_cond, axis=1) #shape: [nlens]\n",
    "    bool_cond = (this_obs_cond==3)\n",
    "    table['if_obs_stack'] = bool_cond\n",
    "        \n",
    "    #individual band\n",
    "    this_obs_cond = obs_cond.astype('int')\n",
    "    this_obs_cond = this_obs_cond[:, :-1, :, :] #remove stack band\n",
    "    cond = np.sum(this_obs_cond, axis=3)[0,:,:] #cond: [nband, nlens]\n",
    "    bool_cond = (cond==3).astype('int') #cond: [nband, nlens]\n",
    "    bool_cond = (np.sum(bool_cond, axis=0)>0) #bool_cond\" [nlens]\n",
    "    table['if_obs_single'] = bool_cond\n",
    "    \n",
    "    n_detect_lens = len(np.where(bool_cond)[0])\n",
    "    n_ideal_lens = src_thetaE.shape[1]\n",
    "    \n",
    "    table['noise_seed'] = np.arange(n_ideal_lens, dtype='int')\n",
    "    \n",
    "    return n_detect_lens, n_ideal_lens, table\n",
    "\n",
    "n_detect_lens, n_ideal_lens, table = return_detected(0, stack=True)\n",
    "table[0:5]"
   ]
  },
  {
   "cell_type": "code",
   "execution_count": 3,
   "id": "80ec12d2-2f44-4469-a4f1-f717e92d8312",
   "metadata": {
    "tags": []
   },
   "outputs": [],
   "source": [
    "pool = Pool(processes=64)\n",
    "vars = list(zip(list(range(Ndraw)), [True]*Ndraw))\n",
    "results = pool.starmap(return_detected, vars)\n",
    "\n",
    "n_detect_lens = [item[0] for item in results]\n",
    "n_ideal_lens = [item[1] for item in results]\n",
    "n_detect_lens = sum(n_detect_lens)\n",
    "n_ideal_lens = sum(n_ideal_lens)\n",
    "\n",
    "tables = [item[2] for item in results]\n",
    "stacked_table = vstack(tables)\n",
    "stacked_table.write('lens_samples.fits', overwrite=True)"
   ]
  },
  {
   "cell_type": "code",
   "execution_count": 4,
   "id": "724b16af-22bf-4f4f-b6c0-dc07e74eb72d",
   "metadata": {
    "tags": []
   },
   "outputs": [
    {
     "data": {
      "text/plain": [
       "2675"
      ]
     },
     "execution_count": 4,
     "metadata": {},
     "output_type": "execute_result"
    }
   ],
   "source": [
    "len(stacked_table)"
   ]
  },
  {
   "cell_type": "code",
   "execution_count": 5,
   "id": "27ff99e0-c292-47d0-8ad0-57ae55f4640c",
   "metadata": {
    "tags": []
   },
   "outputs": [
    {
     "data": {
      "text/plain": [
       "603"
      ]
     },
     "execution_count": 5,
     "metadata": {},
     "output_type": "execute_result"
    }
   ],
   "source": [
    "mask = stacked_table['if_obs_stack'].data\n",
    "table_detect = stacked_table[mask]\n",
    "table_detect.write(\"catalog_csv/csst_udf_stack.csv\")\n",
    "len(table_detect)"
   ]
  },
  {
   "cell_type": "code",
   "execution_count": 6,
   "id": "dd2deb81-0827-4f04-aa3f-f22c132f0d95",
   "metadata": {
    "tags": []
   },
   "outputs": [
    {
     "data": {
      "text/plain": [
       "520"
      ]
     },
     "execution_count": 6,
     "metadata": {},
     "output_type": "execute_result"
    }
   ],
   "source": [
    "mask = stacked_table['if_obs_single'].data\n",
    "table_detect = stacked_table[mask]\n",
    "table_detect.write(\"catalog_csv/csst_udf_single.csv\")\n",
    "len(table_detect)"
   ]
  },
  {
   "cell_type": "code",
   "execution_count": null,
   "id": "edd23620-c0b7-405f-abb1-29f4bde6da7e",
   "metadata": {},
   "outputs": [],
   "source": []
  }
 ],
 "metadata": {
  "kernelspec": {
   "display_name": "Python 3 (ipykernel)",
   "language": "python",
   "name": "python3"
  },
  "language_info": {
   "codemirror_mode": {
    "name": "ipython",
    "version": 3
   },
   "file_extension": ".py",
   "mimetype": "text/x-python",
   "name": "python",
   "nbconvert_exporter": "python",
   "pygments_lexer": "ipython3",
   "version": "3.11.3"
  }
 },
 "nbformat": 4,
 "nbformat_minor": 5
}
