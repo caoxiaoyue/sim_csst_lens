{
 "cells": [
  {
   "cell_type": "code",
   "execution_count": 1,
   "id": "89a51777-8a0c-4993-b9bc-22eef22687c5",
   "metadata": {
    "tags": []
   },
   "outputs": [],
   "source": [
    "from SimCsstLens.LensPop.Population import LensPopulation\n",
    "from SimCsstLens import CosmologyDistance as CD\n",
    "import math\n",
    "import h5py\n",
    "import numpy as np \n",
    "from multiprocessing import Pool\n",
    "import os\n",
    "from astropy.table import Table, vstack\n",
    "\n",
    "this_cosmos = CD.CosmosDist(Om0=0.3, Ode0=0.7, h=0.7)\n",
    "lens_pop = LensPopulation(\n",
    "    vdisp_floor=50, \n",
    "    zl_max=2.5, \n",
    "    cosmo_dist=this_cosmos,\n",
    "    src_catalog_type='lsst',\n",
    "    bands=['g', 'r', 'i', 'z'],\n",
    ")\n",
    "sky_frac = 17500.0/41252.96\n",
    "N_etgs = lens_pop.dfl_pop.number_of_etgs(sky_frac=sky_frac) #ideal lenses\n",
    "Nsamples_per_draw = 100000\n",
    "Ndraw = math.ceil(N_etgs/Nsamples_per_draw)"
   ]
  },
  {
   "cell_type": "code",
   "execution_count": 2,
   "id": "072c4e44",
   "metadata": {},
   "outputs": [
    {
     "data": {
      "text/plain": [
       "8991"
      ]
     },
     "execution_count": 2,
     "metadata": {},
     "output_type": "execute_result"
    }
   ],
   "source": [
    "Ndraw"
   ]
  },
  {
   "cell_type": "code",
   "execution_count": 3,
   "id": "6562fd99-f019-4b5b-ae50-19ac1d5be82f",
   "metadata": {
    "tags": []
   },
   "outputs": [
    {
     "name": "stdout",
     "output_type": "stream",
     "text": [
      "111 0 0 23\n"
     ]
    }
   ],
   "source": [
    "current_dir = os.getcwd()\n",
    "def return_detected(count_draw, stack=False):\n",
    "    table = Table()\n",
    "\n",
    "    fn = h5py.File(f\"./samples/lenses_{count_draw}.hdf5\", \"r\")\n",
    "    src_thetaE = fn['source/thetaE'][()] #shape: [nsrc, n_ideal_lens]\n",
    "    SNR = fn['Obs/SNR'][()] #shape: [nsrc, nband, n_ideal_lens]\n",
    "    mu = fn['Obs/magnification'][()] #shape: [nsrc, nband, n_ideal_lens]\n",
    "    ring_cond = fn['Obs/ring_cond'][()] #shape: [nsrc, nband, n_ideal_lenses]\n",
    "    obs_cond = fn['Obs/detect_cond'][()] #shape: [nsrc, nband, n_ideal_lenses, 3]\n",
    "    for ii in range(src_thetaE.shape[0]):\n",
    "        table[f'thetaE_s{ii}'] =  src_thetaE[ii, :]\n",
    "        table[f'mass_s{ii}'] = fn['source/einstein_mass'][()][ii, :]\n",
    "        table[f'z_s{ii}'] = fn['source']['z'][()][ii, :]\n",
    "        table[f're_s{ii}'] = fn['source']['Re'][()][ii, :]\n",
    "        table[f'q_s{ii}'] = fn['source']['q'][()][ii, :]\n",
    "        table[f'pa_s{ii}'] = fn['source']['pa'][()][ii, :]\n",
    "        table[f'x_s{ii}'] = fn['source']['xs'][()][ii, :]\n",
    "        table[f'y_s{ii}'] = fn['source']['ys'][()][ii, :]\n",
    "        table[f'mag_g_s{ii}'] = fn['source']['app_mag_g'][()][ii, :]\n",
    "        table[f'mag_r_s{ii}'] = fn['source']['app_mag_r'][()][ii, :]\n",
    "        table[f'mag_i_s{ii}'] = fn['source']['app_mag_i'][()][ii, :]\n",
    "        table[f'mag_z_s{ii}'] = fn['source']['app_mag_z'][()][ii, :]\n",
    "\n",
    "        table[f'SNR_g{ii}'] = SNR[ii,0,:] #shape: [n_ideal_lens]\n",
    "        table[f'SNR_r{ii}'] = SNR[ii,1,:]\n",
    "        table[f'SNR_i{ii}'] = SNR[ii,2,:]\n",
    "        table[f'SNR_z{ii}'] = SNR[ii,3,:]\n",
    "        table[f'SNR_stack{ii}'] = SNR[ii,-1,:]\n",
    "\n",
    "        SNR_griz = SNR[ii,0:-1,:] #shape: [4-color, n_ideal_lens]\n",
    "        indices = np.argmax(SNR_griz, axis=0)\n",
    "        table[f'best_band{ii}'] = np.array(['g', 'r', 'i', 'z'])[indices] \n",
    "        \n",
    "        table[f'mu{ii}'] = mu[ii,-1,:] #shape: [n_ideal_lens]\n",
    "        table[f'if_ring{ii}'] = ring_cond[ii,-1,:]\n",
    "\n",
    "        #stack detection condition\n",
    "        this_obs_cond = obs_cond.astype('int') #shape: [nsrc, nband, n_ideal_lenses, 3]\n",
    "        this_obs_cond = this_obs_cond[ii, -1, :, :] #src-ii, band-stack, shape: [n_ideal_lens, 3-condition]\n",
    "        this_obs_cond = np.sum(this_obs_cond, axis=1) #shape: [n_ideal_lens]\n",
    "        bool_cond = (this_obs_cond==3)\n",
    "        table[f'if_obs_stack{ii}'] = bool_cond #shape: [n_ideal_lens]\n",
    "\n",
    "        #individual band\n",
    "        this_obs_cond = obs_cond.astype('int')\n",
    "        this_obs_cond = this_obs_cond[:, :-1, :, :] #remove stack band; shape: [nsrc, n_single_nband, n_ideal_lenses, 3-condition]\n",
    "        cond = np.sum(this_obs_cond, axis=3)[ii,:,:] #detection condition for ii-th source: [nband, nlens]\n",
    "        bool_cond = (cond==3).astype('int') #cond: [nband, n_ideal_lens]\n",
    "        bool_cond = (np.sum(bool_cond, axis=0)>0) #bool_cond\" [n_ideal_lens]\n",
    "        table[f'if_obs_single{ii}'] = bool_cond\n",
    "\n",
    "    table['vdisp_l'] = fn['deflector/vdisp'][()] #shape: [n_ideal_lens]\n",
    "    table['re_l'] = fn['deflector/Re'][()]\n",
    "    table['q_l']= fn['deflector/q'][()]\n",
    "    table['z_l'] = fn['deflector/z'][()]\n",
    "    table['mag_g_l'] = fn['deflector/app_mag_g'][()]\n",
    "    table['mag_r_l'] = fn['deflector/app_mag_r'][()]\n",
    "    table['mag_i_l'] = fn['deflector/app_mag_i'][()]\n",
    "    table['mag_z_l'] = fn['deflector/app_mag_z'][()]\n",
    "\n",
    "    fn.close()\n",
    "\n",
    "    detect_conds = [table[f'if_obs_stack{i}'].data for i in range(src_thetaE.shape[0])] \n",
    "    detect_conds = np.vstack(detect_conds) #shape: [nsrc, n_ideal_lens]\n",
    "    n_single_src_lens = np.count_nonzero(detect_conds.sum(axis=0)==1)\n",
    "    n_double_src_lens = np.count_nonzero(detect_conds.sum(axis=0)==2)\n",
    "    n_ideal_lens = src_thetaE.shape[1]\n",
    "    table['noise_seed'] = np.arange(n_ideal_lens, dtype='int')\n",
    "    \n",
    "    return n_single_src_lens, n_double_src_lens, n_ideal_lens, table\n",
    "\n",
    "n_single_src_lens, n_double_src_lens, n_ideal_lens, table = return_detected(0, stack=True)\n",
    "print('111', n_single_src_lens, n_double_src_lens, n_ideal_lens)"
   ]
  },
  {
   "cell_type": "code",
   "execution_count": 4,
   "id": "80ec12d2-2f44-4469-a4f1-f717e92d8312",
   "metadata": {
    "tags": []
   },
   "outputs": [
    {
     "name": "stdout",
     "output_type": "stream",
     "text": [
      "results 12643 245 172509\n",
      "0.07328892985293521\n",
      "0.01937831210946769 51.60408163265306\n"
     ]
    }
   ],
   "source": [
    "pool = Pool(processes=128)\n",
    "vars = list(zip(list(range(Ndraw)), [True]*Ndraw))\n",
    "results = pool.starmap(return_detected, vars)\n",
    "\n",
    "n_single_src_lens = [item[0] for item in results]\n",
    "n_double_src_lens = [item[1] for item in results]\n",
    "n_ideal_lens = [item[2] for item in results]\n",
    "\n",
    "n_single_src_lens = sum(n_single_src_lens)\n",
    "n_double_src_lens = sum(n_double_src_lens)\n",
    "n_ideal_lens = sum(n_ideal_lens)\n",
    "\n",
    "tables = [item[3] for item in results]\n",
    "stacked_table = vstack(tables)\n",
    "\n",
    "print('results', n_single_src_lens, n_double_src_lens, n_ideal_lens)\n",
    "print(n_single_src_lens/n_ideal_lens)\n",
    "print(n_double_src_lens/n_single_src_lens, n_single_src_lens/n_double_src_lens)"
   ]
  },
  {
   "cell_type": "code",
   "execution_count": 5,
   "id": "22c7032c",
   "metadata": {},
   "outputs": [
    {
     "name": "stdout",
     "output_type": "stream",
     "text": [
      "13.644625484457803 704.1183673469387\n"
     ]
    }
   ],
   "source": [
    "print(n_ideal_lens/n_single_src_lens, n_ideal_lens/n_double_src_lens)"
   ]
  },
  {
   "cell_type": "code",
   "execution_count": 11,
   "id": "a3242cef",
   "metadata": {},
   "outputs": [
    {
     "name": "stdout",
     "output_type": "stream",
     "text": [
      "6592 6541 12888 245\n"
     ]
    }
   ],
   "source": [
    "mask0 = stacked_table['if_obs_stack0'].data\n",
    "table_detect0 = stacked_table[mask0]\n",
    "\n",
    "mask1 = stacked_table['if_obs_stack1'].data\n",
    "table_detect1 = stacked_table[mask1]\n",
    "\n",
    "mask_one = (stacked_table['if_obs_stack0'].data | stacked_table['if_obs_stack1'].data)\n",
    "table_detect_one = stacked_table[mask_one]\n",
    "\n",
    "mask_two = (stacked_table['if_obs_stack0'].data & stacked_table['if_obs_stack1'].data)\n",
    "table_detect_two = stacked_table[mask_two]\n",
    "\n",
    "print(len(table_detect0), len(table_detect1), len(table_detect_one), len(table_detect_two))\n",
    "table_detect_two.write(\"catalog_csv/csst_double_src_wf_stack.csv\", overwrite=True)"
   ]
  },
  {
   "cell_type": "code",
   "execution_count": 12,
   "id": "25e0b281",
   "metadata": {},
   "outputs": [
    {
     "name": "stdout",
     "output_type": "stream",
     "text": [
      "3230 3193 6355 68\n"
     ]
    }
   ],
   "source": [
    "mask0 = stacked_table['if_obs_single0'].data\n",
    "table_detect0 = stacked_table[mask0]\n",
    "\n",
    "mask1 = stacked_table['if_obs_single1'].data\n",
    "table_detect1 = stacked_table[mask1]\n",
    "\n",
    "mask_one = (stacked_table['if_obs_single0'].data | stacked_table['if_obs_single1'].data)\n",
    "table_detect_one = stacked_table[mask_one]\n",
    "\n",
    "mask_two = (stacked_table['if_obs_single0'].data & stacked_table['if_obs_single1'].data)\n",
    "table_detect_two = stacked_table[mask_two]\n",
    "\n",
    "print(len(table_detect0), len(table_detect1), len(table_detect_one), len(table_detect_two))\n",
    "table_detect_two.write(\"catalog_csv/csst_double_src_wf_single.csv\", overwrite=True)"
   ]
  },
  {
   "cell_type": "code",
   "execution_count": null,
   "id": "80c03c7a",
   "metadata": {},
   "outputs": [],
   "source": []
  }
 ],
 "metadata": {
  "kernelspec": {
   "display_name": "Python 3 (ipykernel)",
   "language": "python",
   "name": "python3"
  },
  "language_info": {
   "codemirror_mode": {
    "name": "ipython",
    "version": 3
   },
   "file_extension": ".py",
   "mimetype": "text/x-python",
   "name": "python",
   "nbconvert_exporter": "python",
   "pygments_lexer": "ipython3",
   "version": "3.12.3"
  }
 },
 "nbformat": 4,
 "nbformat_minor": 5
}
