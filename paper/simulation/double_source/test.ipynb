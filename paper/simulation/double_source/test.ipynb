{
 "cells": [
  {
   "cell_type": "code",
   "execution_count": 2,
   "id": "89a51777-8a0c-4993-b9bc-22eef22687c5",
   "metadata": {
    "tags": []
   },
   "outputs": [],
   "source": [
    "from SimCsstLens.LensPop.Population import LensPopulation\n",
    "from SimCsstLens import CosmologyDistance as CD\n",
    "import math\n",
    "import h5py\n",
    "import numpy as np \n",
    "from multiprocessing import Pool\n",
    "import os\n",
    "from astropy.table import Table, vstack\n",
    "\n",
    "this_cosmos = CD.CosmosDist(Om0=0.3, Ode0=0.7, h=0.7)\n",
    "lens_pop = LensPopulation(\n",
    "    vdisp_floor=50, \n",
    "    zl_max=2.5, \n",
    "    cosmo_dist=this_cosmos,\n",
    "    src_catalog_type='lsst',\n",
    "    bands=['g', 'r', 'i', 'z'],\n",
    ")\n",
    "sky_frac = 17500.0/41252.96\n",
    "N_etgs = lens_pop.dfl_pop.number_of_etgs(sky_frac=sky_frac) #ideal lenses\n",
    "Nsamples_per_draw = 500000\n",
    "Ndraw = math.ceil(N_etgs/Nsamples_per_draw)"
   ]
  },
  {
   "cell_type": "code",
   "execution_count": 3,
   "id": "6562fd99-f019-4b5b-ae50-19ac1d5be82f",
   "metadata": {
    "tags": []
   },
   "outputs": [],
   "source": [
    "import h5py\n",
    "import numpy as np \n",
    "from multiprocessing import Pool\n",
    "import os\n",
    "\n",
    "current_dir = os.getcwd()\n",
    "def return_detected(count_draw, stack=False):\n",
    "    fn = h5py.File(f\"{current_dir}/samples/lenses_{count_draw}.hdf5\", \"r\")\n",
    "    src_z = fn['source/z'][()]\n",
    "    src_Re = fn['source/Re'][()]\n",
    "    src_q = fn['source/q'][()]\n",
    "    src_pa = fn['source/pa'][()]\n",
    "    src_app_mag_g = fn['source/app_mag_g'][()]\n",
    "    src_app_mag_r = fn['source/app_mag_r'][()]\n",
    "    src_app_mag_i = fn['source/app_mag_i'][()]\n",
    "    src_thetaE = fn['source/thetaE'][()]\n",
    "\n",
    "    obs_cond = fn['Obs/detect_cond'][()] #shape: [nsrc, nband, n_ideal_lenses, 3]\n",
    "    SNR = fn['Obs/SNR'][()] #shape: [nsrc, nband, n_ideal_lens]\n",
    "    mu_arr = fn['Obs/magnification'][()] #shape: [nsrc, nband, n_ideal_lens]\n",
    "    ring_cond = fn['Obs/ring_cond'][()] #shape: [nsrc, nband, n_ideal_lenses]\n",
    "\n",
    "    fn.close()\n",
    "\n",
    "    n_ideal_lens = src_thetaE.shape[1]\n",
    "\n",
    "    # #src 0 and 1\n",
    "    if stack:\n",
    "        #stack band\n",
    "        this_obs_cond = obs_cond.astype('int') #src, band-stack, nlens, 3-condition\n",
    "        this_obs_cond = this_obs_cond[:, -1, :, :] #only use the stack band\n",
    "        this_obs_cond = np.sum(this_obs_cond, axis=2) #shape: [nsrc, nlens]\n",
    "        bool_cond = (this_obs_cond==3) #shape: [nsrc, nlens]\n",
    "        bool_cond = (np.sum(bool_cond.astype('int'), axis=0)==2) #shape: [nlens]\n",
    "    else:\n",
    "        #individual band\n",
    "        this_obs_cond = obs_cond.astype('int')\n",
    "        this_obs_cond = this_obs_cond[:, :-1, :, :] #remove stack band\n",
    "        this_obs_cond = np.sum(this_obs_cond, axis=3) #shape: [nsrc , nbands, nlens]\n",
    "        bool_cond = (this_obs_cond==3) #shape: [nsrc , nbands, nlens]\n",
    "        bool_cond = (np.sum(bool_cond.astype('int'), axis=0)==2) #shape: [nbands, nlens]\n",
    "        bool_cond = np.sum(bool_cond.astype('int'), axis=0)>0 #shape: [nlens]\n",
    "        \n",
    "#     print(SNR.shape)\n",
    "#     print(SNR[0, :, bool_cond].shape)\n",
    "\n",
    "    n_detect_lens = len(np.where(bool_cond)[0])\n",
    "    return n_detect_lens, n_ideal_lens, SNR[0, :, bool_cond], mu_arr[0, -1, bool_cond], ring_cond[0, -1, bool_cond], obs_cond\n",
    "\n",
    "n_detect_lens, n_ideal_lens, snr, mu, ring_cond, obs_cond = return_detected(0, stack=True)"
   ]
  },
  {
   "cell_type": "code",
   "execution_count": 4,
   "id": "81e990a4",
   "metadata": {},
   "outputs": [
    {
     "name": "stdout",
     "output_type": "stream",
     "text": [
      "0 73\n"
     ]
    }
   ],
   "source": [
    "print(n_detect_lens, n_ideal_lens)"
   ]
  },
  {
   "cell_type": "code",
   "execution_count": 5,
   "id": "80ec12d2-2f44-4469-a4f1-f717e92d8312",
   "metadata": {
    "tags": []
   },
   "outputs": [
    {
     "name": "stdout",
     "output_type": "stream",
     "text": [
      "----------rate----------------\n",
      "ideal lensing rate of early type galaxy: 0.01%, == 113675/899037691.0961848\n",
      "ideal lenses detectable rate: 0.13%\n",
      "rate of a lens is ring-like: 38.51%\n",
      "14.31% of ideal lenses are not detectable partially due to *resolved image condition*\n",
      "57.44% of ideal lenses are not detectable partially due to *tangential arc condition*\n",
      "93.18% of ideal lenses are not detectable partially due to *lacking enough SNR*\n",
      "------------------------------\n",
      "\n",
      "----------lenses number----------------\n",
      "n lenses whole survey 147.99999551755687\n",
      "n ring-like lenses whole survey 56.99999827365366\n",
      "------------------------------\n"
     ]
    }
   ],
   "source": [
    "pool = Pool(processes=24)\n",
    "vars = list(zip(list(range(Ndraw)), [True]*Ndraw))\n",
    "results = pool.starmap(return_detected, vars)\n",
    "\n",
    "n_detect_lens = [item[0] for item in results]\n",
    "n_ideal_lens = [item[1] for item in results]\n",
    "snr = [item[2] for item in results]\n",
    "mu = [item[3] for item in results]\n",
    "ring_cond = [item[4] for item in results]\n",
    "obs_cond = [item[5] for item in results]\n",
    "\n",
    "n_detect_lens = sum(n_detect_lens)\n",
    "n_ideal_lens = sum(n_ideal_lens)\n",
    "snr_stack_false = np.concatenate(snr, axis=0)\n",
    "mu = np.concatenate(mu, axis=0)\n",
    "ring_cond = np.concatenate(ring_cond, axis=0)\n",
    "obs_cond = np.concatenate(obs_cond, axis=2)\n",
    "\n",
    "etg_lensing_rate = n_ideal_lens / N_etgs\n",
    "detect_rate_of_ideal_lens = n_detect_lens / n_ideal_lens\n",
    "ring_lenses_rate = len(np.where(ring_cond)[0])/n_detect_lens\n",
    "N_non_resolved_lenses = len(np.where(~obs_cond[0, -1, :, 0])[0])\n",
    "N_non_tangent_arc_lenses = len(np.where(~obs_cond[0, -1, :, 1])[0])\n",
    "N_lack_snr_lenses = len(np.where(~obs_cond[0, -1, :, 2])[0])\n",
    "\n",
    "print('----------rate----------------')\n",
    "print(f'ideal lensing rate of early type galaxy: {etg_lensing_rate:.2%}, == {n_ideal_lens}/{N_etgs}')\n",
    "print(f'ideal lenses detectable rate: {detect_rate_of_ideal_lens:.2%}')\n",
    "print(f'rate of a lens is ring-like: {ring_lenses_rate:.2%}')\n",
    "print(f'{(N_non_resolved_lenses/n_ideal_lens):.2%} of ideal lenses are not detectable partially due to *resolved image condition*')\n",
    "print(f'{(N_non_tangent_arc_lenses/n_ideal_lens):.2%} of ideal lenses are not detectable partially due to *tangential arc condition*')\n",
    "print(f'{(N_lack_snr_lenses/n_ideal_lens):.2%} of ideal lenses are not detectable partially due to *lacking enough SNR*')\n",
    "print('------------------------------')\n",
    "print()\n",
    "\n",
    "from SimCsstLens.SimLensImage.MockSurvey import MockSurvey\n",
    "survey = MockSurvey(config_path=f'.', config_file='csst_setting.yaml')\n",
    "factor = survey.survey_sky_frac/sky_frac\n",
    "observed_lens_survey = n_detect_lens*factor\n",
    "print('----------lenses number----------------')\n",
    "print(\"n lenses whole survey\", observed_lens_survey)\n",
    "print(\"n ring-like lenses whole survey\", observed_lens_survey*ring_lenses_rate)\n",
    "print('------------------------------')"
   ]
  },
  {
   "cell_type": "code",
   "execution_count": 11,
   "id": "25e0b281",
   "metadata": {},
   "outputs": [
    {
     "name": "stdout",
     "output_type": "stream",
     "text": [
      "4384 4293 8529 148\n"
     ]
    }
   ],
   "source": [
    "\"\"\"\n",
    "mask0 = stacked_table['if_obs_stack0'].data\n",
    "table_detect0 = stacked_table[mask0]\n",
    "\n",
    "mask1 = stacked_table['if_obs_stack1'].data\n",
    "table_detect1 = stacked_table[mask1]\n",
    "\n",
    "mask_one = (stacked_table['if_obs_stack0'].data | stacked_table['if_obs_stack1'].data)\n",
    "table_detect_one = stacked_table[mask_one]\n",
    "\n",
    "mask_two = (stacked_table['if_obs_stack0'].data & stacked_table['if_obs_stack1'].data)\n",
    "table_detect_two = stacked_table[mask_two]\n",
    "\n",
    "print(len(table_detect0), len(table_detect1), len(table_detect_one), len(table_detect_two))\n",
    "\"\"\""
   ]
  },
  {
   "cell_type": "code",
   "execution_count": 13,
   "id": "8f901730",
   "metadata": {},
   "outputs": [
    {
     "data": {
      "text/html": [
       "<div><i>Table length=148</i>\n",
       "<table id=\"table140559795242912\" class=\"table-striped table-bordered table-condensed\">\n",
       "<thead><tr><th>thetaE_s0</th><th>mass_s0</th><th>z_s0</th><th>re_s0</th><th>q_s0</th><th>pa_s0</th><th>x_s0</th><th>y_s0</th><th>mag_g_s0</th><th>mag_r_s0</th><th>mag_i_s0</th><th>mag_z_s0</th><th>SNR_g0</th><th>SNR_r0</th><th>SNR_i0</th><th>SNR_z0</th><th>SNR_stack0</th><th>best_band0</th><th>mu0</th><th>if_ring0</th><th>if_obs_stack0</th><th>if_obs_single0</th><th>thetaE_s1</th><th>mass_s1</th><th>z_s1</th><th>re_s1</th><th>q_s1</th><th>pa_s1</th><th>x_s1</th><th>y_s1</th><th>mag_g_s1</th><th>mag_r_s1</th><th>mag_i_s1</th><th>mag_z_s1</th><th>SNR_g1</th><th>SNR_r1</th><th>SNR_i1</th><th>SNR_z1</th><th>SNR_stack1</th><th>best_band1</th><th>mu1</th><th>if_ring1</th><th>if_obs_stack1</th><th>if_obs_single1</th><th>vdisp_l</th><th>re_l</th><th>q_l</th><th>z_l</th><th>mag_g_l</th><th>mag_r_l</th><th>mag_i_l</th><th>mag_z_l</th><th>noise_seed</th></tr></thead>\n",
       "<thead><tr><th>float64</th><th>float64</th><th>float64</th><th>float64</th><th>float64</th><th>float64</th><th>float64</th><th>float64</th><th>float64</th><th>float64</th><th>float64</th><th>float64</th><th>float64</th><th>float64</th><th>float64</th><th>float64</th><th>float64</th><th>str1</th><th>float64</th><th>bool</th><th>bool</th><th>bool</th><th>float64</th><th>float64</th><th>float64</th><th>float64</th><th>float64</th><th>float64</th><th>float64</th><th>float64</th><th>float64</th><th>float64</th><th>float64</th><th>float64</th><th>float64</th><th>float64</th><th>float64</th><th>float64</th><th>float64</th><th>str1</th><th>float64</th><th>bool</th><th>bool</th><th>bool</th><th>float64</th><th>float64</th><th>float64</th><th>float64</th><th>float64</th><th>float64</th><th>float64</th><th>float64</th><th>int64</th></tr></thead>\n",
       "<tr><td>1.0197665942543468</td><td>482066993197.0103</td><td>1.1425</td><td>0.1680661134517104</td><td>0.7180466100822196</td><td>55.06615266608102</td><td>-0.1785185502260828</td><td>-0.2695422081125793</td><td>25.7121</td><td>25.1161</td><td>24.7512</td><td>24.1066</td><td>12.563789077337956</td><td>16.13737176265859</td><td>16.9185926478917</td><td>19.278290634708878</td><td>32.58487539217718</td><td>z</td><td>6.877790696972994</td><td>True</td><td>True</td><td>False</td><td>0.677691491673668</td><td>320360268268.24963</td><td>0.8923</td><td>0.2615256607794205</td><td>0.526711380791733</td><td>132.58706362521164</td><td>0.1903277729647986</td><td>-0.5563294993205314</td><td>23.6139</td><td>23.2062</td><td>22.525</td><td>22.1234</td><td>37.83780766203311</td><td>40.71184989509612</td><td>55.84049371543675</td><td>51.65893751888107</td><td>93.21156029398053</td><td>i</td><td>3.1346298954286724</td><td>False</td><td>True</td><td>True</td><td>308.24015442037313</td><td>0.7181244862710964</td><td>0.6508934616880845</td><td>0.6251051370148925</td><td>22.130224682710733</td><td>20.218490878702752</td><td>18.829265000135003</td><td>18.241501806527246</td><td>41</td></tr>\n",
       "<tr><td>1.599132578852834</td><td>506354736733.8201</td><td>2.034</td><td>0.045646056191220565</td><td>0.44028061863017565</td><td>83.66888909422329</td><td>-0.1273995894775506</td><td>-1.3277777279671719</td><td>27.17</td><td>27.2756</td><td>27.1903</td><td>26.9684</td><td>15.924568293290886</td><td>10.982304872246807</td><td>9.341652003518126</td><td>7.33493324073846</td><td>21.675119719523636</td><td>g</td><td>10.26628136041342</td><td>True</td><td>True</td><td>False</td><td>1.5774739158557014</td><td>499496664585.8641</td><td>1.9256</td><td>0.024027296990594034</td><td>0.6622021608733757</td><td>32.426275613869024</td><td>0.1062540964435713</td><td>1.0798396428714152</td><td>26.8744</td><td>26.9018</td><td>26.8563</td><td>26.6146</td><td>19.293889379362778</td><td>13.977076902193142</td><td>11.292119782809493</td><td>8.754112705584976</td><td>26.52312202974295</td><td>g</td><td>7.4319067823346465</td><td>True</td><td>True</td><td>False</td><td>282.04855227675466</td><td>0.6258051970311556</td><td>0.23287250877082422</td><td>0.40942678532295507</td><td>20.568063105229744</td><td>18.63049988562655</td><td>17.88328609057151</td><td>17.425055142225233</td><td>3</td></tr>\n",
       "<tr><td>0.9787916956505031</td><td>232954397852.24228</td><td>2.2374</td><td>0.15944204242707624</td><td>0.41089374460859895</td><td>87.71948079948501</td><td>0.06442160552804843</td><td>-0.4678960761535167</td><td>24.9348</td><td>24.9591</td><td>25.0216</td><td>24.9595</td><td>23.112574335027137</td><td>17.682929403087062</td><td>13.368271039485732</td><td>9.262838963915923</td><td>31.624789051323013</td><td>g</td><td>5.420996745552729</td><td>False</td><td>True</td><td>True</td><td>0.9806187793986718</td><td>233389247469.65485</td><td>2.252</td><td>0.041723096480049265</td><td>0.7481824376709152</td><td>16.675077102345796</td><td>0.10329945747830319</td><td>0.2977483203802469</td><td>26.4803</td><td>26.5486</td><td>26.6255</td><td>26.6623</td><td>19.242073293176297</td><td>14.099438071893985</td><td>10.38572232639351</td><td>6.456578464271218</td><td>25.247749785075122</td><td>g</td><td>6.271573216499264</td><td>False</td><td>True</td><td>False</td><td>229.03457340022374</td><td>0.5492102688972984</td><td>0.9815060268835816</td><td>0.5167900660378532</td><td>22.59046773681445</td><td>20.74764629389524</td><td>19.611437754495302</td><td>19.07921240054356</td><td>16</td></tr>\n",
       "<tr><td>1.226467664278539</td><td>230329621884.80832</td><td>1.9885</td><td>0.056238733719484665</td><td>0.795244525506495</td><td>157.73557969096908</td><td>0.04008236009473929</td><td>-0.19469460649170026</td><td>26.6525</td><td>26.703</td><td>26.7854</td><td>26.7383</td><td>25.230381167688375</td><td>17.245194199502535</td><td>12.397895737487556</td><td>8.364405491545511</td><td>31.17155500103302</td><td>g</td><td>18.29989995996854</td><td>True</td><td>True</td><td>True</td><td>1.0883826986555465</td><td>204397378543.82327</td><td>1.2219</td><td>0.08350611522767896</td><td>0.705145570028817</td><td>162.01484883365757</td><td>0.3705001258632565</td><td>-0.40426412776269716</td><td>24.824</td><td>24.8874</td><td>24.8188</td><td>24.3273</td><td>33.578777939215996</td><td>23.8188347615846</td><td>19.964081977414796</td><td>20.00130713918043</td><td>48.11962965053701</td><td>g</td><td>3.687992412752993</td><td>False</td><td>True</td><td>True</td><td>236.67800210062947</td><td>0.6232199919338075</td><td>0.7563348820828112</td><td>0.31338588429402725</td><td>20.41383492809969</td><td>18.568986746981178</td><td>17.929533264065316</td><td>17.58729561345277</td><td>24</td></tr>\n",
       "<tr><td>1.088078860426324</td><td>253793074429.81952</td><td>1.7337</td><td>0.25967956092127115</td><td>0.8189641005880531</td><td>15.607814262904649</td><td>0.019525065899577296</td><td>0.10240200926801817</td><td>25.5676</td><td>25.7011</td><td>25.4815</td><td>25.3134</td><td>15.703612073119833</td><td>10.2578760640999</td><td>9.836708691653783</td><td>7.4519110794223575</td><td>21.300248153897464</td><td>g</td><td>9.890163090135678</td><td>True</td><td>True</td><td>False</td><td>0.43730326365579403</td><td>102000455829.01282</td><td>0.6048</td><td>0.013210206109974795</td><td>0.7308097296418683</td><td>77.01245618623773</td><td>-0.009284491385513327</td><td>0.14939378526390448</td><td>28.4849</td><td>27.1514</td><td>26.4957</td><td>26.2753</td><td>11.381252974483395</td><td>20.59075815374305</td><td>24.831236719081243</td><td>18.665157159880213</td><td>38.45972780881472</td><td>i</td><td>15.547357881226716</td><td>True</td><td>True</td><td>True</td><td>239.56270719603458</td><td>1.0508336607842659</td><td>0.6269608444442152</td><td>0.42401379604562217</td><td>21.420782833164832</td><td>19.49632057624528</td><td>18.710413642129783</td><td>18.234830941267596</td><td>52</td></tr>\n",
       "<tr><td>0.5745564629738706</td><td>125344709445.53087</td><td>1.7692</td><td>0.029832584107955716</td><td>0.6269044902989569</td><td>102.03380902030288</td><td>0.2069726260133156</td><td>-0.10275426112173242</td><td>26.7488</td><td>26.8367</td><td>26.5923</td><td>26.4751</td><td>14.261438148525054</td><td>10.195002326625012</td><td>9.579227887030328</td><td>6.610050450412741</td><td>20.443304290360548</td><td>g</td><td>4.0523952382192965</td><td>False</td><td>True</td><td>False</td><td>0.7057774175110396</td><td>153971752181.23264</td><td>2.7504</td><td>0.07269646335505085</td><td>0.9342075013177682</td><td>173.75278518913112</td><td>0.08134547082880247</td><td>0.1271449041682067</td><td>26.6055</td><td>26.261</td><td>26.5935</td><td>26.6727</td><td>16.046212266810926</td><td>16.802092836321847</td><td>10.203257897298585</td><td>6.176545974101343</td><td>24.841316717748693</td><td>r</td><td>9.871879742777953</td><td>True</td><td>True</td><td>False</td><td>204.15109510611413</td><td>0.27738441320039553</td><td>0.5739173032076389</td><td>0.7049759071165579</td><td>24.93059766582748</td><td>22.905181248063222</td><td>21.351092962906353</td><td>20.662548170974308</td><td>51</td></tr>\n",
       "<tr><td>2.31172134033958</td><td>465887936571.3054</td><td>0.7022</td><td>0.07028558489067188</td><td>0.4591564049279707</td><td>22.254288089413553</td><td>0.07905358334174432</td><td>-0.5151121691076078</td><td>26.5008</td><td>26.1448</td><td>25.5758</td><td>25.4902</td><td>15.357529906007258</td><td>12.34485299054766</td><td>15.328978221206642</td><td>10.782361171479616</td><td>26.420420971724777</td><td>g</td><td>16.71831305561432</td><td>True</td><td>True</td><td>False</td><td>2.1514783487613824</td><td>433593699634.68005</td><td>0.5564</td><td>0.11146915842607096</td><td>0.645212574023242</td><td>106.25750026558688</td><td>0.5324694556279075</td><td>0.45996724405472766</td><td>26.1769</td><td>25.1597</td><td>24.5872</td><td>24.3368</td><td>6.848264762051349</td><td>10.375744500134806</td><td>13.119122612592326</td><td>10.752365905539143</td><td>21.01947198725177</td><td>i</td><td>4.432706309506097</td><td>False</td><td>True</td><td>False</td><td>325.85924951046275</td><td>1.9292074884296704</td><td>0.6612394048238752</td><td>0.14889492151308006</td><td>16.01290964637978</td><td>14.77483388983838</td><td>14.321274146969547</td><td>14.018280718343675</td><td>23</td></tr>\n",
       "<tr><td>0.31241199143672715</td><td>30212106114.941143</td><td>0.7497</td><td>0.09272485393934321</td><td>0.611904980780795</td><td>116.71549083182921</td><td>0.05638035026830042</td><td>0.09029266479280496</td><td>27.183</td><td>25.6223</td><td>24.5051</td><td>24.0143</td><td>5.872333428518767</td><td>15.394179686494079</td><td>30.4512692235926</td><td>30.051620937167026</td><td>43.29562392499872</td><td>i</td><td>5.7185127233790105</td><td>True</td><td>True</td><td>True</td><td>0.393143535404394</td><td>38019328756.931725</td><td>0.9952</td><td>0.04892085040589141</td><td>0.6258381610857473</td><td>23.364680858707978</td><td>-0.03485146218433138</td><td>0.051606530667944205</td><td>27.1679</td><td>26.8659</td><td>26.3036</td><td>25.7778</td><td>14.38188342338235</td><td>12.874512915699501</td><td>15.928215342176397</td><td>16.05590610230472</td><td>29.513554609326885</td><td>z</td><td>12.072438600373927</td><td>True</td><td>True</td><td>False</td><td>158.5511942303851</td><td>0.47413947271612217</td><td>0.8157379661783901</td><td>0.3871810789585527</td><td>22.893354786923624</td><td>20.93684933903245</td><td>20.237041655692103</td><td>19.80425856232367</td><td>50</td></tr>\n",
       "<tr><td>0.9154435796599336</td><td>175746459346.65762</td><td>1.642</td><td>0.25813129232237075</td><td>0.37787572703180705</td><td>39.09534255736434</td><td>0.22049051982406542</td><td>0.19965792938559676</td><td>24.537</td><td>24.6404</td><td>24.6704</td><td>24.6424</td><td>31.23595874500317</td><td>21.11423840231382</td><td>16.260718955806464</td><td>10.890797744465244</td><td>39.13452717378712</td><td>g</td><td>7.314807059337717</td><td>True</td><td>True</td><td>True</td><td>0.7819468944715261</td><td>150117823920.43787</td><td>1.1294</td><td>0.04091053094734352</td><td>0.670109821495523</td><td>142.16485388154933</td><td>0.07873161132192383</td><td>-0.36476845205231556</td><td>26.5422</td><td>26.3721</td><td>25.9955</td><td>25.3131</td><td>15.219880843906859</td><td>12.64423795524661</td><td>13.186367087264562</td><td>14.87388749906381</td><td>27.672214978172054</td><td>g</td><td>4.447810614991052</td><td>False</td><td>True</td><td>False</td><td>219.73719801642042</td><td>0.5965586836109424</td><td>0.8914013547592687</td><td>0.40868359095395723</td><td>21.69384097465218</td><td>19.755563929363603</td><td>19.01017330021128</td><td>18.552802041734143</td><td>18</td></tr>\n",
       "<tr><td>0.7172056513104963</td><td>324591543401.779</td><td>1.2491</td><td>0.236876718445337</td><td>0.56531038537067</td><td>20.574154839801693</td><td>0.20305627758123082</td><td>-0.4500709071312602</td><td>24.1548</td><td>23.9855</td><td>23.9711</td><td>23.7582</td><td>27.03723172181276</td><td>24.55760166966248</td><td>19.934787858687013</td><td>15.65107817877389</td><td>43.310279510807234</td><td>g</td><td>3.0182306614946723</td><td>False</td><td>True</td><td>True</td><td>1.316398869649412</td><td>595773248650.6503</td><td>2.6467</td><td>0.14961914543290236</td><td>0.6536597593704653</td><td>48.45765462471498</td><td>-0.23186424263674182</td><td>0.0026576753341686515</td><td>25.7262</td><td>25.7631</td><td>25.7865</td><td>25.866</td><td>25.856334851527116</td><td>19.87270129754337</td><td>15.985997722272</td><td>9.7624104623799</td><td>35.92909128932338</td><td>g</td><td>13.52876120142199</td><td>True</td><td>True</td><td>True</td><td>288.91949792956206</td><td>0.6336213744122215</td><td>0.734701746525675</td><td>0.7740235576594235</td><td>24.15955117538495</td><td>21.80316431495032</td><td>20.369432489325234</td><td>19.496345864683104</td><td>58</td></tr>\n",
       "<tr><td>...</td><td>...</td><td>...</td><td>...</td><td>...</td><td>...</td><td>...</td><td>...</td><td>...</td><td>...</td><td>...</td><td>...</td><td>...</td><td>...</td><td>...</td><td>...</td><td>...</td><td>...</td><td>...</td><td>...</td><td>...</td><td>...</td><td>...</td><td>...</td><td>...</td><td>...</td><td>...</td><td>...</td><td>...</td><td>...</td><td>...</td><td>...</td><td>...</td><td>...</td><td>...</td><td>...</td><td>...</td><td>...</td><td>...</td><td>...</td><td>...</td><td>...</td><td>...</td><td>...</td><td>...</td><td>...</td><td>...</td><td>...</td><td>...</td><td>...</td><td>...</td><td>...</td><td>...</td></tr>\n",
       "<tr><td>1.0385214509308338</td><td>278138603028.1687</td><td>0.8896</td><td>0.45877932555608586</td><td>0.8294737734665537</td><td>135.97082769497536</td><td>0.16112218510273799</td><td>-0.14369777057404529</td><td>25.044</td><td>24.6048</td><td>23.8508</td><td>23.3933</td><td>12.022562280492583</td><td>12.212352240931253</td><td>18.58860186867424</td><td>18.306129925552685</td><td>30.84142132914379</td><td>i</td><td>6.202383900285862</td><td>False</td><td>True</td><td>False</td><td>0.6548915448374862</td><td>175394181076.1779</td><td>0.5927</td><td>0.049154290422650314</td><td>0.755975381729597</td><td>57.90676764619095</td><td>0.09846143307564044</td><td>-0.40783704099748846</td><td>26.1036</td><td>25.9653</td><td>25.9473</td><td>25.9949</td><td>16.444996649208324</td><td>12.925386119821013</td><td>9.969795233020546</td><td>6.126590289130363</td><td>22.426977164321162</td><td>g</td><td>3.5277835705293796</td><td>False</td><td>True</td><td>False</td><td>265.48859343247454</td><td>1.2472913771345102</td><td>0.7796291870432283</td><td>0.3795763111380453</td><td>20.549917080285432</td><td>18.588916913243892</td><td>17.90302685766695</td><td>17.478613865003805</td><td>29</td></tr>\n",
       "<tr><td>1.0696674646695041</td><td>145295679941.4353</td><td>0.681</td><td>0.05914361859666137</td><td>0.5958499993266594</td><td>137.91842049450096</td><td>-0.12160774817650367</td><td>0.44411894581620365</td><td>26.682</td><td>26.2278</td><td>25.6512</td><td>25.5304</td><td>10.538080373523867</td><td>9.93030075635264</td><td>12.330808931337964</td><td>9.115643383080021</td><td>20.83453268615619</td><td>i</td><td>5.407507143062003</td><td>False</td><td>True</td><td>False</td><td>1.0572172206597448</td><td>143604531310.12335</td><td>0.6624</td><td>0.372593089960368</td><td>0.6422820587627984</td><td>162.13113230172277</td><td>-0.13440735357098807</td><td>0.08020354131612784</td><td>23.9566</td><td>23.408</td><td>22.8999</td><td>22.8202</td><td>37.225800233213</td><td>37.71519696829848</td><td>45.29807888212261</td><td>32.724768052205725</td><td>76.26898856582704</td><td>i</td><td>7.895260624377819</td><td>False</td><td>True</td><td>True</td><td>236.4475034919663</td><td>0.9560319326792697</td><td>0.8060003865018786</td><td>0.20205693292269272</td><td>18.679969551508414</td><td>17.21387086402684</td><td>16.68801953071067</td><td>16.399083284119854</td><td>4</td></tr>\n",
       "<tr><td>0.6689573267855192</td><td>131393882733.2938</td><td>3.0897</td><td>0.05284219096970794</td><td>0.4956891515734484</td><td>28.678814686740594</td><td>-0.0072484096549518505</td><td>0.17012036280384962</td><td>27.1295</td><td>27.0834</td><td>27.1385</td><td>27.1789</td><td>15.450657846079197</td><td>12.34257368120204</td><td>9.296273147362923</td><td>5.7478000573459695</td><td>21.5248963298049</td><td>g</td><td>11.303355166945805</td><td>True</td><td>True</td><td>False</td><td>0.4411263838435666</td><td>86644253719.17195</td><td>1.4015</td><td>0.24830496550472225</td><td>0.6199118331015054</td><td>167.34019063171698</td><td>0.2275493673580653</td><td>-0.058661092725889936</td><td>24.6026</td><td>24.3669</td><td>23.9939</td><td>23.7228</td><td>22.45050542931935</td><td>21.579441915903715</td><td>23.78656187911247</td><td>19.716684239752865</td><td>43.757132470343535</td><td>i</td><td>3.8509252700321013</td><td>True</td><td>True</td><td>True</td><td>194.36392329574963</td><td>0.32010682173329097</td><td>0.732339387674275</td><td>0.6932152017672826</td><td>24.987392656475556</td><td>22.999764938483334</td><td>21.4533183887718</td><td>20.782668139555476</td><td>20</td></tr>\n",
       "<tr><td>1.3029060882906254</td><td>311871015161.1081</td><td>1.0659</td><td>0.09789053099966981</td><td>0.5768952433706351</td><td>26.242671632031225</td><td>-0.5692140221702975</td><td>-0.04584989946668335</td><td>25.2314</td><td>24.9809</td><td>24.6371</td><td>24.0661</td><td>24.966904418925672</td><td>21.916652526255714</td><td>23.0459393316329</td><td>24.70424999730025</td><td>46.86566598621633</td><td>g</td><td>4.6564201974364305</td><td>False</td><td>True</td><td>True</td><td>1.5429315380223978</td><td>369324872614.91693</td><td>1.9572</td><td>0.38912509555864644</td><td>0.9010963846254567</td><td>39.536974172323006</td><td>0.22671173413326132</td><td>-0.2611118005104987</td><td>24.0546</td><td>24.3401</td><td>23.9728</td><td>23.7145</td><td>33.82067942893428</td><td>18.637006875865236</td><td>20.396958615372863</td><td>17.0630269225723</td><td>43.98306697257091</td><td>g</td><td>8.219035793166263</td><td>True</td><td>True</td><td>True</td><td>266.2537069165992</td><td>0.7318857173808998</td><td>0.870967980422518</td><td>0.316690072556806</td><td>19.89830897647878</td><td>18.038798006956966</td><td>17.39696996666231</td><td>17.05252238139035</td><td>54</td></tr>\n",
       "<tr><td>1.8162709729990472</td><td>896678006510.0494</td><td>0.9312</td><td>0.6423374623372845</td><td>0.670289090897313</td><td>21.324847635954495</td><td>-0.1736885292279944</td><td>-0.789045799557458</td><td>22.1122</td><td>21.7398</td><td>21.1356</td><td>20.7247</td><td>79.40583673520138</td><td>76.19574259673976</td><td>99.25282142712904</td><td>93.01146189575178</td><td>173.89962699469237</td><td>i</td><td>4.625608919650205</td><td>False</td><td>True</td><td>True</td><td>1.8336360307385065</td><td>905250992363.0575</td><td>0.9433</td><td>0.015680296004041437</td><td>0.7594477023145384</td><td>25.735099016589878</td><td>-0.9045293502456209</td><td>-0.10332420555231044</td><td>27.2034</td><td>27.1155</td><td>26.8999</td><td>26.8062</td><td>17.727207677055517</td><td>12.80233291719337</td><td>11.152596724365178</td><td>7.44854258633803</td><td>23.892723146898007</td><td>g</td><td>5.500467422472775</td><td>False</td><td>True</td><td>False</td><td>354.0773746492686</td><td>1.7558951899715127</td><td>0.9098720864493046</td><td>0.4022164840373095</td><td>19.17389374137494</td><td>17.229426821659057</td><td>16.49963976124793</td><td>16.049173317540912</td><td>64</td></tr>\n",
       "<tr><td>1.22112443541037</td><td>315547360690.2948</td><td>1.0518</td><td>0.10466345066778644</td><td>0.8304283890672189</td><td>160.85827801227688</td><td>-0.6385308728644767</td><td>0.15345037761337746</td><td>25.9487</td><td>25.713</td><td>25.3277</td><td>24.7326</td><td>11.918512955832854</td><td>10.225576059376356</td><td>11.19363932370698</td><td>12.245759811822005</td><td>22.529108116688818</td><td>z</td><td>3.679065139601653</td><td>False</td><td>True</td><td>False</td><td>1.3917380310597376</td><td>359635144247.70654</td><td>1.473</td><td>0.07653028589957384</td><td>0.8064110576422301</td><td>98.22969664028338</td><td>0.16444395482194418</td><td>0.836244227814511</td><td>25.5121</td><td>25.4546</td><td>25.1591</td><td>24.9645</td><td>20.922128819120495</td><td>16.152660936378165</td><td>16.962425858121108</td><td>13.43124909692339</td><td>32.775062582517734</td><td>g</td><td>3.489331971774132</td><td>False</td><td>True</td><td>True</td><td>266.7456465210442</td><td>0.6585928215131791</td><td>0.9011988085154561</td><td>0.35351760727485804</td><td>20.2539999824125</td><td>18.29353981753607</td><td>17.63301027909952</td><td>17.24744519594618</td><td>39</td></tr>\n",
       "<tr><td>0.7543603277399263</td><td>312481706258.052</td><td>0.6966</td><td>0.10289793671063284</td><td>0.8548496386653179</td><td>51.934036423559974</td><td>-0.049262357801642134</td><td>0.16101709318298812</td><td>24.021</td><td>23.5627</td><td>23.1017</td><td>22.9212</td><td>87.32939869011435</td><td>90.23409510495978</td><td>97.17289645369772</td><td>74.22233270886024</td><td>173.3379601857692</td><td>i</td><td>9.827184810268902</td><td>False</td><td>True</td><td>True</td><td>1.5345965665026122</td><td>635682094994.5406</td><td>1.3611</td><td>0.8078267604743349</td><td>0.40728606528522193</td><td>141.51858046222065</td><td>0.592335171502557</td><td>-0.4077658323369914</td><td>23.5541</td><td>23.3192</td><td>22.9853</td><td>22.6657</td><td>21.98407155369791</td><td>20.283527065962375</td><td>21.39722703716417</td><td>18.60177955498237</td><td>40.953927846169385</td><td>g</td><td>4.537243870808102</td><td>True</td><td>True</td><td>True</td><td>308.7985248346196</td><td>0.8230856945961177</td><td>0.9620577510289129</td><td>0.47650669706016846</td><td>20.76313226575052</td><td>18.87532982114303</td><td>17.89272840873474</td><td>17.385086362445914</td><td>50</td></tr>\n",
       "<tr><td>1.3783840960319023</td><td>771888689552.7544</td><td>1.353</td><td>0.020040469011492642</td><td>0.8318401499779187</td><td>127.38651671584987</td><td>0.05984275013951532</td><td>-0.3384481005900755</td><td>27.2863</td><td>27.1719</td><td>27.1423</td><td>27.0657</td><td>18.16502233411722</td><td>15.116781248427477</td><td>11.798037476781225</td><td>7.984816171377268</td><td>26.4119169081605</td><td>g</td><td>9.938510885655747</td><td>False</td><td>True</td><td>False</td><td>1.9705923757249044</td><td>1103522574672.6409</td><td>2.6806</td><td>0.5540933941810227</td><td>0.3210382688554154</td><td>93.54841393758787</td><td>0.6412977387237142</td><td>-0.1272920524789892</td><td>23.0029</td><td>23.0063</td><td>22.9849</td><td>23.0544</td><td>47.00656123081383</td><td>36.83770790061509</td><td>30.095399274986853</td><td>18.572264374744684</td><td>66.09435263910807</td><td>g</td><td>4.752234813058488</td><td>True</td><td>True</td><td>True</td><td>333.68939635865894</td><td>0.8903808070974234</td><td>0.7449607164940768</td><td>0.6405014810664987</td><td>21.707216253588058</td><td>19.77562678095994</td><td>18.347813071503264</td><td>17.746576292676856</td><td>31</td></tr>\n",
       "<tr><td>0.8783517122356735</td><td>418766808329.69244</td><td>1.1892</td><td>0.04126037811032425</td><td>0.7606155800238775</td><td>110.23389684808659</td><td>-0.42330557296060983</td><td>0.2495241430003669</td><td>26.4569</td><td>26.3625</td><td>26.131</td><td>25.5603</td><td>14.866425455721954</td><td>12.210997283627039</td><td>11.188685605049203</td><td>11.306097144042397</td><td>24.531617395992964</td><td>g</td><td>3.56858941838165</td><td>False</td><td>True</td><td>False</td><td>1.5225605409750986</td><td>725902630291.4473</td><td>2.5603</td><td>0.26152660289552127</td><td>0.28240242613982613</td><td>94.3363201004195</td><td>0.7311910686481048</td><td>-0.3972659849564794</td><td>24.7327</td><td>24.6259</td><td>24.6936</td><td>24.6939</td><td>16.419181159572588</td><td>14.112230382435003</td><td>10.662939564391108</td><td>6.941283907232079</td><td>24.03525571368894</td><td>g</td><td>3.4906236654881915</td><td>False</td><td>True</td><td>False</td><td>302.5314070499013</td><td>0.5632123974190826</td><td>0.9561342002738673</td><td>0.6964615115524748</td><td>22.83898614386444</td><td>20.84219400219527</td><td>19.29273370967119</td><td>18.61703838947799</td><td>31</td></tr>\n",
       "<tr><td>0.46252700075781433</td><td>98363630666.98286</td><td>0.8973</td><td>0.10179250928761159</td><td>0.5301813225342016</td><td>34.60115843587222</td><td>0.3119548595385083</td><td>0.07790655853983597</td><td>25.5168</td><td>25.2258</td><td>24.9207</td><td>24.8207</td><td>15.64721451785859</td><td>14.917150409813978</td><td>15.027316633319531</td><td>10.752594091025143</td><td>27.448660065631955</td><td>g</td><td>3.2576333123824486</td><td>False</td><td>True</td><td>False</td><td>0.5585107308795405</td><td>118776078295.47586</td><td>1.0501</td><td>0.02919289177831348</td><td>0.9927586920281032</td><td>123.42464258864344</td><td>0.18156523498395385</td><td>-0.10664836218430092</td><td>27.0607</td><td>27.0291</td><td>26.7161</td><td>26.1914</td><td>13.548643847324689</td><td>10.161839067560788</td><td>9.783859382069666</td><td>9.46237117108654</td><td>21.209627204110234</td><td>g</td><td>5.162942792018159</td><td>False</td><td>True</td><td>False</td><td>214.9862329245413</td><td>0.5286193545587914</td><td>0.8931257719265296</td><td>0.5310462136436489</td><td>23.00140223898067</td><td>21.160901132973102</td><td>19.981259563171818</td><td>19.44014815358971</td><td>62</td></tr>\n",
       "</table></div>"
      ],
      "text/plain": [
       "<Table length=148>\n",
       "     thetaE_s0           mass_s0         z_s0  ...      mag_z_l       noise_seed\n",
       "      float64            float64       float64 ...      float64         int64   \n",
       "------------------- ------------------ ------- ... ------------------ ----------\n",
       " 1.0197665942543468  482066993197.0103  1.1425 ... 18.241501806527246         41\n",
       "  1.599132578852834  506354736733.8201   2.034 ... 17.425055142225233          3\n",
       " 0.9787916956505031 232954397852.24228  2.2374 ...  19.07921240054356         16\n",
       "  1.226467664278539 230329621884.80832  1.9885 ...  17.58729561345277         24\n",
       "  1.088078860426324 253793074429.81952  1.7337 ... 18.234830941267596         52\n",
       " 0.5745564629738706 125344709445.53087  1.7692 ... 20.662548170974308         51\n",
       "   2.31172134033958  465887936571.3054  0.7022 ... 14.018280718343675         23\n",
       "0.31241199143672715 30212106114.941143  0.7497 ...  19.80425856232367         50\n",
       " 0.9154435796599336 175746459346.65762   1.642 ... 18.552802041734143         18\n",
       " 0.7172056513104963   324591543401.779  1.2491 ... 19.496345864683104         58\n",
       "                ...                ...     ... ...                ...        ...\n",
       " 1.0385214509308338  278138603028.1687  0.8896 ... 17.478613865003805         29\n",
       " 1.0696674646695041  145295679941.4353   0.681 ... 16.399083284119854          4\n",
       " 0.6689573267855192  131393882733.2938  3.0897 ... 20.782668139555476         20\n",
       " 1.3029060882906254  311871015161.1081  1.0659 ...  17.05252238139035         54\n",
       " 1.8162709729990472  896678006510.0494  0.9312 ... 16.049173317540912         64\n",
       "   1.22112443541037  315547360690.2948  1.0518 ...  17.24744519594618         39\n",
       " 0.7543603277399263   312481706258.052  0.6966 ... 17.385086362445914         50\n",
       " 1.3783840960319023  771888689552.7544   1.353 ... 17.746576292676856         31\n",
       " 0.8783517122356735 418766808329.69244  1.1892 ...  18.61703838947799         31\n",
       "0.46252700075781433  98363630666.98286  0.8973 ...  19.44014815358971         62"
      ]
     },
     "execution_count": 13,
     "metadata": {},
     "output_type": "execute_result"
    }
   ],
   "source": [
    "table_detect_two"
   ]
  },
  {
   "cell_type": "code",
   "execution_count": 5,
   "id": "c2f1048f-50d9-464d-b8a5-04c755f13125",
   "metadata": {
    "tags": []
   },
   "outputs": [
    {
     "data": {
      "text/html": [
       "<i>Row index=0</i>\n",
       "<table id=\"table140156498374416\">\n",
       "<thead><tr><th>thetaE_s0</th><th>mass_s0</th><th>z_s0</th><th>re_s0</th><th>q_s0</th><th>pa_s0</th><th>x_s0</th><th>y_s0</th><th>mag_g_s0</th><th>mag_r_s0</th><th>mag_i_s0</th><th>mag_z_s0</th><th>vdisp_l</th><th>re_l</th><th>q_l</th><th>z_l</th><th>mag_g_l</th><th>mag_r_l</th><th>mag_i_l</th><th>mag_z_l</th><th>SNR_g</th><th>SNR_r</th><th>SNR_i</th><th>SNR_z</th><th>SNR_stack</th><th>best_band</th><th>mu</th><th>if_ring</th><th>if_obs_stack</th><th>if_obs_single</th><th>noise_seed</th></tr></thead>\n",
       "<thead><tr><th>float64</th><th>float64</th><th>float64</th><th>float64</th><th>float64</th><th>float64</th><th>float64</th><th>float64</th><th>float64</th><th>float64</th><th>float64</th><th>float64</th><th>float64</th><th>float64</th><th>float64</th><th>float64</th><th>float64</th><th>float64</th><th>float64</th><th>float64</th><th>float64</th><th>float64</th><th>float64</th><th>float64</th><th>float64</th><th>str1</th><th>float64</th><th>bool</th><th>bool</th><th>bool</th><th>int64</th></tr></thead>\n",
       "<tr><td>1.0966084016507394</td><td>220618705190.45496</td><td>2.4813</td><td>0.04755680836013041</td><td>0.48724151839551133</td><td>56.84835836540002</td><td>-0.679774694569647</td><td>-0.19032010755702378</td><td>26.8804</td><td>26.7911</td><td>27.1784</td><td>26.9373</td><td>227.31589216009394</td><td>0.48874105992050526</td><td>0.6177436725840784</td><td>0.39480433148639105</td><td>21.44529815513444</td><td>19.494334310672166</td><td>18.780101509455797</td><td>18.338227104944824</td><td>8.565924589820026</td><td>6.563163395814959</td><td>3.5898829774557766</td><td>2.7892841517608145</td><td>10.657003960170975</td><td>g</td><td>2.8410611440345908</td><td>False</td><td>False</td><td>False</td><td>0</td></tr>\n",
       "</table>"
      ],
      "text/plain": [
       "<Row index=0>\n",
       "    thetaE_s0           mass_s0         z_s0         re_s0                q_s0              pa_s0              x_s0                y_s0         mag_g_s0 mag_r_s0 mag_i_s0 mag_z_s0      vdisp_l               re_l               q_l                 z_l              mag_g_l           mag_r_l            mag_i_l            mag_z_l             SNR_g             SNR_r             SNR_i              SNR_z            SNR_stack      best_band         mu         if_ring if_obs_stack if_obs_single noise_seed\n",
       "     float64            float64       float64       float64             float64            float64           float64             float64        float64  float64  float64  float64       float64             float64            float64             float64            float64           float64            float64            float64            float64           float64           float64            float64            float64          str1        float64         bool      bool          bool       int64   \n",
       "------------------ ------------------ ------- ------------------- ------------------- ----------------- ------------------ -------------------- -------- -------- -------- -------- ------------------ ------------------- ------------------ ------------------- ----------------- ------------------ ------------------ ------------------ ----------------- ----------------- ------------------ ------------------ ------------------ --------- ------------------ ------- ------------ ------------- ----------\n",
       "1.0966084016507394 220618705190.45496  2.4813 0.04755680836013041 0.48724151839551133 56.84835836540002 -0.679774694569647 -0.19032010755702378  26.8804  26.7911  27.1784  26.9373 227.31589216009394 0.48874105992050526 0.6177436725840784 0.39480433148639105 21.44529815513444 19.494334310672166 18.780101509455797 18.338227104944824 8.565924589820026 6.563163395814959 3.5898829774557766 2.7892841517608145 10.657003960170975         g 2.8410611440345908   False        False         False          0"
      ]
     },
     "execution_count": 5,
     "metadata": {},
     "output_type": "execute_result"
    }
   ],
   "source": [
    "mask_thetaE = (stacked_table['thetaE_s0'].data > 0.074)\n",
    "stacked_table = stacked_table[mask_thetaE]\n",
    "stacked_table.write('lens_samples.fits', overwrite=True)\n",
    "stacked_table[0]"
   ]
  },
  {
   "cell_type": "code",
   "execution_count": 6,
   "id": "724b16af-22bf-4f4f-b6c0-dc07e74eb72d",
   "metadata": {
    "tags": []
   },
   "outputs": [
    {
     "data": {
      "text/plain": [
       "5186409"
      ]
     },
     "execution_count": 6,
     "metadata": {},
     "output_type": "execute_result"
    }
   ],
   "source": [
    "len(stacked_table)"
   ]
  },
  {
   "cell_type": "code",
   "execution_count": 9,
   "id": "27ff99e0-c292-47d0-8ad0-57ae55f4640c",
   "metadata": {
    "tags": []
   },
   "outputs": [
    {
     "data": {
      "text/plain": [
       "161548"
      ]
     },
     "execution_count": 9,
     "metadata": {},
     "output_type": "execute_result"
    }
   ],
   "source": [
    "mask = stacked_table['if_obs_stack'].data\n",
    "table_detect = stacked_table[mask]\n",
    "table_detect.write(\"catalog_csv/csst_wf_stack.csv\", overwrite=True)\n",
    "len(table_detect)"
   ]
  },
  {
   "cell_type": "code",
   "execution_count": 10,
   "id": "dd2deb81-0827-4f04-aa3f-f22c132f0d95",
   "metadata": {
    "tags": []
   },
   "outputs": [
    {
     "data": {
      "text/plain": [
       "76396"
      ]
     },
     "execution_count": 10,
     "metadata": {},
     "output_type": "execute_result"
    }
   ],
   "source": [
    "mask = stacked_table['if_obs_single'].data\n",
    "table_detect = stacked_table[mask]\n",
    "table_detect.write(\"catalog_csv/csst_wf_single.csv\", overwrite=True)\n",
    "len(table_detect)"
   ]
  },
  {
   "cell_type": "code",
   "execution_count": null,
   "id": "edd23620-c0b7-405f-abb1-29f4bde6da7e",
   "metadata": {},
   "outputs": [],
   "source": []
  }
 ],
 "metadata": {
  "kernelspec": {
   "display_name": "Python 3 (ipykernel)",
   "language": "python",
   "name": "python3"
  },
  "language_info": {
   "codemirror_mode": {
    "name": "ipython",
    "version": 3
   },
   "file_extension": ".py",
   "mimetype": "text/x-python",
   "name": "python",
   "nbconvert_exporter": "python",
   "pygments_lexer": "ipython3",
   "version": "3.12.3"
  }
 },
 "nbformat": 4,
 "nbformat_minor": 5
}
