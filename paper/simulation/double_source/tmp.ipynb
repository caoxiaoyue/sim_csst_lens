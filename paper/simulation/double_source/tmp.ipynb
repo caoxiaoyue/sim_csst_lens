{
 "cells": [
  {
   "cell_type": "code",
   "execution_count": 1,
   "id": "89a51777-8a0c-4993-b9bc-22eef22687c5",
   "metadata": {
    "tags": []
   },
   "outputs": [],
   "source": [
    "from SimCsstLens.LensPop.Population import LensPopulation\n",
    "from SimCsstLens import CosmologyDistance as CD\n",
    "import math\n",
    "import h5py\n",
    "import numpy as np \n",
    "from multiprocessing import Pool\n",
    "import os\n",
    "from astropy.table import Table, vstack\n",
    "\n",
    "this_cosmos = CD.CosmosDist(Om0=0.3, Ode0=0.7, h=0.7)\n",
    "lens_pop = LensPopulation(\n",
    "    vdisp_floor=50, \n",
    "    zl_max=2.5, \n",
    "    cosmo_dist=this_cosmos,\n",
    "    src_catalog_type='lsst',\n",
    "    bands=['g', 'r', 'i', 'z'],\n",
    ")\n",
    "sky_frac = 17500.0/41252.96\n",
    "N_etgs = lens_pop.dfl_pop.number_of_etgs(sky_frac=sky_frac) #ideal lenses\n",
    "Nsamples_per_draw = 500000\n",
    "Ndraw = math.ceil(N_etgs/Nsamples_per_draw)"
   ]
  },
  {
   "cell_type": "code",
   "execution_count": 3,
   "id": "6562fd99-f019-4b5b-ae50-19ac1d5be82f",
   "metadata": {
    "tags": []
   },
   "outputs": [
    {
     "name": "stdout",
     "output_type": "stream",
     "text": [
      "(2, 97) 111\n",
      "(2, 97) 222\n",
      "True 222\n"
     ]
    }
   ],
   "source": [
    "current_dir = os.getcwd()\n",
    "def return_detected(count_draw, stack=False):\n",
    "    table = Table()\n",
    "\n",
    "    fn = h5py.File(f\"./samples/lenses_{count_draw}.hdf5\", \"r\")\n",
    "    src_thetaE = fn['source/thetaE'][()] #shape: [nsrc, n_ideal_lens]\n",
    "    print(src_thetaE.shape, '111')\n",
    "    for ii in range(src_thetaE.shape[0]):\n",
    "        table[f'thetaE_s{ii}'] =  src_thetaE[ii, :]\n",
    "        table[f'mass_s{ii}'] = fn['source/einstein_mass'][()][ii, :]\n",
    "        table[f'z_s{ii}'] = fn['source']['z'][()][ii, :]\n",
    "        table[f're_s{ii}'] = fn['source']['Re'][()][ii, :]\n",
    "        table[f'q_s{ii}'] = fn['source']['q'][()][ii, :]\n",
    "        table[f'pa_s{ii}'] = fn['source']['pa'][()][ii, :]\n",
    "        table[f'x_s{ii}'] = fn['source']['xs'][()][ii, :]\n",
    "        table[f'y_s{ii}'] = fn['source']['ys'][()][ii, :]\n",
    " \n",
    "    table['vdisp_l'] = fn['deflector/vdisp'][()] #shape: [n_ideal_lens]\n",
    "    table['re_l'] = fn['deflector/Re'][()]\n",
    "    table['q_l']= fn['deflector/q'][()]\n",
    "    table['z_l'] = fn['deflector/z'][()]\n",
    "    table['mag_g_l'] = fn['deflector/app_mag_g'][()]\n",
    "    table['mag_r_l'] = fn['deflector/app_mag_r'][()]\n",
    "    table['mag_i_l'] = fn['deflector/app_mag_i'][()]\n",
    "    table['mag_z_l'] = fn['deflector/app_mag_z'][()]\n",
    "\n",
    "    src_bool = fn['source/bool_arr'][()]\n",
    "    print(src_bool.shape, '222')\n",
    "    print(np.all(src_bool), '222')\n",
    "    fn.close()\n",
    "    \n",
    "    return table\n",
    "\n",
    "table = return_detected(0, stack=True)"
   ]
  },
  {
   "cell_type": "code",
   "execution_count": 10,
   "id": "edd23620-c0b7-405f-abb1-29f4bde6da7e",
   "metadata": {},
   "outputs": [
    {
     "data": {
      "text/plain": [
       "array([0, 1, 2, 4, 6, 8])"
      ]
     },
     "execution_count": 10,
     "metadata": {},
     "output_type": "execute_result"
    }
   ],
   "source": [
    "import numpy as np\n",
    "\n",
    "a = np.arange(9).reshape(3, 3)\n",
    "bool = np.array(\n",
    "    [\n",
    "        [True, True, True],\n",
    "        [False, True, False],\n",
    "        [True, False, True],\n",
    "    ]\n",
    ")\n",
    "\n",
    "a[bool]"
   ]
  },
  {
   "cell_type": "code",
   "execution_count": 16,
   "id": "dd5b04af",
   "metadata": {},
   "outputs": [
    {
     "data": {
      "text/plain": [
       "array([[0, 1, 2],\n",
       "       [3, 4, 5],\n",
       "       [6, 7, 8]])"
      ]
     },
     "execution_count": 16,
     "metadata": {},
     "output_type": "execute_result"
    }
   ],
   "source": [
    "a"
   ]
  },
  {
   "cell_type": "code",
   "execution_count": 15,
   "id": "1a14adab",
   "metadata": {},
   "outputs": [
    {
     "data": {
      "text/plain": [
       "array([[0, 1, 2],\n",
       "       [6, 4, 8]])"
      ]
     },
     "execution_count": 15,
     "metadata": {},
     "output_type": "execute_result"
    }
   ],
   "source": [
    "a.T[bool.T].reshape(-1, 2).T"
   ]
  },
  {
   "cell_type": "code",
   "execution_count": 12,
   "id": "7169ca7d",
   "metadata": {},
   "outputs": [
    {
     "data": {
      "text/plain": [
       "array([[0, 3, 6],\n",
       "       [1, 4, 7],\n",
       "       [2, 5, 8]])"
      ]
     },
     "execution_count": 12,
     "metadata": {},
     "output_type": "execute_result"
    }
   ],
   "source": [
    "a.T"
   ]
  },
  {
   "cell_type": "code",
   "execution_count": 13,
   "id": "03d6e3df",
   "metadata": {},
   "outputs": [
    {
     "data": {
      "text/plain": [
       "array([[ True, False,  True],\n",
       "       [ True,  True, False],\n",
       "       [ True, False,  True]])"
      ]
     },
     "execution_count": 13,
     "metadata": {},
     "output_type": "execute_result"
    }
   ],
   "source": [
    "bool.T"
   ]
  },
  {
   "cell_type": "code",
   "execution_count": null,
   "id": "95cdfe57",
   "metadata": {},
   "outputs": [],
   "source": []
  }
 ],
 "metadata": {
  "kernelspec": {
   "display_name": "Python 3 (ipykernel)",
   "language": "python",
   "name": "python3"
  },
  "language_info": {
   "codemirror_mode": {
    "name": "ipython",
    "version": 3
   },
   "file_extension": ".py",
   "mimetype": "text/x-python",
   "name": "python",
   "nbconvert_exporter": "python",
   "pygments_lexer": "ipython3",
   "version": "3.12.3"
  }
 },
 "nbformat": 4,
 "nbformat_minor": 5
}
