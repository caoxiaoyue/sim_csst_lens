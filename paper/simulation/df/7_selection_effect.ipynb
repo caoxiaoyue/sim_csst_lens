{
 "cells": [
  {
   "cell_type": "code",
   "execution_count": 8,
   "id": "048060c8-9ad1-432e-afa5-4d7414ceac4c",
   "metadata": {
    "tags": []
   },
   "outputs": [
    {
     "name": "stdout",
     "output_type": "stream",
     "text": [
      "161658 76481\n"
     ]
    }
   ],
   "source": [
    "from astropy.table import Table\n",
    "import numpy as np\n",
    "lens_samples = Table.read('lens_samples.fits')\n",
    "mask_stack = lens_samples['if_obs_stack'].data\n",
    "mask_single = lens_samples['if_obs_single'].data\n",
    "\n",
    "print(np.count_nonzero(mask_stack), np.count_nonzero(mask_single))\n",
    "#Lens:q_l, re_l, vdisp_l\n",
    "#Source:q, re_s, mag_g, "
   ]
  },
  {
   "cell_type": "code",
   "execution_count": 11,
   "id": "7dc0e410-b224-4174-a8d4-4145e89cadd1",
   "metadata": {
    "tags": []
   },
   "outputs": [],
   "source": [
    "obs_stack_sample = lens_samples[mask_stack]\n",
    "# obs_stack_sample.write('csst_obs_stack_samples.fits', overwrite=True)"
   ]
  },
  {
   "cell_type": "code",
   "execution_count": 12,
   "id": "893ae7a1-bb20-41bb-bbb9-60956b00b578",
   "metadata": {
    "tags": []
   },
   "outputs": [
    {
     "data": {
      "text/html": [
       "<i>Row index=0</i>\n",
       "<table id=\"table140404422551184\">\n",
       "<thead><tr><th>thetaE_s0</th><th>mass_s0</th><th>z_s0</th><th>re_s0</th><th>q_s0</th><th>pa_s0</th><th>x_s0</th><th>y_s0</th><th>mag_g_s0</th><th>mag_r_s0</th><th>mag_i_s0</th><th>mag_z_s0</th><th>vdisp_l</th><th>re_l</th><th>q_l</th><th>z_l</th><th>mag_g_l</th><th>mag_r_l</th><th>mag_i_l</th><th>mag_z_l</th><th>SNR_g</th><th>SNR_r</th><th>SNR_i</th><th>SNR_z</th><th>SNR_stack</th><th>best_band</th><th>mu</th><th>if_ring</th><th>if_obs_stack</th><th>if_obs_single</th><th>noise_seed</th></tr></thead>\n",
       "<thead><tr><th>float64</th><th>float64</th><th>float64</th><th>float64</th><th>float64</th><th>float64</th><th>float64</th><th>float64</th><th>float64</th><th>float64</th><th>float64</th><th>float64</th><th>float64</th><th>float64</th><th>float64</th><th>float64</th><th>float64</th><th>float64</th><th>float64</th><th>float64</th><th>float64</th><th>float64</th><th>float64</th><th>float64</th><th>float64</th><th>bytes1</th><th>float64</th><th>bool</th><th>bool</th><th>bool</th><th>int64</th></tr></thead>\n",
       "<tr><td>1.3046319182698716</td><td>161613156853.09622</td><td>1.119</td><td>0.11474037935369849</td><td>0.5745219910078976</td><td>145.75589643642414</td><td>-0.034566683021897505</td><td>0.2610799711710356</td><td>26.5784</td><td>26.3646</td><td>26.0524</td><td>25.4187</td><td>238.1656944881144</td><td>2.113846783674849</td><td>0.6705289358429148</td><td>0.17666931550499052</td><td>18.15469355024308</td><td>16.79782888209371</td><td>16.30390097750376</td><td>16.01050413541788</td><td>12.658174509661286</td><td>9.635845822473193</td><td>9.701726621500866</td><td>11.3715548164907</td><td>21.18306868786509</td><td>g</td><td>14.12271359546297</td><td>True</td><td>True</td><td>False</td><td>26</td></tr>\n",
       "</table>"
      ],
      "text/plain": [
       "<Row index=0>\n",
       "    thetaE_s0           mass_s0         z_s0         re_s0               q_s0              pa_s0                 x_s0                y_s0        mag_g_s0 mag_r_s0 mag_i_s0 mag_z_s0      vdisp_l             re_l              q_l                 z_l              mag_g_l           mag_r_l           mag_i_l           mag_z_l            SNR_g              SNR_r             SNR_i            SNR_z           SNR_stack     best_band         mu        if_ring if_obs_stack if_obs_single noise_seed\n",
       "     float64            float64       float64       float64            float64            float64              float64             float64       float64  float64  float64  float64       float64           float64           float64             float64            float64           float64           float64           float64           float64            float64           float64          float64           float64        bytes1       float64        bool      bool          bool       int64   \n",
       "------------------ ------------------ ------- ------------------- ------------------ ------------------ --------------------- ------------------ -------- -------- -------- -------- ----------------- ----------------- ------------------ ------------------- ----------------- ----------------- ----------------- ----------------- ------------------ ----------------- ----------------- ---------------- ----------------- --------- ----------------- ------- ------------ ------------- ----------\n",
       "1.3046319182698716 161613156853.09622   1.119 0.11474037935369849 0.5745219910078976 145.75589643642414 -0.034566683021897505 0.2610799711710356  26.5784  26.3646  26.0524  25.4187 238.1656944881144 2.113846783674849 0.6705289358429148 0.17666931550499052 18.15469355024308 16.79782888209371 16.30390097750376 16.01050413541788 12.658174509661286 9.635845822473193 9.701726621500866 11.3715548164907 21.18306868786509         g 14.12271359546297    True         True         False         26"
      ]
     },
     "execution_count": 12,
     "metadata": {},
     "output_type": "execute_result"
    }
   ],
   "source": [
    "obs_stack_sample[0]"
   ]
  },
  {
   "cell_type": "code",
   "execution_count": 13,
   "id": "8b03c7d6-4c97-4538-bc84-20a161059f61",
   "metadata": {
    "tags": []
   },
   "outputs": [],
   "source": [
    "np.random.seed(1)\n",
    "hist_size = 10000\n",
    "\n",
    "stacked_samples = lens_samples[mask_stack]\n",
    "indices = np.random.choice(len(stacked_samples), size=hist_size, replace=False)\n",
    "stacked_samples_ = stacked_samples[indices]\n",
    "\n",
    "vdisp_l = stacked_samples_['vdisp_l']\n",
    "q_l = stacked_samples_['q_l']\n",
    "re_l = stacked_samples_['re_l']\n",
    "\n",
    "q_s = stacked_samples_['q_s0']\n",
    "re_s = stacked_samples_['re_s0']\n",
    "mag_g_s = stacked_samples_['mag_g_s0']\n",
    "\n",
    "from SimCsstLens.LensPop.Population import LensPopulation\n",
    "from SimCsstLens import CosmologyDistance as CD\n",
    "this_cosmos = CD.CosmosDist(Om0=0.3, Ode0=0.7, h=0.7)\n",
    "lens_pop = LensPopulation(\n",
    "    vdisp_floor=50, \n",
    "    zl_max=2.5, \n",
    "    cosmo_dist=this_cosmos,\n",
    "    src_catalog_type='lsst',\n",
    "    bands=['g', 'r', 'i', 'z'],\n",
    ")\n",
    "lens_pop.draw_lens_samples(\n",
    "    nsamples=hist_size,\n",
    "    nsrcs_per_sample=1,\n",
    "    src_over_density=1,\n",
    ")"
   ]
  },
  {
   "cell_type": "code",
   "execution_count": 14,
   "id": "16cdbfe0-a70b-4fe4-8ab4-f782521e567e",
   "metadata": {
    "tags": []
   },
   "outputs": [],
   "source": [
    "from scipy.ndimage import gaussian_filter1d\n",
    "def smooth_hist(data, bins=30, smooth=True, sigma=2, log_bin=False, density=False):\n",
    "    if log_bin:\n",
    "        bins = np.logspace(np.log10(np.min(data)), np.log10(np.max(data)),  bins)\n",
    "        \n",
    "    counts, bins = np.histogram(data, bins=bins, density=density)\n",
    "    \n",
    "    if smooth:\n",
    "        counts_smoothed = gaussian_filter1d(counts, sigma=sigma)\n",
    "    else:\n",
    "        counts_smoothed = counts\n",
    "        \n",
    "    #for beautiful step plot\n",
    "    counts_smoothed = np.insert(counts_smoothed, 0, 0)\n",
    "    bins = np.insert(bins, 0, bins[0]-1e-3)\n",
    "    counts_smoothed = np.append(counts_smoothed, 0)\n",
    "    bins = np.append(bins, bins[-1]+1e-3)\n",
    "    return counts_smoothed, bins"
   ]
  },
  {
   "cell_type": "code",
   "execution_count": null,
   "id": "28e6cee7-94a0-46f4-9629-747f9385f1a1",
   "metadata": {
    "tags": []
   },
   "outputs": [],
   "source": [
    "from matplotlib import pyplot as plt\n",
    "from astropy.visualization import hist\n",
    "import scienceplots\n",
    "plt.style.use(['science','no-latex', 'nature'])\n",
    "# Set the font family and size for all text\n",
    "plt.rcParams['font.family'] = 'sans-serif'\n",
    "plt.rcParams['font.size'] = 10\n",
    "plt.rcParams['legend.fontsize'] = 9\n",
    "plt.rcParams['axes.labelsize'] = 12\n",
    "plt.rcParams['xtick.labelsize'] = 10\n",
    "plt.rcParams['ytick.labelsize'] = 10\n",
    "# Set the background color and grid style\n",
    "plt.rcParams['axes.facecolor'] = 'white'\n",
    "plt.rcParams['grid.linewidth'] = 1.5\n",
    "plt.rcParams['grid.color'] = 'black'\n",
    "plt.rcParams['grid.alpha'] = 0.5\n",
    "\n",
    "columnwidth = 3.33\n",
    "aspect_ratio = 0.8\n",
    "fig, axes = plt.subplots(nrows=2, ncols=3, figsize=(3*columnwidth+2*0.5, 2*columnwidth*aspect_ratio+1))\n",
    "\n",
    "this_ax = axes[0,0]\n",
    "data = lens_pop.dfl_pop.q_arr\n",
    "counts_smoothed, bins = smooth_hist(data, density=True)\n",
    "this_ax.step(bins[:-1], counts_smoothed,  where='post', color='black', label=\"Parent ETG\", ls='--')\n",
    "data = q_l\n",
    "counts_smoothed, bins = smooth_hist(data, density=True)\n",
    "this_ax.step(bins[:-1], counts_smoothed,  where='post', color='black', label=\"Forground deflector\")\n",
    "this_ax.set_xlabel(r'$q_\\mathrm{l}$')\n",
    "this_ax.set_ylabel(r'$\\rm PDF$')\n",
    "_, ymax = this_ax.get_ylim()\n",
    "this_ax.set_ylim(0,ymax)\n",
    "this_ax.set_xlim(0.2,1.0)\n",
    "this_ax.set_yticklabels([])\n",
    "this_ax.legend(loc='upper left')\n",
    "\n",
    "\n",
    "this_ax = axes[0,1]\n",
    "data = lens_pop.dfl_pop.Re_arr\n",
    "counts_smoothed, bins = smooth_hist(data, density=True, log_bin=True)\n",
    "this_ax.step(bins[:-1], counts_smoothed,  where='post', color='black', label=\"Parent ETG\", ls='--')\n",
    "data = re_l\n",
    "counts_smoothed, bins = smooth_hist(data, density=True, log_bin=True)\n",
    "this_ax.step(bins[:-1], counts_smoothed,  where='post', color='black', label=\"Forground deflector\")\n",
    "this_ax.set_xlabel(r'$R_\\mathrm{e}^\\mathrm{l} \\; \\left(\\mathrm{arcsec}\\right) $')\n",
    "_, ymax = this_ax.get_ylim()\n",
    "this_ax.set_xscale('log')\n",
    "this_ax.set_ylim(0,ymax)\n",
    "this_ax.set_yticklabels([])\n",
    "this_ax.legend()\n",
    "\n",
    "\n",
    "this_ax = axes[0,2]\n",
    "data = lens_pop.dfl_pop.vdisp_arr\n",
    "counts_smoothed, bins = smooth_hist(data, density=True)\n",
    "this_ax.step(bins[:-1], counts_smoothed,  where='post', color='black', label=\"Parent ETG\", ls='--')\n",
    "data = vdisp_l\n",
    "counts_smoothed, bins = smooth_hist(data, density=True)\n",
    "this_ax.step(bins[:-1], counts_smoothed,  where='post', color='black', label=\"Forground deflector\")\n",
    "this_ax.set_xlabel(r'$\\sigma_v \\; \\left(\\mathrm{km/s}\\right)$')\n",
    "_, ymax = this_ax.get_ylim()\n",
    "this_ax.set_ylim(0,ymax)\n",
    "this_ax.set_yticklabels([])\n",
    "this_ax.legend()\n",
    "\n",
    "\n",
    "this_ax = axes[1,0]\n",
    "data = lens_pop.src_pop.q_arr.reshape(-1)\n",
    "counts_smoothed, bins = smooth_hist(data, density=True)\n",
    "this_ax.step(bins[:-1], counts_smoothed,  where='post', color='black', label=\"Parent source\", ls='--')\n",
    "data = q_s\n",
    "counts_smoothed, bins = smooth_hist(data, density=True)\n",
    "this_ax.step(bins[:-1], counts_smoothed,  where='post', color='black', label=\"Background source\")\n",
    "this_ax.set_xlabel(r'$q_\\mathrm{s}$')\n",
    "this_ax.set_ylabel(r'$\\rm PDF$')\n",
    "_, ymax = this_ax.get_ylim()\n",
    "this_ax.set_ylim(0,ymax)\n",
    "this_ax.set_yticklabels([])\n",
    "this_ax.set_xlim(0.2,1.0)\n",
    "this_ax.legend(loc='lower right')\n",
    "\n",
    "\n",
    "this_ax = axes[1,1]\n",
    "data = lens_pop.src_pop.Re_arr.reshape(-1)\n",
    "counts_smoothed, bins = smooth_hist(data, density=True, log_bin=True)\n",
    "this_ax.step(bins[:-1], counts_smoothed,  where='post', color='black', label=\"Parent source\", ls='--')\n",
    "data = re_s\n",
    "counts_smoothed, bins = smooth_hist(data, density=True, log_bin=True)\n",
    "this_ax.step(bins[:-1], counts_smoothed,  where='post', color='black', label=\"Background source\")\n",
    "this_ax.set_xlabel(r'$R_\\mathrm{e}^\\mathrm{s} \\; \\left(\\mathrm{arcsec}\\right)$')\n",
    "_, ymax = this_ax.get_ylim()\n",
    "this_ax.set_xscale('log')\n",
    "this_ax.set_ylim(0,ymax)\n",
    "this_ax.set_yticklabels([])\n",
    "this_ax.legend()\n",
    "\n",
    "this_ax = axes[1,2]\n",
    "data = lens_pop.src_pop.app_mag_arr['g'].reshape(-1)\n",
    "counts_smoothed, bins = smooth_hist(data, density=True)\n",
    "this_ax.step(bins[:-1], counts_smoothed,  where='post', color='black', label=\"Parent source\", ls='--')\n",
    "data = mag_g_s\n",
    "counts_smoothed, bins = smooth_hist(data, density=True)\n",
    "this_ax.step(bins[:-1], counts_smoothed,  where='post', color='black', label=\"Background source\")\n",
    "this_ax.set_xlabel(r'$\\mathrm{mag}_\\mathrm{g}^\\mathrm{src}$')\n",
    "_, ymax = this_ax.get_ylim()\n",
    "this_ax.set_ylim(0,ymax)\n",
    "this_ax.set_yticklabels([])\n",
    "this_ax.legend(loc='upper left')\n",
    "\n",
    "plt.tight_layout()\n",
    "fig.savefig('figures/selection_effect.pdf', bbox_inches='tight')\n",
    "plt.close(fig)\n",
    "# plt.show()"
   ]
  },
  {
   "cell_type": "code",
   "execution_count": 7,
   "id": "31541355-925b-448d-8fe7-cb7b99c3f961",
   "metadata": {
    "tags": []
   },
   "outputs": [
    {
     "data": {
      "text/plain": [
       "array([221.19507154,  94.92198932, 202.10574299, ..., 122.71728187,\n",
       "       130.06109923, 163.0703084 ])"
      ]
     },
     "execution_count": 7,
     "metadata": {},
     "output_type": "execute_result"
    }
   ],
   "source": [
    "lens_pop.dfl_pop.vdisp_arr"
   ]
  },
  {
   "cell_type": "code",
   "execution_count": null,
   "id": "df85cfec-4923-4ad4-abbf-281f22552580",
   "metadata": {},
   "outputs": [],
   "source": []
  }
 ],
 "metadata": {
  "kernelspec": {
   "display_name": "Python 3 (ipykernel)",
   "language": "python",
   "name": "python3"
  },
  "language_info": {
   "codemirror_mode": {
    "name": "ipython",
    "version": 3
   },
   "file_extension": ".py",
   "mimetype": "text/x-python",
   "name": "python",
   "nbconvert_exporter": "python",
   "pygments_lexer": "ipython3",
   "version": "3.11.3"
  }
 },
 "nbformat": 4,
 "nbformat_minor": 5
}
