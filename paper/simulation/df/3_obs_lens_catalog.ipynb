{
 "cells": [
  {
   "cell_type": "code",
   "execution_count": 1,
   "id": "89a51777-8a0c-4993-b9bc-22eef22687c5",
   "metadata": {
    "tags": []
   },
   "outputs": [],
   "source": [
    "from SimCsstLens.LensPop.Population import LensPopulation\n",
    "from SimCsstLens import CosmologyDistance as CD\n",
    "import math\n",
    "import h5py\n",
    "import numpy as np \n",
    "from multiprocessing import Pool\n",
    "import os\n",
    "from astropy.table import Table, vstack\n",
    "\n",
    "this_cosmos = CD.CosmosDist(Om0=0.3, Ode0=0.7, h=0.7)\n",
    "lens_pop = LensPopulation(\n",
    "    vdisp_floor=100, \n",
    "    zl_max=2.0, \n",
    "    cosmo_dist=this_cosmos,\n",
    "    src_catalog_type='lsst',\n",
    "    bands=['g', 'r', 'i', 'z'],\n",
    ")\n",
    "sky_frac = 400.0/41252.96\n",
    "N_etgs = lens_pop.dfl_pop.number_of_etgs(sky_frac=sky_frac) #ideal lenses\n",
    "Nsamples_per_draw = 20000\n",
    "Ndraw = math.ceil(N_etgs/Nsamples_per_draw)"
   ]
  },
  {
   "cell_type": "code",
   "execution_count": 2,
   "id": "6562fd99-f019-4b5b-ae50-19ac1d5be82f",
   "metadata": {
    "tags": []
   },
   "outputs": [
    {
     "data": {
      "text/html": [
       "<div><i>Table length=5</i>\n",
       "<table id=\"table139794224249040\" class=\"table-striped table-bordered table-condensed\">\n",
       "<thead><tr><th>thetaE_s0</th><th>mass_s0</th><th>z_s0</th><th>re_s0</th><th>q_s0</th><th>pa_s0</th><th>x_s0</th><th>y_s0</th><th>mag_g_s0</th><th>mag_r_s0</th><th>mag_i_s0</th><th>mag_z_s0</th><th>vdisp_l</th><th>re_l</th><th>q_l</th><th>z_l</th><th>mag_g_l</th><th>mag_r_l</th><th>mag_i_l</th><th>mag_z_l</th><th>SNR_g</th><th>SNR_r</th><th>SNR_i</th><th>SNR_z</th><th>SNR_stack</th><th>best_band</th><th>mu</th><th>if_ring</th><th>if_obs_stack</th><th>if_obs_single</th><th>noise_seed</th></tr></thead>\n",
       "<thead><tr><th>float64</th><th>float64</th><th>float64</th><th>float64</th><th>float64</th><th>float64</th><th>float64</th><th>float64</th><th>float64</th><th>float64</th><th>float64</th><th>float64</th><th>float64</th><th>float64</th><th>float64</th><th>float64</th><th>float64</th><th>float64</th><th>float64</th><th>float64</th><th>float64</th><th>float64</th><th>float64</th><th>float64</th><th>float64</th><th>str1</th><th>float64</th><th>bool</th><th>bool</th><th>bool</th><th>int64</th></tr></thead>\n",
       "<tr><td>1.6612847132722006</td><td>777841613040.7307</td><td>3.1594</td><td>0.3544755023317946</td><td>0.85709337582483</td><td>11.341683809698482</td><td>-1.0043074749321925</td><td>1.1910591043984728</td><td>27.6917</td><td>26.677</td><td>26.5989</td><td>26.8704</td><td>302.4741757822358</td><td>0.8909408359938121</td><td>0.8684864736085851</td><td>0.6670874182946879</td><td>22.685920992197346</td><td>20.73689490882076</td><td>19.238514757001738</td><td>18.605562724147774</td><td>1.8181835340861259</td><td>3.5794475546248816</td><td>3.158642283362991</td><td>1.6614724538013428</td><td>5.193039829981309</td><td>r</td><td>2.2457483090899064</td><td>False</td><td>False</td><td>False</td><td>0</td></tr>\n",
       "<tr><td>0.825481974967398</td><td>164586687700.29434</td><td>1.2591</td><td>0.0935330344719448</td><td>0.5684777971367783</td><td>116.16451654532446</td><td>0.5228909322503731</td><td>0.10545450645693533</td><td>26.31</td><td>26.1468</td><td>25.6635</td><td>25.1153</td><td>221.8209188215577</td><td>0.5510754733502219</td><td>0.6796811570351069</td><td>0.42187319284745967</td><td>21.848928859753332</td><td>19.922679668623164</td><td>19.14326467354166</td><td>18.669723602889594</td><td>19.214998179584583</td><td>15.84385673160041</td><td>18.584756700949967</td><td>19.441141018838156</td><td>35.82338175795979</td><td>z</td><td>2.8287293511832883</td><td>False</td><td>False</td><td>False</td><td>1</td></tr>\n",
       "<tr><td>0.4265831812712795</td><td>65519251273.02334</td><td>2.1712</td><td>0.1852567525757788</td><td>0.7850626724323357</td><td>121.23171975010607</td><td>-0.020259794967345444</td><td>0.21694031310144743</td><td>24.6963</td><td>24.7744</td><td>24.8496</td><td>24.7972</td><td>169.5535272031944</td><td>0.3304793672209101</td><td>0.7803635803832769</td><td>0.7434207201745658</td><td>26.140655520713217</td><td>23.93399551686964</td><td>22.4319406027012</td><td>21.650047604095075</td><td>72.62716581770654</td><td>53.55920772993511</td><td>40.546264035838924</td><td>28.03213803006734</td><td>97.48033237295323</td><td>g</td><td>4.414651375200909</td><td>True</td><td>True</td><td>True</td><td>2</td></tr>\n",
       "<tr><td>0.5026815929053262</td><td>107880565464.09926</td><td>2.8517</td><td>0.14094980827982984</td><td>0.7297198603606392</td><td>10.41030698261578</td><td>-0.19488965199463854</td><td>0.04363620450117989</td><td>27.7466</td><td>27.7608</td><td>27.8128</td><td>27.8587</td><td>191.86308948923434</td><td>0.24117100127351537</td><td>0.8560193858532057</td><td>0.985846666766843</td><td>27.61084536681414</td><td>24.789515539149114</td><td>23.53399682706489</td><td>22.231972198048854</td><td>6.368174886978571</td><td>4.86969963394229</td><td>3.780564284785695</td><td>2.36020993702181</td><td>8.692780960174415</td><td>g</td><td>5.601925813990025</td><td>True</td><td>False</td><td>False</td><td>3</td></tr>\n",
       "<tr><td>0.7184486430724828</td><td>133920609801.78696</td><td>3.6965</td><td>0.37004342225948367</td><td>0.6931065258294944</td><td>159.4706413086402</td><td>0.5393667285717082</td><td>0.061411532873781795</td><td>26.8033</td><td>26.4273</td><td>26.4546</td><td>26.4648</td><td>193.06456301038654</td><td>0.3918222982808047</td><td>0.5908608683875458</td><td>0.6323266074395849</td><td>24.387462668935093</td><td>22.465469901834965</td><td>21.058321654209635</td><td>20.464785335831404</td><td>4.355783315927338</td><td>4.696635413203951</td><td>3.6428665331931587</td><td>2.3927306493766265</td><td>7.539996942680922</td><td>r</td><td>2.873149247319393</td><td>True</td><td>False</td><td>False</td><td>4</td></tr>\n",
       "</table></div>"
      ],
      "text/plain": [
       "<Table length=5>\n",
       "    thetaE_s0           mass_s0         z_s0         re_s0               q_s0              pa_s0        ...         mu         if_ring if_obs_stack if_obs_single noise_seed\n",
       "     float64            float64       float64       float64            float64            float64       ...      float64         bool      bool          bool       int64   \n",
       "------------------ ------------------ ------- ------------------- ------------------ ------------------ ... ------------------ ------- ------------ ------------- ----------\n",
       "1.6612847132722006  777841613040.7307  3.1594  0.3544755023317946   0.85709337582483 11.341683809698482 ... 2.2457483090899064   False        False         False          0\n",
       " 0.825481974967398 164586687700.29434  1.2591  0.0935330344719448 0.5684777971367783 116.16451654532446 ... 2.8287293511832883   False        False         False          1\n",
       "0.4265831812712795  65519251273.02334  2.1712  0.1852567525757788 0.7850626724323357 121.23171975010607 ...  4.414651375200909    True         True          True          2\n",
       "0.5026815929053262 107880565464.09926  2.8517 0.14094980827982984 0.7297198603606392  10.41030698261578 ...  5.601925813990025    True        False         False          3\n",
       "0.7184486430724828 133920609801.78696  3.6965 0.37004342225948367 0.6931065258294944  159.4706413086402 ...  2.873149247319393    True        False         False          4"
      ]
     },
     "execution_count": 2,
     "metadata": {},
     "output_type": "execute_result"
    }
   ],
   "source": [
    "current_dir = os.getcwd()\n",
    "def return_detected(count_draw, stack=False):\n",
    "    table = Table()\n",
    "\n",
    "    fn = h5py.File(f\"./samples/lenses_{count_draw}.hdf5\", \"r\")\n",
    "    src_thetaE = fn['source/thetaE'][()]\n",
    "    for ii in range(src_thetaE.shape[0]):\n",
    "        table[f'thetaE_s{ii}'] =  src_thetaE[ii, :]\n",
    "        table[f'mass_s{ii}'] = fn['source/einstein_mass'][()][ii, :]\n",
    "        table[f'z_s{ii}'] = fn['source']['z'][()][ii, :]\n",
    "        table[f're_s{ii}'] = fn['source']['Re'][()][ii, :]\n",
    "        table[f'q_s{ii}'] = fn['source']['q'][()][ii, :]\n",
    "        table[f'pa_s{ii}'] = fn['source']['pa'][()][ii, :]\n",
    "        table[f'x_s{ii}'] = fn['source']['xs'][()][ii, :]\n",
    "        table[f'y_s{ii}'] = fn['source']['ys'][()][ii, :]\n",
    "        table[f'mag_g_s{ii}'] = fn['source']['app_mag_g'][()][ii, :]\n",
    "        table[f'mag_r_s{ii}'] = fn['source']['app_mag_r'][()][ii, :]\n",
    "        table[f'mag_i_s{ii}'] = fn['source']['app_mag_i'][()][ii, :]\n",
    "        table[f'mag_z_s{ii}'] = fn['source']['app_mag_z'][()][ii, :]\n",
    "\n",
    "    table['vdisp_l'] = fn['deflector/vdisp'][()]\n",
    "    table['re_l'] = fn['deflector/Re'][()]\n",
    "    table['q_l']= fn['deflector/q'][()]\n",
    "    table['z_l'] = fn['deflector/z'][()]\n",
    "    table['mag_g_l'] = fn['deflector/app_mag_g'][()]\n",
    "    table['mag_r_l'] = fn['deflector/app_mag_r'][()]\n",
    "    table['mag_i_l'] = fn['deflector/app_mag_i'][()]\n",
    "    table['mag_z_l'] = fn['deflector/app_mag_z'][()]\n",
    "\n",
    "    SNR = fn['Obs/SNR'][()] #shape: [nsrc, nband, n_ideal_lens]\n",
    "    table['SNR_g'] = SNR[0,0,:]\n",
    "    table['SNR_r'] = SNR[0,1,:]\n",
    "    table['SNR_i'] = SNR[0,2,:]\n",
    "    table['SNR_z'] = SNR[0,3,:]\n",
    "    table['SNR_stack'] = SNR[0,-1,:]\n",
    "    SNR_griz = SNR[0,0:-1,:]\n",
    "    indices = np.argmax(SNR_griz, axis=0)\n",
    "    table['best_band'] = np.array(['g', 'r', 'i', 'z'])[indices] \n",
    "    \n",
    "    mu = fn['Obs/magnification'][()] #shape: [nsrc, nband, n_ideal_lens]\n",
    "    table['mu'] = mu[0,-1,:]\n",
    "    \n",
    "    ring_cond = fn['Obs/ring_cond'][()] #shape: [nsrc, nband, n_ideal_lenses]\n",
    "    table['if_ring'] = ring_cond[0,-1,:]\n",
    "\n",
    "    obs_cond = fn['Obs/detect_cond'][()] #shape: [nsrc, nband, n_ideal_lenses, 3]\n",
    "    \n",
    "    fn.close()\n",
    "\n",
    "\n",
    "    #stack band\n",
    "    this_obs_cond = obs_cond.astype('int')\n",
    "    this_obs_cond = this_obs_cond[0, -1, :, :] #src-0, band-stack, nlens, 3-condition\n",
    "    this_obs_cond = np.sum(this_obs_cond, axis=1) #shape: [nlens]\n",
    "    bool_cond = (this_obs_cond==3)\n",
    "    table['if_obs_stack'] = bool_cond\n",
    "        \n",
    "    #individual band\n",
    "    this_obs_cond = obs_cond.astype('int')\n",
    "    this_obs_cond = this_obs_cond[:, :-1, :, :] #remove stack band\n",
    "    cond = np.sum(this_obs_cond, axis=3)[0,:,:] #cond: [nband, nlens]\n",
    "    bool_cond = (cond==3).astype('int') #cond: [nband, nlens]\n",
    "    bool_cond = (np.sum(bool_cond, axis=0)>0) #bool_cond\" [nlens]\n",
    "    table['if_obs_single'] = bool_cond\n",
    "    \n",
    "    n_detect_lens = len(np.where(bool_cond)[0])\n",
    "    n_ideal_lens = src_thetaE.shape[1]\n",
    "    \n",
    "    table['noise_seed'] = np.arange(n_ideal_lens, dtype='int')\n",
    "    \n",
    "    return n_detect_lens, n_ideal_lens, table\n",
    "\n",
    "n_detect_lens, n_ideal_lens, table = return_detected(0, stack=True)\n",
    "table[0:5]"
   ]
  },
  {
   "cell_type": "code",
   "execution_count": 3,
   "id": "80ec12d2-2f44-4469-a4f1-f717e92d8312",
   "metadata": {
    "tags": []
   },
   "outputs": [],
   "source": [
    "pool = Pool(processes=64)\n",
    "vars = list(zip(list(range(Ndraw)), [True]*Ndraw))\n",
    "results = pool.starmap(return_detected, vars)\n",
    "\n",
    "n_detect_lens = [item[0] for item in results]\n",
    "n_ideal_lens = [item[1] for item in results]\n",
    "n_detect_lens = sum(n_detect_lens)\n",
    "n_ideal_lens = sum(n_ideal_lens)\n",
    "\n",
    "tables = [item[2] for item in results]\n",
    "stacked_table = vstack(tables)\n",
    "stacked_table.write('lens_samples.fits', overwrite=True)"
   ]
  },
  {
   "cell_type": "code",
   "execution_count": 4,
   "id": "724b16af-22bf-4f4f-b6c0-dc07e74eb72d",
   "metadata": {
    "tags": []
   },
   "outputs": [
    {
     "data": {
      "text/plain": [
       "115537"
      ]
     },
     "execution_count": 4,
     "metadata": {},
     "output_type": "execute_result"
    }
   ],
   "source": [
    "len(stacked_table)"
   ]
  },
  {
   "cell_type": "code",
   "execution_count": 6,
   "id": "27ff99e0-c292-47d0-8ad0-57ae55f4640c",
   "metadata": {
    "tags": []
   },
   "outputs": [
    {
     "data": {
      "text/plain": [
       "11478"
      ]
     },
     "execution_count": 6,
     "metadata": {},
     "output_type": "execute_result"
    }
   ],
   "source": [
    "mask = stacked_table['if_obs_stack'].data\n",
    "table_detect = stacked_table[mask]\n",
    "table_detect.write(\"catalog_csv/csst_df_stack.csv\")\n",
    "len(table_detect)"
   ]
  },
  {
   "cell_type": "code",
   "execution_count": 7,
   "id": "dd2deb81-0827-4f04-aa3f-f22c132f0d95",
   "metadata": {
    "tags": []
   },
   "outputs": [
    {
     "data": {
      "text/plain": [
       "7499"
      ]
     },
     "execution_count": 7,
     "metadata": {},
     "output_type": "execute_result"
    }
   ],
   "source": [
    "mask = stacked_table['if_obs_single'].data\n",
    "table_detect = stacked_table[mask]\n",
    "table_detect.write(\"catalog_csv/csst_df_single.csv\")\n",
    "len(table_detect)"
   ]
  },
  {
   "cell_type": "code",
   "execution_count": null,
   "id": "edd23620-c0b7-405f-abb1-29f4bde6da7e",
   "metadata": {},
   "outputs": [],
   "source": []
  }
 ],
 "metadata": {
  "kernelspec": {
   "display_name": "Python 3 (ipykernel)",
   "language": "python",
   "name": "python3"
  },
  "language_info": {
   "codemirror_mode": {
    "name": "ipython",
    "version": 3
   },
   "file_extension": ".py",
   "mimetype": "text/x-python",
   "name": "python",
   "nbconvert_exporter": "python",
   "pygments_lexer": "ipython3",
   "version": "3.11.3"
  }
 },
 "nbformat": 4,
 "nbformat_minor": 5
}
