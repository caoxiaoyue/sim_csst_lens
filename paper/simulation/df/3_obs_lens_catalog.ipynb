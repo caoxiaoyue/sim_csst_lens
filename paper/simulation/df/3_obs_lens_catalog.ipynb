{
 "cells": [
  {
   "cell_type": "code",
   "execution_count": 1,
   "id": "89a51777-8a0c-4993-b9bc-22eef22687c5",
   "metadata": {
    "tags": []
   },
   "outputs": [],
   "source": [
    "from SimCsstLens.LensPop.Population import LensPopulation\n",
    "from SimCsstLens import CosmologyDistance as CD\n",
    "import math\n",
    "import h5py\n",
    "import numpy as np \n",
    "from multiprocessing import Pool\n",
    "import os\n",
    "from astropy.table import Table, vstack\n",
    "\n",
    "this_cosmos = CD.CosmosDist(Om0=0.3, Ode0=0.7, h=0.7)\n",
    "lens_pop = LensPopulation(\n",
    "    vdisp_floor=50, \n",
    "    zl_max=2.5, \n",
    "    cosmo_dist=this_cosmos,\n",
    "    src_catalog_type='lsst',\n",
    "    bands=['g', 'r', 'i', 'z'],\n",
    ")\n",
    "sky_frac = 400.0/41252.96\n",
    "N_etgs = lens_pop.dfl_pop.number_of_etgs(sky_frac=sky_frac) #ideal lenses\n",
    "Nsamples_per_draw = 10000\n",
    "Ndraw = math.ceil(N_etgs/Nsamples_per_draw)"
   ]
  },
  {
   "cell_type": "code",
   "execution_count": 2,
   "id": "6562fd99-f019-4b5b-ae50-19ac1d5be82f",
   "metadata": {
    "tags": []
   },
   "outputs": [
    {
     "data": {
      "text/html": [
       "<div><i>Table length=5</i>\n",
       "<table id=\"table140118776519824\" class=\"table-striped table-bordered table-condensed\">\n",
       "<thead><tr><th>thetaE_s0</th><th>mass_s0</th><th>z_s0</th><th>re_s0</th><th>q_s0</th><th>pa_s0</th><th>x_s0</th><th>y_s0</th><th>mag_g_s0</th><th>mag_r_s0</th><th>mag_i_s0</th><th>mag_z_s0</th><th>vdisp_l</th><th>re_l</th><th>q_l</th><th>z_l</th><th>mag_g_l</th><th>mag_r_l</th><th>mag_i_l</th><th>mag_z_l</th><th>SNR_g</th><th>SNR_r</th><th>SNR_i</th><th>SNR_z</th><th>SNR_stack</th><th>best_band</th><th>mu</th><th>if_ring</th><th>if_obs_stack</th><th>if_obs_single</th><th>noise_seed</th></tr></thead>\n",
       "<thead><tr><th>float64</th><th>float64</th><th>float64</th><th>float64</th><th>float64</th><th>float64</th><th>float64</th><th>float64</th><th>float64</th><th>float64</th><th>float64</th><th>float64</th><th>float64</th><th>float64</th><th>float64</th><th>float64</th><th>float64</th><th>float64</th><th>float64</th><th>float64</th><th>float64</th><th>float64</th><th>float64</th><th>float64</th><th>float64</th><th>str1</th><th>float64</th><th>bool</th><th>bool</th><th>bool</th><th>int64</th></tr></thead>\n",
       "<tr><td>0.23797929768248702</td><td>30976695539.52916</td><td>1.6798</td><td>0.11786292327786414</td><td>0.8474629028333653</td><td>55.08481023362523</td><td>0.1036032048090131</td><td>0.11868078099814919</td><td>27.665</td><td>27.6488</td><td>27.4533</td><td>27.0933</td><td>151.7194889327073</td><td>0.3043779059882202</td><td>0.3964549624859002</td><td>0.8805091450377395</td><td>27.80641206286167</td><td>25.030508731387254</td><td>23.779173792250834</td><td>22.55635290091978</td><td>6.465961036907592</td><td>4.987678056609821</td><td>4.791570517262607</td><td>4.284683455484601</td><td>10.216626414769216</td><td>g</td><td>3.115435598891522</td><td>True</td><td>False</td><td>False</td><td>0</td></tr>\n",
       "<tr><td>0.2327003255518276</td><td>46284198272.181496</td><td>2.4159</td><td>0.028342226338054163</td><td>0.6211416386854149</td><td>149.89803015470056</td><td>0.05426940326501202</td><td>-0.15806227681125273</td><td>27.5169</td><td>27.5212</td><td>27.8608</td><td>27.6577</td><td>179.47222422744522</td><td>0.2874074564136954</td><td>0.4253267429644273</td><td>1.4620646435754536</td><td>29.535268097321588</td><td>28.29512958834814</td><td>26.057772286509277</td><td>24.857577561973432</td><td>18.512553680946112</td><td>13.999173351455141</td><td>8.332751052552368</td><td>6.477557917596782</td><td>24.041004541384105</td><td>g</td><td>3.096262967147874</td><td>False</td><td>True</td><td>False</td><td>1</td></tr>\n",
       "<tr><td>0.5466861191399042</td><td>173068085034.61206</td><td>3.0261</td><td>0.32428016678857896</td><td>0.7850220060772947</td><td>157.48805910250059</td><td>-0.11757004766982142</td><td>0.24981643047871194</td><td>24.7938</td><td>24.7664</td><td>24.7941</td><td>24.8155</td><td>227.17911449900026</td><td>0.5727351368193292</td><td>0.8776364897416906</td><td>1.3307209962425919</td><td>28.13346779429849</td><td>26.5114397536718</td><td>24.3366888245874</td><td>23.21334104243998</td><td>42.56084570640544</td><td>34.210398307181606</td><td>27.681203628579325</td><td>18.47074108631701</td><td>61.78743212878781</td><td>g</td><td>3.7697160611906106</td><td>True</td><td>True</td><td>True</td><td>2</td></tr>\n",
       "<tr><td>1.4165663692862476</td><td>339182875539.40497</td><td>1.5344</td><td>0.6902159278468264</td><td>0.30675897337307334</td><td>12.55246504975652</td><td>0.4418276796078837</td><td>-0.6063044305024787</td><td>25.4988</td><td>25.5583</td><td>25.4276</td><td>25.2708</td><td>263.41591589720423</td><td>0.8113918689913153</td><td>0.6311174241146216</td><td>0.32708611451350983</td><td>19.93260715445946</td><td>18.03204346697315</td><td>17.383969788666267</td><td>17.03081504507428</td><td>8.885335958892336</td><td>5.76542090910123</td><td>5.096469289995122</td><td>3.951462618979988</td><td>11.488134369011131</td><td>g</td><td>3.059629427780577</td><td>True</td><td>False</td><td>False</td><td>3</td></tr>\n",
       "<tr><td>0.6587359681256232</td><td>141053848482.79425</td><td>3.0092</td><td>0.021438496416261787</td><td>0.6119091714923903</td><td>143.27251795783408</td><td>-0.04009446621892233</td><td>-0.39209617158833865</td><td>27.1003</td><td>26.7277</td><td>26.8484</td><td>27.1725</td><td>199.06457685123104</td><td>0.3741836132874907</td><td>0.2315990877109395</td><td>0.766812941994277</td><td>25.61364632260446</td><td>23.291843121093866</td><td>21.840452450566236</td><td>20.991167998416003</td><td>44.935455005076555</td><td>45.253694374542206</td><td>33.03713318339383</td><td>16.509317263869395</td><td>70.84123685552886</td><td>r</td><td>6.655251304804694</td><td>True</td><td>True</td><td>True</td><td>4</td></tr>\n",
       "</table></div>"
      ],
      "text/plain": [
       "<Table length=5>\n",
       "     thetaE_s0           mass_s0         z_s0         re_s0         ... if_obs_stack if_obs_single noise_seed\n",
       "      float64            float64       float64       float64        ...     bool          bool       int64   \n",
       "------------------- ------------------ ------- -------------------- ... ------------ ------------- ----------\n",
       "0.23797929768248702  30976695539.52916  1.6798  0.11786292327786414 ...        False         False          0\n",
       " 0.2327003255518276 46284198272.181496  2.4159 0.028342226338054163 ...         True         False          1\n",
       " 0.5466861191399042 173068085034.61206  3.0261  0.32428016678857896 ...         True          True          2\n",
       " 1.4165663692862476 339182875539.40497  1.5344   0.6902159278468264 ...        False         False          3\n",
       " 0.6587359681256232 141053848482.79425  3.0092 0.021438496416261787 ...         True          True          4"
      ]
     },
     "execution_count": 2,
     "metadata": {},
     "output_type": "execute_result"
    }
   ],
   "source": [
    "current_dir = os.getcwd()\n",
    "def return_detected(count_draw, stack=False):\n",
    "    table = Table()\n",
    "\n",
    "    fn = h5py.File(f\"./samples/lenses_{count_draw}.hdf5\", \"r\")\n",
    "    src_thetaE = fn['source/thetaE'][()]\n",
    "    for ii in range(src_thetaE.shape[0]):\n",
    "        table[f'thetaE_s{ii}'] =  src_thetaE[ii, :]\n",
    "        table[f'mass_s{ii}'] = fn['source/einstein_mass'][()][ii, :]\n",
    "        table[f'z_s{ii}'] = fn['source']['z'][()][ii, :]\n",
    "        table[f're_s{ii}'] = fn['source']['Re'][()][ii, :]\n",
    "        table[f'q_s{ii}'] = fn['source']['q'][()][ii, :]\n",
    "        table[f'pa_s{ii}'] = fn['source']['pa'][()][ii, :]\n",
    "        table[f'x_s{ii}'] = fn['source']['xs'][()][ii, :]\n",
    "        table[f'y_s{ii}'] = fn['source']['ys'][()][ii, :]\n",
    "        table[f'mag_g_s{ii}'] = fn['source']['app_mag_g'][()][ii, :]\n",
    "        table[f'mag_r_s{ii}'] = fn['source']['app_mag_r'][()][ii, :]\n",
    "        table[f'mag_i_s{ii}'] = fn['source']['app_mag_i'][()][ii, :]\n",
    "        table[f'mag_z_s{ii}'] = fn['source']['app_mag_z'][()][ii, :]\n",
    "\n",
    "    table['vdisp_l'] = fn['deflector/vdisp'][()]\n",
    "    table['re_l'] = fn['deflector/Re'][()]\n",
    "    table['q_l']= fn['deflector/q'][()]\n",
    "    table['z_l'] = fn['deflector/z'][()]\n",
    "    table['mag_g_l'] = fn['deflector/app_mag_g'][()]\n",
    "    table['mag_r_l'] = fn['deflector/app_mag_r'][()]\n",
    "    table['mag_i_l'] = fn['deflector/app_mag_i'][()]\n",
    "    table['mag_z_l'] = fn['deflector/app_mag_z'][()]\n",
    "\n",
    "    SNR = fn['Obs/SNR'][()] #shape: [nsrc, nband, n_ideal_lens]\n",
    "    table['SNR_g'] = SNR[0,0,:]\n",
    "    table['SNR_r'] = SNR[0,1,:]\n",
    "    table['SNR_i'] = SNR[0,2,:]\n",
    "    table['SNR_z'] = SNR[0,3,:]\n",
    "    table['SNR_stack'] = SNR[0,-1,:]\n",
    "    SNR_griz = SNR[0,0:-1,:]\n",
    "    indices = np.argmax(SNR_griz, axis=0)\n",
    "    table['best_band'] = np.array(['g', 'r', 'i', 'z'])[indices] \n",
    "    \n",
    "    mu = fn['Obs/magnification'][()] #shape: [nsrc, nband, n_ideal_lens]\n",
    "    table['mu'] = mu[0,-1,:]\n",
    "    \n",
    "    ring_cond = fn['Obs/ring_cond'][()] #shape: [nsrc, nband, n_ideal_lenses]\n",
    "    table['if_ring'] = ring_cond[0,-1,:]\n",
    "\n",
    "    obs_cond = fn['Obs/detect_cond'][()] #shape: [nsrc, nband, n_ideal_lenses, 3]\n",
    "    \n",
    "    fn.close()\n",
    "\n",
    "\n",
    "    #stack band\n",
    "    this_obs_cond = obs_cond.astype('int')\n",
    "    this_obs_cond = this_obs_cond[0, -1, :, :] #src-0, band-stack, nlens, 3-condition\n",
    "    this_obs_cond = np.sum(this_obs_cond, axis=1) #shape: [nlens]\n",
    "    bool_cond = (this_obs_cond==3)\n",
    "    table['if_obs_stack'] = bool_cond\n",
    "        \n",
    "    #individual band\n",
    "    this_obs_cond = obs_cond.astype('int')\n",
    "    this_obs_cond = this_obs_cond[:, :-1, :, :] #remove stack band\n",
    "    cond = np.sum(this_obs_cond, axis=3)[0,:,:] #cond: [nband, nlens]\n",
    "    bool_cond = (cond==3).astype('int') #cond: [nband, nlens]\n",
    "    bool_cond = (np.sum(bool_cond, axis=0)>0) #bool_cond\" [nlens]\n",
    "    table['if_obs_single'] = bool_cond\n",
    "    \n",
    "    n_detect_lens = len(np.where(bool_cond)[0])\n",
    "    n_ideal_lens = src_thetaE.shape[1]\n",
    "    \n",
    "    table['noise_seed'] = np.arange(n_ideal_lens, dtype='int')\n",
    "    \n",
    "    return n_detect_lens, n_ideal_lens, table\n",
    "\n",
    "n_detect_lens, n_ideal_lens, table = return_detected(0, stack=True)\n",
    "table[0:5]"
   ]
  },
  {
   "cell_type": "code",
   "execution_count": 3,
   "id": "80ec12d2-2f44-4469-a4f1-f717e92d8312",
   "metadata": {
    "tags": []
   },
   "outputs": [],
   "source": [
    "pool = Pool(processes=64)\n",
    "vars = list(zip(list(range(Ndraw)), [True]*Ndraw))\n",
    "results = pool.starmap(return_detected, vars)\n",
    "\n",
    "n_detect_lens = [item[0] for item in results]\n",
    "n_ideal_lens = [item[1] for item in results]\n",
    "n_detect_lens = sum(n_detect_lens)\n",
    "n_ideal_lens = sum(n_ideal_lens)\n",
    "\n",
    "tables = [item[2] for item in results]\n",
    "stacked_table = vstack(tables)\n",
    "\n",
    "mask_thetaE = (stacked_table['thetaE_s0'].data > 0.074)\n",
    "stacked_table = stacked_table[mask_thetaE]\n",
    "stacked_table.write('lens_samples.fits', overwrite=True)"
   ]
  },
  {
   "cell_type": "code",
   "execution_count": 4,
   "id": "724b16af-22bf-4f4f-b6c0-dc07e74eb72d",
   "metadata": {
    "tags": []
   },
   "outputs": [
    {
     "data": {
      "text/plain": [
       "118256"
      ]
     },
     "execution_count": 4,
     "metadata": {},
     "output_type": "execute_result"
    }
   ],
   "source": [
    "len(stacked_table)"
   ]
  },
  {
   "cell_type": "code",
   "execution_count": 5,
   "id": "27ff99e0-c292-47d0-8ad0-57ae55f4640c",
   "metadata": {
    "tags": []
   },
   "outputs": [
    {
     "data": {
      "text/plain": [
       "17877"
      ]
     },
     "execution_count": 5,
     "metadata": {},
     "output_type": "execute_result"
    }
   ],
   "source": [
    "mask = stacked_table['if_obs_stack'].data\n",
    "table_detect = stacked_table[mask]\n",
    "table_detect.write(\"catalog_csv/csst_wf_stack.csv\", overwrite=True)\n",
    "len(table_detect)"
   ]
  },
  {
   "cell_type": "code",
   "execution_count": 6,
   "id": "dd2deb81-0827-4f04-aa3f-f22c132f0d95",
   "metadata": {
    "tags": []
   },
   "outputs": [
    {
     "data": {
      "text/plain": [
       "11951"
      ]
     },
     "execution_count": 6,
     "metadata": {},
     "output_type": "execute_result"
    }
   ],
   "source": [
    "mask = stacked_table['if_obs_single'].data\n",
    "table_detect = stacked_table[mask]\n",
    "table_detect.write(\"catalog_csv/csst_wf_single.csv\", overwrite=True)\n",
    "len(table_detect)"
   ]
  },
  {
   "cell_type": "code",
   "execution_count": null,
   "id": "edd23620-c0b7-405f-abb1-29f4bde6da7e",
   "metadata": {},
   "outputs": [],
   "source": []
  }
 ],
 "metadata": {
  "kernelspec": {
   "display_name": "Python 3 (ipykernel)",
   "language": "python",
   "name": "python3"
  },
  "language_info": {
   "codemirror_mode": {
    "name": "ipython",
    "version": 3
   },
   "file_extension": ".py",
   "mimetype": "text/x-python",
   "name": "python",
   "nbconvert_exporter": "python",
   "pygments_lexer": "ipython3",
   "version": "3.11.3"
  }
 },
 "nbformat": 4,
 "nbformat_minor": 5
}
