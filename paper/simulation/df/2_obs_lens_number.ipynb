{
 "cells": [
  {
   "cell_type": "code",
   "execution_count": 1,
   "id": "89a51777-8a0c-4993-b9bc-22eef22687c5",
   "metadata": {
    "tags": []
   },
   "outputs": [],
   "source": [
    "from SimCsstLens.LensPop.Population import LensPopulation\n",
    "from SimCsstLens import CosmologyDistance as CD\n",
    "import math\n",
    "\n",
    "this_cosmos = CD.CosmosDist(Om0=0.3, Ode0=0.7, h=0.7)\n",
    "lens_pop = LensPopulation(\n",
    "    vdisp_floor=50, \n",
    "    zl_max=2.5, \n",
    "    cosmo_dist=this_cosmos,\n",
    "    src_catalog_type='lsst',\n",
    "    bands=['g', 'r', 'i', 'z'],\n",
    ")\n",
    "sky_frac = 400.0/41252.96\n",
    "N_etgs = lens_pop.dfl_pop.number_of_etgs(sky_frac=sky_frac) #ideal lenses\n",
    "Nsamples_per_draw = 10000\n",
    "Ndraw = math.ceil(N_etgs/Nsamples_per_draw)"
   ]
  },
  {
   "cell_type": "code",
   "execution_count": 2,
   "id": "6562fd99-f019-4b5b-ae50-19ac1d5be82f",
   "metadata": {
    "tags": []
   },
   "outputs": [],
   "source": [
    "import h5py\n",
    "import numpy as np \n",
    "from multiprocessing import Pool\n",
    "import os\n",
    "\n",
    "current_dir = os.getcwd()\n",
    "def return_detected(count_draw, stack=False):\n",
    "    fn = h5py.File(f\"{current_dir}/samples/lenses_{count_draw}.hdf5\", \"r\")\n",
    "    src_z = fn['source/z'][()]\n",
    "    src_Re = fn['source/Re'][()]\n",
    "    src_q = fn['source/q'][()]\n",
    "    src_pa = fn['source/pa'][()]\n",
    "    src_app_mag_g = fn['source/app_mag_g'][()]\n",
    "    src_app_mag_r = fn['source/app_mag_r'][()]\n",
    "    src_app_mag_i = fn['source/app_mag_i'][()]\n",
    "    src_thetaE = fn['source/thetaE'][()]\n",
    "\n",
    "    obs_cond = fn['Obs/detect_cond'][()] #shape: [nsrc, nband, n_ideal_lenses, 3]\n",
    "    SNR = fn['Obs/SNR'][()] #shape: [nsrc, nband, n_ideal_lens]\n",
    "    mu_arr = fn['Obs/magnification'][()] #shape: [nsrc, nband, n_ideal_lens]\n",
    "    ring_cond = fn['Obs/ring_cond'][()] #shape: [nsrc, nband, n_ideal_lenses]\n",
    "\n",
    "    fn.close()\n",
    "\n",
    "    n_ideal_lens = src_thetaE.shape[1]\n",
    "\n",
    "    if stack:\n",
    "        #stack band\n",
    "        this_obs_cond = obs_cond.astype('int')\n",
    "        this_obs_cond = this_obs_cond[0, -1, :, :] #src-0, band-stack, nlens, 3-condition\n",
    "        this_obs_cond = np.sum(this_obs_cond, axis=1) #shape: [nlens]\n",
    "        bool_cond = (this_obs_cond==3)\n",
    "    else:\n",
    "        #individual band\n",
    "        this_obs_cond = obs_cond.astype('int')\n",
    "        this_obs_cond = this_obs_cond[:, :-1, :, :] #remove stack band\n",
    "        cond = np.sum(this_obs_cond, axis=3)[0,:,:] #cond: [nband, nlens]\n",
    "        bool_cond = (cond==3).astype('int') #cond: [nband, nlens]\n",
    "        bool_cond = (np.sum(bool_cond, axis=0)>0) #bool_cond\" [nlens]\n",
    "        \n",
    "#     print(SNR.shape)\n",
    "#     print(SNR[0, :, bool_cond].shape)\n",
    "\n",
    "    n_detect_lens = len(np.where(bool_cond)[0])\n",
    "    return n_detect_lens, n_ideal_lens, SNR[0, :, bool_cond], mu_arr[0, -1, bool_cond], ring_cond[0, -1, bool_cond], obs_cond\n",
    "\n",
    "n_detect_lens, n_ideal_lens, snr, mu, ring_cond, obs_cond = return_detected(0, stack=True)"
   ]
  },
  {
   "cell_type": "code",
   "execution_count": 3,
   "id": "51f31cd9-63cb-413a-b921-f03dbd39cd1c",
   "metadata": {
    "tags": []
   },
   "outputs": [
    {
     "name": "stdout",
     "output_type": "stream",
     "text": [
      "----------rate----------------\n",
      "ideal lensing rate of early type galaxy: 0.58%, == 119242/20549432.939341366\n",
      "ideal lenses detectable rate: 15.00%\n",
      "rate of a lens is ring-like: 41.09%\n",
      "30.52% of ideal lenses are not detectable partially due to *resolved image condition*\n",
      "63.29% of ideal lenses are not detectable partially due to *tangential arc condition*\n",
      "68.39% of ideal lenses are not detectable partially due to *lacking enough SNR*\n",
      "------------------------------\n",
      "\n",
      "----------lenses number----------------\n",
      "n lenses whole survey 17882.99945838155\n",
      "n ring-like lenses whole survey 7348.9997774224685\n",
      "------------------------------\n"
     ]
    }
   ],
   "source": [
    "pool = Pool(processes=24)\n",
    "vars = list(zip(list(range(Ndraw)), [True]*Ndraw))\n",
    "results = pool.starmap(return_detected, vars)\n",
    "\n",
    "n_detect_lens = [item[0] for item in results]\n",
    "n_ideal_lens = [item[1] for item in results]\n",
    "snr = [item[2] for item in results]\n",
    "mu = [item[3] for item in results]\n",
    "ring_cond = [item[4] for item in results]\n",
    "obs_cond = [item[5] for item in results]\n",
    "\n",
    "n_detect_lens = sum(n_detect_lens)\n",
    "n_ideal_lens = sum(n_ideal_lens)\n",
    "snr_stack_false = np.concatenate(snr, axis=0)\n",
    "mu = np.concatenate(mu, axis=0)\n",
    "ring_cond = np.concatenate(ring_cond, axis=0)\n",
    "obs_cond = np.concatenate(obs_cond, axis=2)\n",
    "\n",
    "etg_lensing_rate = n_ideal_lens / N_etgs\n",
    "detect_rate_of_ideal_lens = n_detect_lens / n_ideal_lens\n",
    "ring_lenses_rate = len(np.where(ring_cond)[0])/n_detect_lens\n",
    "N_non_resolved_lenses = len(np.where(~obs_cond[0, -1, :, 0])[0])\n",
    "N_non_tangent_arc_lenses = len(np.where(~obs_cond[0, -1, :, 1])[0])\n",
    "N_lack_snr_lenses = len(np.where(~obs_cond[0, -1, :, 2])[0])\n",
    "\n",
    "print('----------rate----------------')\n",
    "print(f'ideal lensing rate of early type galaxy: {etg_lensing_rate:.2%}, == {n_ideal_lens}/{N_etgs}')\n",
    "print(f'ideal lenses detectable rate: {detect_rate_of_ideal_lens:.2%}')\n",
    "print(f'rate of a lens is ring-like: {ring_lenses_rate:.2%}')\n",
    "print(f'{(N_non_resolved_lenses/n_ideal_lens):.2%} of ideal lenses are not detectable partially due to *resolved image condition*')\n",
    "print(f'{(N_non_tangent_arc_lenses/n_ideal_lens):.2%} of ideal lenses are not detectable partially due to *tangential arc condition*')\n",
    "print(f'{(N_lack_snr_lenses/n_ideal_lens):.2%} of ideal lenses are not detectable partially due to *lacking enough SNR*')\n",
    "print('------------------------------')\n",
    "print()\n",
    "\n",
    "from SimCsstLens.SimLensImage.MockSurvey import MockSurvey\n",
    "survey = MockSurvey(config_path=f'.', config_file='csst_setting.yaml')\n",
    "factor = survey.survey_sky_frac/sky_frac\n",
    "observed_lens_survey = n_detect_lens*factor\n",
    "print('----------lenses number----------------')\n",
    "print(\"n lenses whole survey\", observed_lens_survey)\n",
    "print(\"n ring-like lenses whole survey\", observed_lens_survey*ring_lenses_rate)\n",
    "print('------------------------------')"
   ]
  },
  {
   "cell_type": "code",
   "execution_count": 4,
   "id": "459871a7-d028-4b3f-9ee4-c46338cadbf9",
   "metadata": {
    "tags": []
   },
   "outputs": [
    {
     "name": "stdout",
     "output_type": "stream",
     "text": [
      "----------rate----------------\n",
      "ideal lensing rate of early type galaxy: 0.58%, == 119242/20549432.939341366\n",
      "ideal lenses detectable rate: 10.04%\n",
      "rate of a lens is ring-like: 42.23%\n",
      "30.52% of ideal lenses are not detectable partially due to *resolved image condition*\n",
      "63.29% of ideal lenses are not detectable partially due to *tangential arc condition*\n",
      "68.39% of ideal lenses are not detectable partially due to *lacking enough SNR*\n",
      "------------------------------\n",
      "\n",
      "----------lenses number----------------\n",
      "n lenses whole survey 11965.999637588415\n",
      "n ring-like lenses whole survey 5052.999846960911\n",
      "------------------------------\n"
     ]
    }
   ],
   "source": [
    "pool = Pool(processes=24)\n",
    "vars = list(zip(list(range(Ndraw)), [False]*Ndraw))\n",
    "results = pool.starmap(return_detected, vars)\n",
    "\n",
    "n_detect_lens = [item[0] for item in results]\n",
    "n_ideal_lens = [item[1] for item in results]\n",
    "snr = [item[2] for item in results]\n",
    "mu = [item[3] for item in results]\n",
    "ring_cond = [item[4] for item in results]\n",
    "obs_cond = [item[5] for item in results]\n",
    "\n",
    "n_detect_lens = sum(n_detect_lens)\n",
    "n_ideal_lens = sum(n_ideal_lens)\n",
    "snr_stack_false = np.concatenate(snr, axis=0)\n",
    "mu = np.concatenate(mu, axis=0)\n",
    "ring_cond = np.concatenate(ring_cond, axis=0)\n",
    "obs_cond = np.concatenate(obs_cond, axis=2)\n",
    "\n",
    "etg_lensing_rate = n_ideal_lens / N_etgs\n",
    "detect_rate_of_ideal_lens = n_detect_lens / n_ideal_lens\n",
    "ring_lenses_rate = len(np.where(ring_cond)[0])/n_detect_lens\n",
    "N_non_resolved_lenses = len(np.where(~obs_cond[0, -1, :, 0])[0])\n",
    "N_non_tangent_arc_lenses = len(np.where(~obs_cond[0, -1, :, 1])[0])\n",
    "N_lack_snr_lenses = len(np.where(~obs_cond[0, -1, :, 2])[0])\n",
    "\n",
    "print('----------rate----------------')\n",
    "print(f'ideal lensing rate of early type galaxy: {etg_lensing_rate:.2%}, == {n_ideal_lens}/{N_etgs}')\n",
    "print(f'ideal lenses detectable rate: {detect_rate_of_ideal_lens:.2%}')\n",
    "print(f'rate of a lens is ring-like: {ring_lenses_rate:.2%}')\n",
    "print(f'{(N_non_resolved_lenses/n_ideal_lens):.2%} of ideal lenses are not detectable partially due to *resolved image condition*')\n",
    "print(f'{(N_non_tangent_arc_lenses/n_ideal_lens):.2%} of ideal lenses are not detectable partially due to *tangential arc condition*')\n",
    "print(f'{(N_lack_snr_lenses/n_ideal_lens):.2%} of ideal lenses are not detectable partially due to *lacking enough SNR*')\n",
    "print('------------------------------')\n",
    "print()\n",
    "\n",
    "from SimCsstLens.SimLensImage.MockSurvey import MockSurvey\n",
    "survey = MockSurvey(config_path=f'.', config_file='csst_setting.yaml')\n",
    "factor = survey.survey_sky_frac/sky_frac\n",
    "observed_lens_survey = n_detect_lens*factor\n",
    "print('----------lenses number----------------')\n",
    "print(\"n lenses whole survey\", observed_lens_survey)\n",
    "print(\"n ring-like lenses whole survey\", observed_lens_survey*ring_lenses_rate)\n",
    "print('------------------------------')"
   ]
  },
  {
   "cell_type": "code",
   "execution_count": 2,
   "id": "c888d617-6416-46c3-8ee7-34c1f7bce829",
   "metadata": {},
   "outputs": [
    {
     "data": {
      "text/plain": [
       "1076.5332"
      ]
     },
     "execution_count": 2,
     "metadata": {},
     "output_type": "execute_result"
    }
   ],
   "source": [
    "1.08/100 * 99679"
   ]
  },
  {
   "cell_type": "code",
   "execution_count": 7,
   "id": "d3287963-8694-4d12-bca0-fe11d149834c",
   "metadata": {},
   "outputs": [
    {
     "data": {
      "text/plain": [
       "0.029695837415686092"
      ]
     },
     "execution_count": 7,
     "metadata": {},
     "output_type": "execute_result"
    }
   ],
   "source": [
    "150000.0/(etg_lensing_rate*N_etgs)"
   ]
  },
  {
   "cell_type": "code",
   "execution_count": 8,
   "id": "9d5e4011-fe2a-4744-8727-e8d5297b2e81",
   "metadata": {
    "tags": []
   },
   "outputs": [
    {
     "data": {
      "text/plain": [
       "47.88641831989979"
      ]
     },
     "execution_count": 8,
     "metadata": {},
     "output_type": "execute_result"
    }
   ],
   "source": [
    "N_etgs*etg_lensing_rate*etg_lensing_rate*0.029695837415686092*0.029695837415686092"
   ]
  },
  {
   "cell_type": "code",
   "execution_count": 9,
   "id": "662353f4-d3ed-4a6a-a359-a4f3461d816b",
   "metadata": {
    "tags": []
   },
   "outputs": [
    {
     "data": {
      "text/plain": [
       "0.01973367585172116"
      ]
     },
     "execution_count": 9,
     "metadata": {},
     "output_type": "execute_result"
    }
   ],
   "source": [
    "detect_rate_of_ideal_lens"
   ]
  },
  {
   "cell_type": "code",
   "execution_count": 10,
   "id": "5ecb0202-9ba7-4088-9492-4c3841a70025",
   "metadata": {},
   "outputs": [
    {
     "data": {
      "text/plain": [
       "21.14643597365735"
      ]
     },
     "execution_count": 10,
     "metadata": {},
     "output_type": "execute_result"
    }
   ],
   "source": [
    "N_etgs*etg_lensing_rate*etg_lensing_rate*detect_rate_of_ideal_lens*detect_rate_of_ideal_lens"
   ]
  },
  {
   "cell_type": "code",
   "execution_count": 7,
   "id": "1197f0c1-6a72-4447-9094-f8e8ace76459",
   "metadata": {},
   "outputs": [
    {
     "data": {
      "text/plain": [
       "106.56845116914464"
      ]
     },
     "execution_count": 7,
     "metadata": {},
     "output_type": "execute_result"
    }
   ],
   "source": [
    "N_etgs*(etg_lensing_rate*(1-0.9557))**2"
   ]
  },
  {
   "cell_type": "code",
   "execution_count": 8,
   "id": "163d121e-b24e-4507-b401-19d48bc8e6e1",
   "metadata": {
    "tags": []
   },
   "outputs": [
    {
     "data": {
      "text/plain": [
       "1875.0"
      ]
     },
     "execution_count": 8,
     "metadata": {},
     "output_type": "execute_result"
    }
   ],
   "source": [
    "150000/80"
   ]
  },
  {
   "cell_type": "code",
   "execution_count": 9,
   "id": "c5b93627-c3d1-4fee-ba18-1f023cdcb34b",
   "metadata": {
    "tags": []
   },
   "outputs": [
    {
     "data": {
      "text/plain": [
       "192.0"
      ]
     },
     "execution_count": 9,
     "metadata": {},
     "output_type": "execute_result"
    }
   ],
   "source": [
    "2.4*80"
   ]
  },
  {
   "cell_type": "code",
   "execution_count": 4,
   "id": "e0f7a366-fb12-42e7-b958-9cd23e4c5c9c",
   "metadata": {},
   "outputs": [
    {
     "name": "stdout",
     "output_type": "stream",
     "text": [
      "5.05e+06\n",
      "4.70e+08\n"
     ]
    }
   ],
   "source": [
    "print(f\"{n_ideal_lens:.2e}\")\n",
    "print(f\"{N_etgs:.2e}\")"
   ]
  },
  {
   "cell_type": "code",
   "execution_count": null,
   "id": "6736da39-682c-40da-8d17-e8d78ae8e1e6",
   "metadata": {},
   "outputs": [],
   "source": []
  }
 ],
 "metadata": {
  "kernelspec": {
   "display_name": "Python 3 (ipykernel)",
   "language": "python",
   "name": "python3"
  },
  "language_info": {
   "codemirror_mode": {
    "name": "ipython",
    "version": 3
   },
   "file_extension": ".py",
   "mimetype": "text/x-python",
   "name": "python",
   "nbconvert_exporter": "python",
   "pygments_lexer": "ipython3",
   "version": "3.11.3"
  }
 },
 "nbformat": 4,
 "nbformat_minor": 5
}
