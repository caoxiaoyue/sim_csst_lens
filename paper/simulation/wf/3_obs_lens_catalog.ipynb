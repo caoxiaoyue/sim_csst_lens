{
 "cells": [
  {
   "cell_type": "code",
   "execution_count": 1,
   "id": "89a51777-8a0c-4993-b9bc-22eef22687c5",
   "metadata": {
    "tags": []
   },
   "outputs": [],
   "source": [
    "from SimCsstLens.LensPop.Population import LensPopulation\n",
    "from SimCsstLens import CosmologyDistance as CD\n",
    "import math\n",
    "import h5py\n",
    "import numpy as np \n",
    "from multiprocessing import Pool\n",
    "import os\n",
    "from astropy.table import Table, vstack\n",
    "\n",
    "this_cosmos = CD.CosmosDist(Om0=0.3, Ode0=0.7, h=0.7)\n",
    "lens_pop = LensPopulation(\n",
    "    vdisp_floor=50, \n",
    "    zl_max=2.5, \n",
    "    cosmo_dist=this_cosmos,\n",
    "    src_catalog_type='lsst',\n",
    "    bands=['g', 'r', 'i', 'z'],\n",
    ")\n",
    "sky_frac = 17500.0/41252.96\n",
    "N_etgs = lens_pop.dfl_pop.number_of_etgs(sky_frac=sky_frac) #ideal lenses\n",
    "Nsamples_per_draw = 500000\n",
    "Ndraw = math.ceil(N_etgs/Nsamples_per_draw)"
   ]
  },
  {
   "cell_type": "code",
   "execution_count": 2,
   "id": "6562fd99-f019-4b5b-ae50-19ac1d5be82f",
   "metadata": {
    "tags": []
   },
   "outputs": [
    {
     "data": {
      "text/html": [
       "<div><i>Table length=5</i>\n",
       "<table id=\"table140156619259152\" class=\"table-striped table-bordered table-condensed\">\n",
       "<thead><tr><th>thetaE_s0</th><th>mass_s0</th><th>z_s0</th><th>re_s0</th><th>q_s0</th><th>pa_s0</th><th>x_s0</th><th>y_s0</th><th>mag_g_s0</th><th>mag_r_s0</th><th>mag_i_s0</th><th>mag_z_s0</th><th>vdisp_l</th><th>re_l</th><th>q_l</th><th>z_l</th><th>mag_g_l</th><th>mag_r_l</th><th>mag_i_l</th><th>mag_z_l</th><th>SNR_g</th><th>SNR_r</th><th>SNR_i</th><th>SNR_z</th><th>SNR_stack</th><th>best_band</th><th>mu</th><th>if_ring</th><th>if_obs_stack</th><th>if_obs_single</th><th>noise_seed</th></tr></thead>\n",
       "<thead><tr><th>float64</th><th>float64</th><th>float64</th><th>float64</th><th>float64</th><th>float64</th><th>float64</th><th>float64</th><th>float64</th><th>float64</th><th>float64</th><th>float64</th><th>float64</th><th>float64</th><th>float64</th><th>float64</th><th>float64</th><th>float64</th><th>float64</th><th>float64</th><th>float64</th><th>float64</th><th>float64</th><th>float64</th><th>float64</th><th>str1</th><th>float64</th><th>bool</th><th>bool</th><th>bool</th><th>int64</th></tr></thead>\n",
       "<tr><td>1.0966084016507394</td><td>220618705190.45496</td><td>2.4813</td><td>0.04755680836013041</td><td>0.48724151839551133</td><td>56.84835836540002</td><td>-0.679774694569647</td><td>-0.19032010755702378</td><td>26.8804</td><td>26.7911</td><td>27.1784</td><td>26.9373</td><td>227.31589216009394</td><td>0.48874105992050526</td><td>0.6177436725840784</td><td>0.39480433148639105</td><td>21.44529815513444</td><td>19.494334310672166</td><td>18.780101509455797</td><td>18.338227104944824</td><td>8.565924589820026</td><td>6.563163395814959</td><td>3.5898829774557766</td><td>2.7892841517608145</td><td>10.657003960170975</td><td>g</td><td>2.8410611440345908</td><td>False</td><td>False</td><td>False</td><td>0</td></tr>\n",
       "<tr><td>0.9082723155014878</td><td>175970259310.74948</td><td>1.5159</td><td>0.5564402037648424</td><td>0.9412605823120466</td><td>86.1545250265512</td><td>-0.5789947049002112</td><td>-0.1931924628290287</td><td>24.0838</td><td>24.1747</td><td>24.1369</td><td>24.0414</td><td>221.33985664690238</td><td>0.9118452408175499</td><td>0.5665284149226537</td><td>0.40504501393703773</td><td>21.618946703232307</td><td>19.677164574759914</td><td>18.940674714793</td><td>18.48724607593226</td><td>12.969372833605208</td><td>8.779847470325237</td><td>7.197027640576379</td><td>5.124299069253111</td><td>16.748419830244032</td><td>g</td><td>2.9285037305892314</td><td>True</td><td>False</td><td>False</td><td>1</td></tr>\n",
       "<tr><td>0.38279059247131786</td><td>22543047250.574535</td><td>2.6924</td><td>0.6224362743158242</td><td>0.5707525533169218</td><td>2.7386936589930166</td><td>-0.09482301618729103</td><td>-0.09138855630473552</td><td>25.152</td><td>25.1834</td><td>25.2084</td><td>25.2788</td><td>130.13643389328882</td><td>0.47330489097148853</td><td>0.3819922718130264</td><td>0.3308795450335912</td><td>22.894304998147668</td><td>20.98100573472134</td><td>20.330852787096127</td><td>19.97401167526535</td><td>4.70030744048168</td><td>3.302007194171013</td><td>2.5632875403694304</td><td>1.5823885297052396</td><td>5.956653167613461</td><td>g</td><td>2.075626526935261</td><td>False</td><td>False</td><td>False</td><td>2</td></tr>\n",
       "<tr><td>0.8391122140185563</td><td>154058251871.80637</td><td>2.2914</td><td>0.2723488843131578</td><td>0.706443158338659</td><td>30.67631333225165</td><td>0.8141141813401891</td><td>0.17524044756906007</td><td>26.6682</td><td>26.6759</td><td>26.7667</td><td>26.6563</td><td>206.73549174676776</td><td>0.6478193997706299</td><td>0.5032317557861576</td><td>0.4669746501356521</td><td>22.51634415791473</td><td>20.6185355786966</td><td>19.674547921549365</td><td>19.171136763663434</td><td>1.9046484185473989</td><td>1.4383730247518693</td><td>1.0783594647220756</td><td>0.7911558900681156</td><td>2.5614352917540795</td><td>g</td><td>2.05656806520719</td><td>False</td><td>False</td><td>False</td><td>3</td></tr>\n",
       "<tr><td>0.27236039364250964</td><td>56840094747.91324</td><td>1.5451</td><td>0.2884627534645868</td><td>0.8511899612154268</td><td>16.840827570216806</td><td>-0.08538241153107988</td><td>-0.12950851772035152</td><td>27.9129</td><td>27.7307</td><td>27.1252</td><td>26.6024</td><td>189.16734876354147</td><td>0.4828159648897842</td><td>0.6043556278860815</td><td>0.9872606591801739</td><td>27.69312251992178</td><td>24.86809436080292</td><td>23.61280950239249</td><td>22.309543157012516</td><td>0.9017111876231678</td><td>0.8306253246317307</td><td>1.1828423407096846</td><td>1.2228553611443655</td><td>2.067047195707926</td><td>z</td><td>2.6892116202674097</td><td>False</td><td>False</td><td>False</td><td>4</td></tr>\n",
       "</table></div>"
      ],
      "text/plain": [
       "<Table length=5>\n",
       "     thetaE_s0           mass_s0         z_s0         re_s0        ... if_obs_stack if_obs_single noise_seed\n",
       "      float64            float64       float64       float64       ...     bool          bool       int64   \n",
       "------------------- ------------------ ------- ------------------- ... ------------ ------------- ----------\n",
       " 1.0966084016507394 220618705190.45496  2.4813 0.04755680836013041 ...        False         False          0\n",
       " 0.9082723155014878 175970259310.74948  1.5159  0.5564402037648424 ...        False         False          1\n",
       "0.38279059247131786 22543047250.574535  2.6924  0.6224362743158242 ...        False         False          2\n",
       " 0.8391122140185563 154058251871.80637  2.2914  0.2723488843131578 ...        False         False          3\n",
       "0.27236039364250964  56840094747.91324  1.5451  0.2884627534645868 ...        False         False          4"
      ]
     },
     "execution_count": 2,
     "metadata": {},
     "output_type": "execute_result"
    }
   ],
   "source": [
    "current_dir = os.getcwd()\n",
    "def return_detected(count_draw, stack=False):\n",
    "    table = Table()\n",
    "\n",
    "    fn = h5py.File(f\"./samples/lenses_{count_draw}.hdf5\", \"r\")\n",
    "    src_thetaE = fn['source/thetaE'][()]\n",
    "    for ii in range(src_thetaE.shape[0]):\n",
    "        table[f'thetaE_s{ii}'] =  src_thetaE[ii, :]\n",
    "        table[f'mass_s{ii}'] = fn['source/einstein_mass'][()][ii, :]\n",
    "        table[f'z_s{ii}'] = fn['source']['z'][()][ii, :]\n",
    "        table[f're_s{ii}'] = fn['source']['Re'][()][ii, :]\n",
    "        table[f'q_s{ii}'] = fn['source']['q'][()][ii, :]\n",
    "        table[f'pa_s{ii}'] = fn['source']['pa'][()][ii, :]\n",
    "        table[f'x_s{ii}'] = fn['source']['xs'][()][ii, :]\n",
    "        table[f'y_s{ii}'] = fn['source']['ys'][()][ii, :]\n",
    "        table[f'mag_g_s{ii}'] = fn['source']['app_mag_g'][()][ii, :]\n",
    "        table[f'mag_r_s{ii}'] = fn['source']['app_mag_r'][()][ii, :]\n",
    "        table[f'mag_i_s{ii}'] = fn['source']['app_mag_i'][()][ii, :]\n",
    "        table[f'mag_z_s{ii}'] = fn['source']['app_mag_z'][()][ii, :]\n",
    "\n",
    "    table['vdisp_l'] = fn['deflector/vdisp'][()]\n",
    "    table['re_l'] = fn['deflector/Re'][()]\n",
    "    table['q_l']= fn['deflector/q'][()]\n",
    "    table['z_l'] = fn['deflector/z'][()]\n",
    "    table['mag_g_l'] = fn['deflector/app_mag_g'][()]\n",
    "    table['mag_r_l'] = fn['deflector/app_mag_r'][()]\n",
    "    table['mag_i_l'] = fn['deflector/app_mag_i'][()]\n",
    "    table['mag_z_l'] = fn['deflector/app_mag_z'][()]\n",
    "\n",
    "    SNR = fn['Obs/SNR'][()] #shape: [nsrc, nband, n_ideal_lens]\n",
    "    table['SNR_g'] = SNR[0,0,:]\n",
    "    table['SNR_r'] = SNR[0,1,:]\n",
    "    table['SNR_i'] = SNR[0,2,:]\n",
    "    table['SNR_z'] = SNR[0,3,:]\n",
    "    table['SNR_stack'] = SNR[0,-1,:]\n",
    "    SNR_griz = SNR[0,0:-1,:]\n",
    "    indices = np.argmax(SNR_griz, axis=0)\n",
    "    table['best_band'] = np.array(['g', 'r', 'i', 'z'])[indices] \n",
    "    \n",
    "    mu = fn['Obs/magnification'][()] #shape: [nsrc, nband, n_ideal_lens]\n",
    "    table['mu'] = mu[0,-1,:]\n",
    "    \n",
    "    ring_cond = fn['Obs/ring_cond'][()] #shape: [nsrc, nband, n_ideal_lenses]\n",
    "    table['if_ring'] = ring_cond[0,-1,:]\n",
    "\n",
    "    obs_cond = fn['Obs/detect_cond'][()] #shape: [nsrc, nband, n_ideal_lenses, 3]\n",
    "    \n",
    "    fn.close()\n",
    "\n",
    "\n",
    "    #stack band\n",
    "    this_obs_cond = obs_cond.astype('int')\n",
    "    this_obs_cond = this_obs_cond[0, -1, :, :] #src-0, band-stack, nlens, 3-condition\n",
    "    this_obs_cond = np.sum(this_obs_cond, axis=1) #shape: [nlens]\n",
    "    bool_cond = (this_obs_cond==3)\n",
    "    table['if_obs_stack'] = bool_cond\n",
    "        \n",
    "    #individual band\n",
    "    this_obs_cond = obs_cond.astype('int')\n",
    "    this_obs_cond = this_obs_cond[:, :-1, :, :] #remove stack band\n",
    "    cond = np.sum(this_obs_cond, axis=3)[0,:,:] #cond: [nband, nlens]\n",
    "    bool_cond = (cond==3).astype('int') #cond: [nband, nlens]\n",
    "    bool_cond = (np.sum(bool_cond, axis=0)>0) #bool_cond\" [nlens]\n",
    "    table['if_obs_single'] = bool_cond\n",
    "    \n",
    "    n_detect_lens = len(np.where(bool_cond)[0])\n",
    "    n_ideal_lens = src_thetaE.shape[1]\n",
    "    \n",
    "    table['noise_seed'] = np.arange(n_ideal_lens, dtype='int')\n",
    "    \n",
    "    return n_detect_lens, n_ideal_lens, table\n",
    "\n",
    "n_detect_lens, n_ideal_lens, table = return_detected(0, stack=True)\n",
    "table[0:5]"
   ]
  },
  {
   "cell_type": "code",
   "execution_count": 3,
   "id": "80ec12d2-2f44-4469-a4f1-f717e92d8312",
   "metadata": {
    "tags": []
   },
   "outputs": [],
   "source": [
    "pool = Pool(processes=64)\n",
    "vars = list(zip(list(range(Ndraw)), [True]*Ndraw))\n",
    "results = pool.starmap(return_detected, vars)\n",
    "\n",
    "n_detect_lens = [item[0] for item in results]\n",
    "n_ideal_lens = [item[1] for item in results]\n",
    "n_detect_lens = sum(n_detect_lens)\n",
    "n_ideal_lens = sum(n_ideal_lens)\n",
    "\n",
    "tables = [item[2] for item in results]\n",
    "stacked_table = vstack(tables)"
   ]
  },
  {
   "cell_type": "code",
   "execution_count": 5,
   "id": "c2f1048f-50d9-464d-b8a5-04c755f13125",
   "metadata": {
    "tags": []
   },
   "outputs": [
    {
     "data": {
      "text/html": [
       "<i>Row index=0</i>\n",
       "<table id=\"table140156498374416\">\n",
       "<thead><tr><th>thetaE_s0</th><th>mass_s0</th><th>z_s0</th><th>re_s0</th><th>q_s0</th><th>pa_s0</th><th>x_s0</th><th>y_s0</th><th>mag_g_s0</th><th>mag_r_s0</th><th>mag_i_s0</th><th>mag_z_s0</th><th>vdisp_l</th><th>re_l</th><th>q_l</th><th>z_l</th><th>mag_g_l</th><th>mag_r_l</th><th>mag_i_l</th><th>mag_z_l</th><th>SNR_g</th><th>SNR_r</th><th>SNR_i</th><th>SNR_z</th><th>SNR_stack</th><th>best_band</th><th>mu</th><th>if_ring</th><th>if_obs_stack</th><th>if_obs_single</th><th>noise_seed</th></tr></thead>\n",
       "<thead><tr><th>float64</th><th>float64</th><th>float64</th><th>float64</th><th>float64</th><th>float64</th><th>float64</th><th>float64</th><th>float64</th><th>float64</th><th>float64</th><th>float64</th><th>float64</th><th>float64</th><th>float64</th><th>float64</th><th>float64</th><th>float64</th><th>float64</th><th>float64</th><th>float64</th><th>float64</th><th>float64</th><th>float64</th><th>float64</th><th>str1</th><th>float64</th><th>bool</th><th>bool</th><th>bool</th><th>int64</th></tr></thead>\n",
       "<tr><td>1.0966084016507394</td><td>220618705190.45496</td><td>2.4813</td><td>0.04755680836013041</td><td>0.48724151839551133</td><td>56.84835836540002</td><td>-0.679774694569647</td><td>-0.19032010755702378</td><td>26.8804</td><td>26.7911</td><td>27.1784</td><td>26.9373</td><td>227.31589216009394</td><td>0.48874105992050526</td><td>0.6177436725840784</td><td>0.39480433148639105</td><td>21.44529815513444</td><td>19.494334310672166</td><td>18.780101509455797</td><td>18.338227104944824</td><td>8.565924589820026</td><td>6.563163395814959</td><td>3.5898829774557766</td><td>2.7892841517608145</td><td>10.657003960170975</td><td>g</td><td>2.8410611440345908</td><td>False</td><td>False</td><td>False</td><td>0</td></tr>\n",
       "</table>"
      ],
      "text/plain": [
       "<Row index=0>\n",
       "    thetaE_s0           mass_s0         z_s0         re_s0                q_s0              pa_s0              x_s0                y_s0         mag_g_s0 mag_r_s0 mag_i_s0 mag_z_s0      vdisp_l               re_l               q_l                 z_l              mag_g_l           mag_r_l            mag_i_l            mag_z_l             SNR_g             SNR_r             SNR_i              SNR_z            SNR_stack      best_band         mu         if_ring if_obs_stack if_obs_single noise_seed\n",
       "     float64            float64       float64       float64             float64            float64           float64             float64        float64  float64  float64  float64       float64             float64            float64             float64            float64           float64            float64            float64            float64           float64           float64            float64            float64          str1        float64         bool      bool          bool       int64   \n",
       "------------------ ------------------ ------- ------------------- ------------------- ----------------- ------------------ -------------------- -------- -------- -------- -------- ------------------ ------------------- ------------------ ------------------- ----------------- ------------------ ------------------ ------------------ ----------------- ----------------- ------------------ ------------------ ------------------ --------- ------------------ ------- ------------ ------------- ----------\n",
       "1.0966084016507394 220618705190.45496  2.4813 0.04755680836013041 0.48724151839551133 56.84835836540002 -0.679774694569647 -0.19032010755702378  26.8804  26.7911  27.1784  26.9373 227.31589216009394 0.48874105992050526 0.6177436725840784 0.39480433148639105 21.44529815513444 19.494334310672166 18.780101509455797 18.338227104944824 8.565924589820026 6.563163395814959 3.5898829774557766 2.7892841517608145 10.657003960170975         g 2.8410611440345908   False        False         False          0"
      ]
     },
     "execution_count": 5,
     "metadata": {},
     "output_type": "execute_result"
    }
   ],
   "source": [
    "mask_thetaE = (stacked_table['thetaE_s0'].data > 0.074)\n",
    "stacked_table = stacked_table[mask_thetaE]\n",
    "stacked_table.write('lens_samples.fits', overwrite=True)\n",
    "stacked_table[0]"
   ]
  },
  {
   "cell_type": "code",
   "execution_count": 6,
   "id": "724b16af-22bf-4f4f-b6c0-dc07e74eb72d",
   "metadata": {
    "tags": []
   },
   "outputs": [
    {
     "data": {
      "text/plain": [
       "5186409"
      ]
     },
     "execution_count": 6,
     "metadata": {},
     "output_type": "execute_result"
    }
   ],
   "source": [
    "len(stacked_table)"
   ]
  },
  {
   "cell_type": "code",
   "execution_count": 9,
   "id": "27ff99e0-c292-47d0-8ad0-57ae55f4640c",
   "metadata": {
    "tags": []
   },
   "outputs": [
    {
     "data": {
      "text/plain": [
       "161548"
      ]
     },
     "execution_count": 9,
     "metadata": {},
     "output_type": "execute_result"
    }
   ],
   "source": [
    "mask = stacked_table['if_obs_stack'].data\n",
    "table_detect = stacked_table[mask]\n",
    "table_detect.write(\"catalog_csv/csst_wf_stack.csv\", overwrite=True)\n",
    "len(table_detect)"
   ]
  },
  {
   "cell_type": "code",
   "execution_count": 10,
   "id": "dd2deb81-0827-4f04-aa3f-f22c132f0d95",
   "metadata": {
    "tags": []
   },
   "outputs": [
    {
     "data": {
      "text/plain": [
       "76396"
      ]
     },
     "execution_count": 10,
     "metadata": {},
     "output_type": "execute_result"
    }
   ],
   "source": [
    "mask = stacked_table['if_obs_single'].data\n",
    "table_detect = stacked_table[mask]\n",
    "table_detect.write(\"catalog_csv/csst_wf_single.csv\", overwrite=True)\n",
    "len(table_detect)"
   ]
  },
  {
   "cell_type": "code",
   "execution_count": null,
   "id": "edd23620-c0b7-405f-abb1-29f4bde6da7e",
   "metadata": {},
   "outputs": [],
   "source": []
  }
 ],
 "metadata": {
  "kernelspec": {
   "display_name": "Python 3 (ipykernel)",
   "language": "python",
   "name": "python3"
  },
  "language_info": {
   "codemirror_mode": {
    "name": "ipython",
    "version": 3
   },
   "file_extension": ".py",
   "mimetype": "text/x-python",
   "name": "python",
   "nbconvert_exporter": "python",
   "pygments_lexer": "ipython3",
   "version": "3.11.3"
  }
 },
 "nbformat": 4,
 "nbformat_minor": 5
}
