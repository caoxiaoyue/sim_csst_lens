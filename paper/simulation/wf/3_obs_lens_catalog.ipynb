{
 "cells": [
  {
   "cell_type": "code",
   "execution_count": 1,
   "id": "89a51777-8a0c-4993-b9bc-22eef22687c5",
   "metadata": {
    "tags": []
   },
   "outputs": [],
   "source": [
    "from SimCsstLens.LensPop.Population import LensPopulation\n",
    "from SimCsstLens import CosmologyDistance as CD\n",
    "import math\n",
    "import h5py\n",
    "import numpy as np \n",
    "from multiprocessing import Pool\n",
    "import os\n",
    "from astropy.table import Table, vstack\n",
    "\n",
    "this_cosmos = CD.CosmosDist(Om0=0.3, Ode0=0.7, h=0.7)\n",
    "lens_pop = LensPopulation(\n",
    "    vdisp_floor=100, \n",
    "    zl_max=2.0, \n",
    "    cosmo_dist=this_cosmos,\n",
    "    src_catalog_type='lsst',\n",
    "    bands=['g', 'r', 'i', 'z'],\n",
    ")\n",
    "sky_frac = 17500.0/41252.96\n",
    "N_etgs = lens_pop.dfl_pop.number_of_etgs(sky_frac=sky_frac) #ideal lenses\n",
    "Nsamples_per_draw = 500000\n",
    "Ndraw = math.ceil(N_etgs/Nsamples_per_draw)"
   ]
  },
  {
   "cell_type": "code",
   "execution_count": 2,
   "id": "6562fd99-f019-4b5b-ae50-19ac1d5be82f",
   "metadata": {
    "tags": []
   },
   "outputs": [
    {
     "data": {
      "text/html": [
       "<div><i>Table length=5</i>\n",
       "<table id=\"table140605333881296\" class=\"table-striped table-bordered table-condensed\">\n",
       "<thead><tr><th>thetaE_s0</th><th>mass_s0</th><th>z_s0</th><th>re_s0</th><th>q_s0</th><th>pa_s0</th><th>x_s0</th><th>y_s0</th><th>mag_g_s0</th><th>mag_r_s0</th><th>mag_i_s0</th><th>mag_z_s0</th><th>vdisp_l</th><th>re_l</th><th>q_l</th><th>z_l</th><th>mag_g_l</th><th>mag_r_l</th><th>mag_i_l</th><th>mag_z_l</th><th>SNR_g</th><th>SNR_r</th><th>SNR_i</th><th>SNR_z</th><th>SNR_stack</th><th>best_band</th><th>mu</th><th>if_ring</th><th>if_obs_stack</th><th>if_obs_single</th><th>noise_seed</th></tr></thead>\n",
       "<thead><tr><th>float64</th><th>float64</th><th>float64</th><th>float64</th><th>float64</th><th>float64</th><th>float64</th><th>float64</th><th>float64</th><th>float64</th><th>float64</th><th>float64</th><th>float64</th><th>float64</th><th>float64</th><th>float64</th><th>float64</th><th>float64</th><th>float64</th><th>float64</th><th>float64</th><th>float64</th><th>float64</th><th>float64</th><th>float64</th><th>str1</th><th>float64</th><th>bool</th><th>bool</th><th>bool</th><th>int64</th></tr></thead>\n",
       "<tr><td>1.3196268626551055</td><td>264596483383.2295</td><td>4.4275</td><td>0.6214770781714286</td><td>0.7320195457264107</td><td>30.232606079738332</td><td>-0.9861918644280009</td><td>0.7417372980109783</td><td>26.9092</td><td>26.7538</td><td>25.9745</td><td>25.8792</td><td>236.61722483491087</td><td>0.5571690004369176</td><td>0.6259450622792214</td><td>0.3459937760977172</td><td>20.782409392808418</td><td>18.83204064877745</td><td>18.17475897845127</td><td>17.80022039548253</td><td>0.7048565112305543</td><td>0.631598379841616</td><td>1.0664061300899874</td><td>0.7688413613416288</td><td>1.5908905321477644</td><td>i</td><td>2.2542780269433975</td><td>False</td><td>False</td><td>False</td><td>0</td></tr>\n",
       "<tr><td>0.2628982421522554</td><td>107697898772.67445</td><td>2.1026</td><td>0.6440636974627642</td><td>0.3751999224665038</td><td>149.00957552532762</td><td>-0.17606625344185742</td><td>-0.1032518801156661</td><td>28.3583</td><td>26.7204</td><td>26.2342</td><td>25.436</td><td>257.28858169322496</td><td>0.7470423815276427</td><td>0.6255463368829426</td><td>1.627394493875766</td><td>28.30483934462755</td><td>27.727295909446024</td><td>25.518880857965126</td><td>23.945024399843728</td><td>0.19739048722095442</td><td>0.7020838108576656</td><td>0.9099398715425865</td><td>1.2471517501466791</td><td>1.5205370331919836</td><td>z</td><td>1.6314398542350301</td><td>False</td><td>False</td><td>False</td><td>1</td></tr>\n",
       "<tr><td>0.455528638317329</td><td>89802659712.4682</td><td>1.992</td><td>0.21405690701800398</td><td>0.6790676760823076</td><td>161.2187200496799</td><td>-0.026692001077661447</td><td>-0.13686549385421765</td><td>26.8525</td><td>26.953</td><td>26.9133</td><td>26.7556</td><td>188.433096335156</td><td>0.33955591626005277</td><td>0.5914140293555509</td><td>0.8300650060508795</td><td>26.60896960261688</td><td>23.979865500498974</td><td>22.682484721081423</td><td>21.584296345264853</td><td>4.086974238673896</td><td>2.9150887680312945</td><td>2.447942645337709</td><td>1.7920101650427436</td><td>5.592760347432647</td><td>g</td><td>4.957530690182853</td><td>True</td><td>False</td><td>False</td><td>2</td></tr>\n",
       "<tr><td>0.5187100015104474</td><td>104853333839.93933</td><td>2.4086</td><td>0.3549103011141491</td><td>0.3774124022100549</td><td>97.0243487738108</td><td>0.18558001987468914</td><td>-0.10227107948093166</td><td>27.2898</td><td>27.1836</td><td>27.3103</td><td>27.1178</td><td>190.56814153004288</td><td>0.28081382359970547</td><td>0.553840951913132</td><td>0.8366023799363632</td><td>26.47857501501799</td><td>23.82017670475901</td><td>22.53204488045073</td><td>21.411309924731015</td><td>1.3287211625531155</td><td>1.143783208190991</td><td>0.8294180310608903</td><td>0.6337493313468742</td><td>1.9620026914882625</td><td>g</td><td>3.4161742803139465</td><td>True</td><td>False</td><td>False</td><td>3</td></tr>\n",
       "<tr><td>0.4735196019521154</td><td>11348065107.802736</td><td>1.2158</td><td>0.4018505776518614</td><td>0.6253148962902952</td><td>99.31970108438986</td><td>-0.013814757846944914</td><td>0.09304000465780164</td><td>27.963</td><td>27.7227</td><td>27.4532</td><td>26.858</td><td>135.5462238550863</td><td>1.6150597519666754</td><td>0.5994424873797054</td><td>0.09642910721983886</td><td>18.582058221299157</td><td>17.521907713544078</td><td>17.141470309819116</td><td>16.832414567307648</td><td>0.479397284558981</td><td>0.37189040919821065</td><td>0.3718538807640398</td><td>0.423323464464561</td><td>0.8045644385748075</td><td>g</td><td>3.796914873932796</td><td>False</td><td>False</td><td>False</td><td>4</td></tr>\n",
       "</table></div>"
      ],
      "text/plain": [
       "<Table length=5>\n",
       "    thetaE_s0           mass_s0         z_s0         re_s0               q_s0              pa_s0        ...         mu         if_ring if_obs_stack if_obs_single noise_seed\n",
       "     float64            float64       float64       float64            float64            float64       ...      float64         bool      bool          bool       int64   \n",
       "------------------ ------------------ ------- ------------------- ------------------ ------------------ ... ------------------ ------- ------------ ------------- ----------\n",
       "1.3196268626551055  264596483383.2295  4.4275  0.6214770781714286 0.7320195457264107 30.232606079738332 ... 2.2542780269433975   False        False         False          0\n",
       "0.2628982421522554 107697898772.67445  2.1026  0.6440636974627642 0.3751999224665038 149.00957552532762 ... 1.6314398542350301   False        False         False          1\n",
       " 0.455528638317329   89802659712.4682   1.992 0.21405690701800398 0.6790676760823076  161.2187200496799 ...  4.957530690182853    True        False         False          2\n",
       "0.5187100015104474 104853333839.93933  2.4086  0.3549103011141491 0.3774124022100549   97.0243487738108 ... 3.4161742803139465    True        False         False          3\n",
       "0.4735196019521154 11348065107.802736  1.2158  0.4018505776518614 0.6253148962902952  99.31970108438986 ...  3.796914873932796   False        False         False          4"
      ]
     },
     "execution_count": 2,
     "metadata": {},
     "output_type": "execute_result"
    }
   ],
   "source": [
    "current_dir = os.getcwd()\n",
    "def return_detected(count_draw, stack=False):\n",
    "    table = Table()\n",
    "\n",
    "    fn = h5py.File(f\"./samples/lenses_{count_draw}.hdf5\", \"r\")\n",
    "    src_thetaE = fn['source/thetaE'][()]\n",
    "    for ii in range(src_thetaE.shape[0]):\n",
    "        table[f'thetaE_s{ii}'] =  src_thetaE[ii, :]\n",
    "        table[f'mass_s{ii}'] = fn['source/einstein_mass'][()][ii, :]\n",
    "        table[f'z_s{ii}'] = fn['source']['z'][()][ii, :]\n",
    "        table[f're_s{ii}'] = fn['source']['Re'][()][ii, :]\n",
    "        table[f'q_s{ii}'] = fn['source']['q'][()][ii, :]\n",
    "        table[f'pa_s{ii}'] = fn['source']['pa'][()][ii, :]\n",
    "        table[f'x_s{ii}'] = fn['source']['xs'][()][ii, :]\n",
    "        table[f'y_s{ii}'] = fn['source']['ys'][()][ii, :]\n",
    "        table[f'mag_g_s{ii}'] = fn['source']['app_mag_g'][()][ii, :]\n",
    "        table[f'mag_r_s{ii}'] = fn['source']['app_mag_r'][()][ii, :]\n",
    "        table[f'mag_i_s{ii}'] = fn['source']['app_mag_i'][()][ii, :]\n",
    "        table[f'mag_z_s{ii}'] = fn['source']['app_mag_z'][()][ii, :]\n",
    "\n",
    "    table['vdisp_l'] = fn['deflector/vdisp'][()]\n",
    "    table['re_l'] = fn['deflector/Re'][()]\n",
    "    table['q_l']= fn['deflector/q'][()]\n",
    "    table['z_l'] = fn['deflector/z'][()]\n",
    "    table['mag_g_l'] = fn['deflector/app_mag_g'][()]\n",
    "    table['mag_r_l'] = fn['deflector/app_mag_r'][()]\n",
    "    table['mag_i_l'] = fn['deflector/app_mag_i'][()]\n",
    "    table['mag_z_l'] = fn['deflector/app_mag_z'][()]\n",
    "\n",
    "    SNR = fn['Obs/SNR'][()] #shape: [nsrc, nband, n_ideal_lens]\n",
    "    table['SNR_g'] = SNR[0,0,:]\n",
    "    table['SNR_r'] = SNR[0,1,:]\n",
    "    table['SNR_i'] = SNR[0,2,:]\n",
    "    table['SNR_z'] = SNR[0,3,:]\n",
    "    table['SNR_stack'] = SNR[0,-1,:]\n",
    "    SNR_griz = SNR[0,0:-1,:]\n",
    "    indices = np.argmax(SNR_griz, axis=0)\n",
    "    table['best_band'] = np.array(['g', 'r', 'i', 'z'])[indices] \n",
    "    \n",
    "    mu = fn['Obs/magnification'][()] #shape: [nsrc, nband, n_ideal_lens]\n",
    "    table['mu'] = mu[0,-1,:]\n",
    "    \n",
    "    ring_cond = fn['Obs/ring_cond'][()] #shape: [nsrc, nband, n_ideal_lenses]\n",
    "    table['if_ring'] = ring_cond[0,-1,:]\n",
    "\n",
    "    obs_cond = fn['Obs/detect_cond'][()] #shape: [nsrc, nband, n_ideal_lenses, 3]\n",
    "    \n",
    "    fn.close()\n",
    "\n",
    "\n",
    "    #stack band\n",
    "    this_obs_cond = obs_cond.astype('int')\n",
    "    this_obs_cond = this_obs_cond[0, -1, :, :] #src-0, band-stack, nlens, 3-condition\n",
    "    this_obs_cond = np.sum(this_obs_cond, axis=1) #shape: [nlens]\n",
    "    bool_cond = (this_obs_cond==3)\n",
    "    table['if_obs_stack'] = bool_cond\n",
    "        \n",
    "    #individual band\n",
    "    this_obs_cond = obs_cond.astype('int')\n",
    "    this_obs_cond = this_obs_cond[:, :-1, :, :] #remove stack band\n",
    "    cond = np.sum(this_obs_cond, axis=3)[0,:,:] #cond: [nband, nlens]\n",
    "    bool_cond = (cond==3).astype('int') #cond: [nband, nlens]\n",
    "    bool_cond = (np.sum(bool_cond, axis=0)>0) #bool_cond\" [nlens]\n",
    "    table['if_obs_single'] = bool_cond\n",
    "    \n",
    "    n_detect_lens = len(np.where(bool_cond)[0])\n",
    "    n_ideal_lens = src_thetaE.shape[1]\n",
    "    \n",
    "    table['noise_seed'] = np.arange(n_ideal_lens, dtype='int')\n",
    "    \n",
    "    return n_detect_lens, n_ideal_lens, table\n",
    "\n",
    "n_detect_lens, n_ideal_lens, table = return_detected(0, stack=True)\n",
    "table[0:5]"
   ]
  },
  {
   "cell_type": "code",
   "execution_count": 3,
   "id": "80ec12d2-2f44-4469-a4f1-f717e92d8312",
   "metadata": {
    "tags": []
   },
   "outputs": [],
   "source": [
    "pool = Pool(processes=64)\n",
    "vars = list(zip(list(range(Ndraw)), [True]*Ndraw))\n",
    "results = pool.starmap(return_detected, vars)\n",
    "\n",
    "n_detect_lens = [item[0] for item in results]\n",
    "n_ideal_lens = [item[1] for item in results]\n",
    "n_detect_lens = sum(n_detect_lens)\n",
    "n_ideal_lens = sum(n_ideal_lens)\n",
    "\n",
    "tables = [item[2] for item in results]\n",
    "stacked_table = vstack(tables)\n",
    "stacked_table.write('lens_samples.fits', overwrite=True)"
   ]
  },
  {
   "cell_type": "code",
   "execution_count": 4,
   "id": "c2f1048f-50d9-464d-b8a5-04c755f13125",
   "metadata": {
    "tags": []
   },
   "outputs": [
    {
     "data": {
      "text/html": [
       "<i>Row index=142114</i>\n",
       "<table id=\"table140604173669584\">\n",
       "<thead><tr><th>thetaE_s0</th><th>mass_s0</th><th>z_s0</th><th>re_s0</th><th>q_s0</th><th>pa_s0</th><th>x_s0</th><th>y_s0</th><th>mag_g_s0</th><th>mag_r_s0</th><th>mag_i_s0</th><th>mag_z_s0</th><th>vdisp_l</th><th>re_l</th><th>q_l</th><th>z_l</th><th>mag_g_l</th><th>mag_r_l</th><th>mag_i_l</th><th>mag_z_l</th><th>SNR_g</th><th>SNR_r</th><th>SNR_i</th><th>SNR_z</th><th>SNR_stack</th><th>best_band</th><th>mu</th><th>if_ring</th><th>if_obs_stack</th><th>if_obs_single</th><th>noise_seed</th></tr></thead>\n",
       "<thead><tr><th>float64</th><th>float64</th><th>float64</th><th>float64</th><th>float64</th><th>float64</th><th>float64</th><th>float64</th><th>float64</th><th>float64</th><th>float64</th><th>float64</th><th>float64</th><th>float64</th><th>float64</th><th>float64</th><th>float64</th><th>float64</th><th>float64</th><th>float64</th><th>float64</th><th>float64</th><th>float64</th><th>float64</th><th>float64</th><th>str1</th><th>float64</th><th>bool</th><th>bool</th><th>bool</th><th>int64</th></tr></thead>\n",
       "<tr><td>1.5168830187419187</td><td>268854314487.72906</td><td>1.8098</td><td>0.9635260849723911</td><td>0.2344240855115115</td><td>14.744980139832624</td><td>-1.187607790172714</td><td>-0.09078073060996318</td><td>22.9067</td><td>22.966</td><td>23.0278</td><td>22.9565</td><td>255.3788709962412</td><td>1.65428775000688</td><td>0.7294196940551096</td><td>0.23385006462450564</td><td>18.89954359464662</td><td>17.321305003637082</td><td>16.757649438636843</td><td>16.473135644273807</td><td>23.705179535384605</td><td>15.331664875479314</td><td>11.298925012078316</td><td>8.03632949726326</td><td>28.18526712460036</td><td>g</td><td>2.997196691730436</td><td>True</td><td>False</td><td>True</td><td>2172</td></tr>\n",
       "</table>"
      ],
      "text/plain": [
       "<Row index=142114>\n",
       "    thetaE_s0           mass_s0         z_s0        re_s0               q_s0              pa_s0               x_s0                y_s0         mag_g_s0 mag_r_s0 mag_i_s0 mag_z_s0      vdisp_l            re_l              q_l                 z_l              mag_g_l           mag_r_l            mag_i_l            mag_z_l             SNR_g              SNR_r              SNR_i             SNR_z           SNR_stack     best_band         mu        if_ring if_obs_stack if_obs_single noise_seed\n",
       "     float64            float64       float64      float64            float64            float64            float64             float64        float64  float64  float64  float64       float64          float64           float64             float64            float64           float64            float64            float64            float64            float64            float64           float64           float64         str1        float64        bool      bool          bool       int64   \n",
       "------------------ ------------------ ------- ------------------ ------------------ ------------------ ------------------ -------------------- -------- -------- -------- -------- ----------------- ---------------- ------------------ ------------------- ----------------- ------------------ ------------------ ------------------ ------------------ ------------------ ------------------ ---------------- ----------------- --------- ----------------- ------- ------------ ------------- ----------\n",
       "1.5168830187419187 268854314487.72906  1.8098 0.9635260849723911 0.2344240855115115 14.744980139832624 -1.187607790172714 -0.09078073060996318  22.9067   22.966  23.0278  22.9565 255.3788709962412 1.65428775000688 0.7294196940551096 0.23385006462450564 18.89954359464662 17.321305003637082 16.757649438636843 16.473135644273807 23.705179535384605 15.331664875479314 11.298925012078316 8.03632949726326 28.18526712460036         g 2.997196691730436    True        False          True       2172"
      ]
     },
     "execution_count": 4,
     "metadata": {},
     "output_type": "execute_result"
    }
   ],
   "source": [
    "stacked_table[142114]"
   ]
  },
  {
   "cell_type": "code",
   "execution_count": 5,
   "id": "724b16af-22bf-4f4f-b6c0-dc07e74eb72d",
   "metadata": {
    "tags": []
   },
   "outputs": [
    {
     "data": {
      "text/plain": [
       "5051213"
      ]
     },
     "execution_count": 5,
     "metadata": {},
     "output_type": "execute_result"
    }
   ],
   "source": [
    "len(stacked_table)"
   ]
  },
  {
   "cell_type": "code",
   "execution_count": 8,
   "id": "27ff99e0-c292-47d0-8ad0-57ae55f4640c",
   "metadata": {
    "tags": []
   },
   "outputs": [
    {
     "data": {
      "text/plain": [
       "99679"
      ]
     },
     "execution_count": 8,
     "metadata": {},
     "output_type": "execute_result"
    }
   ],
   "source": [
    "mask = stacked_table['if_obs_stack'].data\n",
    "table_detect = stacked_table[mask]\n",
    "table_detect.write(\"catalog_csv/csst_wf_stack.csv\")\n",
    "len(table_detect)"
   ]
  },
  {
   "cell_type": "code",
   "execution_count": 9,
   "id": "dd2deb81-0827-4f04-aa3f-f22c132f0d95",
   "metadata": {
    "tags": []
   },
   "outputs": [
    {
     "data": {
      "text/plain": [
       "49375"
      ]
     },
     "execution_count": 9,
     "metadata": {},
     "output_type": "execute_result"
    }
   ],
   "source": [
    "mask = stacked_table['if_obs_single'].data\n",
    "table_detect = stacked_table[mask]\n",
    "table_detect.write(\"catalog_csv/csst_wf_single.csv\")\n",
    "len(table_detect)"
   ]
  },
  {
   "cell_type": "code",
   "execution_count": null,
   "id": "edd23620-c0b7-405f-abb1-29f4bde6da7e",
   "metadata": {},
   "outputs": [],
   "source": []
  }
 ],
 "metadata": {
  "kernelspec": {
   "display_name": "Python 3 (ipykernel)",
   "language": "python",
   "name": "python3"
  },
  "language_info": {
   "codemirror_mode": {
    "name": "ipython",
    "version": 3
   },
   "file_extension": ".py",
   "mimetype": "text/x-python",
   "name": "python",
   "nbconvert_exporter": "python",
   "pygments_lexer": "ipython3",
   "version": "3.11.3"
  }
 },
 "nbformat": 4,
 "nbformat_minor": 5
}
