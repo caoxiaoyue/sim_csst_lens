{
 "cells": [
  {
   "cell_type": "code",
   "execution_count": 13,
   "id": "a1fa7f93-1266-4333-89ff-f04dcf91c286",
   "metadata": {
    "tags": []
   },
   "outputs": [
    {
     "name": "stdout",
     "output_type": "stream",
     "text": [
      "161548 76396 162584\n"
     ]
    }
   ],
   "source": [
    "from astropy.table import Table\n",
    "import numpy as np\n",
    "lens_samples = Table.read('lens_samples.fits')\n",
    "mask_stack = lens_samples['if_obs_stack'].data\n",
    "mask_single = lens_samples['if_obs_single'].data\n",
    "mask_combine = np.logical_or(mask_stack, mask_single)\n",
    "print(np.count_nonzero(mask_stack), np.count_nonzero(mask_single), np.count_nonzero(mask_combine))"
   ]
  },
  {
   "cell_type": "code",
   "execution_count": 14,
   "id": "0ffc8b81-f680-4e62-a394-0fc1d3ac7474",
   "metadata": {
    "tags": []
   },
   "outputs": [
    {
     "name": "stdout",
     "output_type": "stream",
     "text": [
      "30695 lens has a redshift > 1\n",
      "61591 lens has a mass < 1e11\n",
      "4079 lens has a SNR > 100\n",
      "81700 lens has a ring\n",
      "ring rate is: 50.57%\n",
      "38.13% faction of lens < 1e11\n"
     ]
    }
   ],
   "source": [
    "stack_samples = lens_samples[mask_stack]\n",
    "N1 = np.count_nonzero(stack_samples['z_l'].data>1)\n",
    "N2 = np.count_nonzero(stack_samples['mass_s0'].data<1e11)\n",
    "N3 = np.count_nonzero(stack_samples['SNR_stack']>100)\n",
    "N_ring = np.count_nonzero(stack_samples['if_ring'].data)\n",
    "print(\"{} lens has a redshift > 1\".format(N1))\n",
    "print(\"{} lens has a mass < 1e11\".format(N2))\n",
    "print(\"{} lens has a SNR > 100\".format(N3))\n",
    "print(\"{} lens has a ring\".format(N_ring))\n",
    "print(f\"ring rate is: {N_ring/len(stack_samples):.2%}\")\n",
    "print(\"{:.2%} faction of lens < 1e11\".format(N2/len(stack_samples)))"
   ]
  },
  {
   "cell_type": "code",
   "execution_count": 15,
   "id": "22e719c6-f53e-4da5-90df-9d6d8829ed6c",
   "metadata": {
    "tags": []
   },
   "outputs": [
    {
     "name": "stdout",
     "output_type": "stream",
     "text": [
      "40869 lens has a ring\n",
      "ring rate is: 53.50%\n"
     ]
    }
   ],
   "source": [
    "single_samples = lens_samples[mask_single]\n",
    "N_ring = np.count_nonzero(single_samples['if_ring'].data)\n",
    "print(\"{} lens has a ring\".format(N_ring))\n",
    "print(f\"ring rate is: {N_ring/len(single_samples):.2%}\")"
   ]
  },
  {
   "cell_type": "code",
   "execution_count": 16,
   "id": "73f44673-b64e-4a51-9a83-fa53eda9a028",
   "metadata": {
    "tags": []
   },
   "outputs": [
    {
     "name": "stdout",
     "output_type": "stream",
     "text": [
      "59345 4470 8127 4454\n",
      "78%\n"
     ]
    }
   ],
   "source": [
    "single_samples = lens_samples[mask_single]\n",
    "best_band = single_samples['best_band'].data\n",
    "n_g = np.count_nonzero(best_band == b'g')\n",
    "n_r = np.count_nonzero(best_band == b'r')\n",
    "n_i = np.count_nonzero(best_band == b'i')\n",
    "n_z = np.count_nonzero(best_band == b'z')\n",
    "print(n_g, n_r, n_i, n_z)\n",
    "print(f\"{n_g/len(best_band):.0%}\")"
   ]
  },
  {
   "cell_type": "code",
   "execution_count": 17,
   "id": "2bca8cb1-1d31-4bb3-b058-c61ae7b77042",
   "metadata": {
    "tags": []
   },
   "outputs": [],
   "source": [
    "z_l = lens_samples['z_l'].data\n",
    "z_s = lens_samples['z_s0'].data\n",
    "\n",
    "SNR_g = lens_samples['SNR_g'].data\n",
    "SNR_r = lens_samples['SNR_r'].data\n",
    "SNR_i = lens_samples['SNR_i'].data\n",
    "SNR_z = lens_samples['SNR_z'].data\n",
    "SNR_stack = lens_samples['SNR_stack'].data\n",
    "\n",
    "mag_g_s0 = lens_samples['mag_g_s0'].data\n",
    "mag_r_s0 = lens_samples['mag_r_s0'].data\n",
    "mag_i_s0 = lens_samples['mag_i_s0'].data\n",
    "vdisp_l = lens_samples['vdisp_l'].data\n",
    "mass_s0 = lens_samples['mass_s0'].data\n",
    "thetaE_s0 = lens_samples['thetaE_s0'].data\n",
    "mu = lens_samples['mu'].data\n",
    "best_band = lens_samples['best_band'].data"
   ]
  },
  {
   "cell_type": "code",
   "execution_count": 18,
   "id": "e59d21a6-fad8-4193-b824-1928d4e9c589",
   "metadata": {
    "tags": []
   },
   "outputs": [],
   "source": [
    "from scipy.ndimage import gaussian_filter1d\n",
    "def smooth_hist(data, bins=30, smooth=True, sigma=2, log_bin=False, density=False):\n",
    "    if log_bin:\n",
    "        bins = np.logspace(np.log10(np.min(data)), np.log10(np.max(data)),  bins)\n",
    "        \n",
    "    counts, bins = np.histogram(data, bins=bins, density=density)\n",
    "    \n",
    "    if smooth:\n",
    "        counts_smoothed = gaussian_filter1d(counts, sigma=sigma)\n",
    "    else:\n",
    "        counts_smoothed = counts\n",
    "        \n",
    "    #for beautiful step plot\n",
    "    counts_smoothed = np.insert(counts_smoothed, 0, 0)\n",
    "    bins = np.insert(bins, 0, bins[0]-1e-3)\n",
    "    counts_smoothed = np.append(counts_smoothed, 0)\n",
    "    bins = np.append(bins, bins[-1]+1e-3)\n",
    "    return counts_smoothed, bins"
   ]
  },
  {
   "cell_type": "markdown",
   "id": "0ac95ee5-27f5-43e2-bd1f-c2656b75997f",
   "metadata": {},
   "source": [
    "## Fig.1 Ideal lens plot"
   ]
  },
  {
   "cell_type": "code",
   "execution_count": 19,
   "id": "f53c10fa-e54a-4067-a1e6-ef12fca4370c",
   "metadata": {
    "tags": []
   },
   "outputs": [],
   "source": [
    "from matplotlib import pyplot as plt\n",
    "from astropy.visualization import hist\n",
    "import scienceplots\n",
    "plt.style.use(['science','no-latex', 'nature'])\n",
    "# plt.style.use(['science','no-latex'])\n",
    "# Set the font family and size for all text\n",
    "plt.rcParams['font.family'] = 'sans-serif'\n",
    "plt.rcParams['font.size'] = 10\n",
    "plt.rcParams['legend.fontsize'] = 9\n",
    "plt.rcParams['axes.labelsize'] = 12\n",
    "plt.rcParams['xtick.labelsize'] = 10\n",
    "plt.rcParams['ytick.labelsize'] = 10\n",
    "# Set the background color and grid style\n",
    "plt.rcParams['axes.facecolor'] = 'white'\n",
    "plt.rcParams['grid.linewidth'] = 1.5\n",
    "plt.rcParams['grid.color'] = 'black'\n",
    "plt.rcParams['grid.alpha'] = 0.5\n",
    "\n",
    "np.random.seed(1)\n",
    "hist_size = 5000\n",
    "z_l_ = np.random.choice(z_l, size=hist_size, replace=False)\n",
    "z_s_ = np.random.choice(z_s, size=hist_size, replace=False)\n",
    "vdisp_l_ = np.random.choice(vdisp_l, size=hist_size, replace=False)\n",
    "thetaE_s0_ = np.random.choice(thetaE_s0, size=hist_size, replace=False)\n",
    "\n",
    "from SimCsstLens.LensPop.Population import LensPopulation\n",
    "from SimCsstLens import CosmologyDistance as CD\n",
    "this_cosmos = CD.CosmosDist(Om0=0.3, Ode0=0.7, h=0.7)\n",
    "lens_pop = LensPopulation(\n",
    "    vdisp_floor=50, \n",
    "    zl_max=2.5, \n",
    "    cosmo_dist=this_cosmos,\n",
    "    src_catalog_type='lsst',\n",
    "    bands=['g', 'r', 'i', 'z'],\n",
    ")\n",
    "lens_pop.draw_lens_samples(\n",
    "    nsamples=5000,\n",
    "    nsrcs_per_sample=1,\n",
    "    src_over_density=1,\n",
    ")\n",
    "\n",
    "\n",
    "columnwidth = 3.33\n",
    "aspect_ratio = 0.9\n",
    "fig, axes = plt.subplots(nrows=1, ncols=3, figsize=(columnwidth*3+2*0.5, columnwidth*aspect_ratio))\n",
    "\n",
    "this_ax = axes[0]\n",
    "data = thetaE_s0_\n",
    "counts_smoothed, bins = smooth_hist(data)\n",
    "this_ax.step(bins[:-1], counts_smoothed,  where='post', color='black', label=\"Stack\")\n",
    "this_ax.set_xlabel(r'$\\theta_\\mathrm{E} \\; \\left(\\mathrm{arcsec}\\right)$')\n",
    "this_ax.set_ylabel(r'$\\rm PDF$')\n",
    "# this_ax.set_yscale('log')\n",
    "this_ax.set_yticklabels([])\n",
    "this_ax.set_xlim(0, 3)\n",
    "_, ymax = this_ax.get_ylim()\n",
    "this_ax.set_ylim(0,ymax)\n",
    "\n",
    "this_ax = axes[1]\n",
    "data = z_l_\n",
    "counts_smoothed, bins = smooth_hist(data, density=True)\n",
    "this_ax.step(bins[:-1], counts_smoothed,  where='post', color='red', label='Foreground deflector')\n",
    "data = z_s_\n",
    "counts_smoothed, bins = smooth_hist(data, density=True)\n",
    "this_ax.step(bins[:-1], counts_smoothed,  where='post', color='blue', label='Background source')\n",
    "data = lens_pop.dfl_pop.zl_arr\n",
    "counts_smoothed, bins = smooth_hist(data, density=True, bins=20)\n",
    "this_ax.step(bins[:-1], counts_smoothed,  where='post', color='red', label='Parent ETG', ls='--')\n",
    "data = lens_pop.src_pop.zs_arr[0,:]\n",
    "counts_smoothed, bins = smooth_hist(data, density=True)\n",
    "this_ax.step(bins[:-1], counts_smoothed,  where='post', color='blue', label='Parent source', ls='--')\n",
    "this_ax.legend()\n",
    "this_ax.set_xlabel(r'$\\rm z$')\n",
    "this_ax.set_yticklabels([])\n",
    "this_ax.set_xlim(0, 6)\n",
    "_, ymax = this_ax.get_ylim()\n",
    "this_ax.set_ylim(0,ymax)\n",
    "\n",
    "this_ax = axes[2]\n",
    "data = vdisp_l_\n",
    "counts_smoothed, bins = smooth_hist(data, density=True)\n",
    "this_ax.step(bins[:-1], counts_smoothed,  where='post', color='black', label='Foreground deflector')\n",
    "data = lens_pop.dfl_pop.vdisp_arr\n",
    "counts_smoothed, bins = smooth_hist(data, density=True)\n",
    "this_ax.step(bins[:-1], counts_smoothed,  where='post', color='black', label='Parent ETG', ls='--')\n",
    "this_ax.set_xlabel(r'$\\sigma_{\\mathrm{V}} \\; \\left(\\mathrm{km} \\mathrm{s}^{-1}\\right)$')\n",
    "this_ax.legend(loc='upper right', frameon=False)\n",
    "this_ax.set_yticklabels([])\n",
    "_, ymax = this_ax.get_ylim()\n",
    "this_ax.set_ylim(0,ymax)\n",
    "this_ax.set_xlim(50, 400)\n",
    "\n",
    "plt.tight_layout()\n",
    "fig.savefig('figures/ideal_lenses.pdf', bbox_inches='tight')\n",
    "plt.close(fig)"
   ]
  },
  {
   "cell_type": "markdown",
   "id": "9a6f1a7c-c519-4aeb-a0a9-009398c4ec0d",
   "metadata": {},
   "source": [
    "## Fig.3 SNR plot"
   ]
  },
  {
   "cell_type": "code",
   "execution_count": 20,
   "id": "177caa00-26a1-4f62-a2ef-52fa5fb39afe",
   "metadata": {
    "tags": []
   },
   "outputs": [],
   "source": [
    "from matplotlib import pyplot as plt\n",
    "from astropy.visualization import hist\n",
    "import scienceplots\n",
    "plt.style.use(['science','no-latex', 'nature'])\n",
    "# plt.style.use(['science','no-latex'])\n",
    "# Set the font family and size for all text\n",
    "plt.rcParams['font.family'] = 'sans-serif'\n",
    "plt.rcParams['font.size'] = 10\n",
    "plt.rcParams['legend.fontsize'] = 9\n",
    "plt.rcParams['axes.labelsize'] = 12\n",
    "plt.rcParams['xtick.labelsize'] = 10\n",
    "plt.rcParams['ytick.labelsize'] = 10\n",
    "# Set the background color and grid style\n",
    "plt.rcParams['axes.facecolor'] = 'white'\n",
    "plt.rcParams['grid.linewidth'] = 1.5\n",
    "plt.rcParams['grid.color'] = 'black'\n",
    "plt.rcParams['grid.alpha'] = 0.5\n",
    "\n",
    "from astropy.stats import sigma_clip\n",
    "SNR_stack_ = SNR_stack[mask_stack]\n",
    "# SNR_stack_ = sigma_clip(SNR_stack_, sigma=3).compressed()\n",
    "\n",
    "SNR_g_ = SNR_g[mask_single]\n",
    "SNR_r_ = SNR_r[mask_single]\n",
    "SNR_i_ = SNR_i[mask_single]\n",
    "SNR_z_ = SNR_z[mask_single]\n",
    "best_band_ = best_band[mask_single]\n",
    "SNR_best_band_ = np.zeros_like(SNR_g_)\n",
    "for idx in range(len(SNR_g_)):\n",
    "    if best_band_[idx] == b'g':\n",
    "        SNR_best_band_[idx] = SNR_g_[idx]\n",
    "    elif best_band_[idx] == b'r':\n",
    "        SNR_best_band_[idx] = SNR_r_[idx]\n",
    "    elif best_band_[idx] == b'i':\n",
    "        SNR_best_band_[idx] = SNR_i_[idx]\n",
    "    elif best_band_[idx] == b'z':\n",
    "        SNR_best_band_[idx] = SNR_z_[idx]\n",
    "# SNR_best_band_ = sigma_clip(SNR_best_band_, sigma=5).compressed()\n",
    "\n",
    "columnwidth = 3.33\n",
    "aspect_ratio = 0.9\n",
    "fig, axes = plt.subplots(figsize=(columnwidth, columnwidth*aspect_ratio))\n",
    "data = SNR_stack_\n",
    "counts_smoothed, bins = smooth_hist(data, log_bin=True)\n",
    "axes.step(bins[:-1], counts_smoothed,  where='post', color='black', label='Stack')\n",
    "data = SNR_best_band_\n",
    "counts_smoothed, bins = smooth_hist(data, log_bin=True)\n",
    "axes.step(bins[:-1], counts_smoothed,  where='post', color='black', ls='--', label='Single')\n",
    "axes.set_xlabel(r'Arc SNR')\n",
    "axes.set_ylabel(r'N')\n",
    "axes.set_yscale('log')\n",
    "axes.set_xscale('log')\n",
    "axes.legend()\n",
    "# _, xmax = axes.get_xlim()\n",
    "# axes.set_xlim(20,xmax)\\\n",
    "axes.set_xlim(20,10**3.5)\n",
    "_, ymax = axes.get_ylim()\n",
    "axes.set_ylim(1,ymax)\n",
    "axes.set_title(\"WF\")\n",
    "plt.tight_layout()\n",
    "fig.savefig('figures/arc_snr.pdf', bbox_inches='tight')\n",
    "plt.close(fig)"
   ]
  },
  {
   "cell_type": "markdown",
   "id": "f26da5fa-6f3b-48a3-a7af-087a78f795c6",
   "metadata": {},
   "source": [
    "## Fig.4 Lensing properties plot"
   ]
  },
  {
   "cell_type": "code",
   "execution_count": 21,
   "id": "2adf130a-68d1-4a7b-a163-fef446a5baa1",
   "metadata": {
    "tags": []
   },
   "outputs": [],
   "source": [
    "from matplotlib import pyplot as plt\n",
    "from astropy.visualization import hist\n",
    "import scienceplots\n",
    "plt.style.use(['science','no-latex', 'nature'])\n",
    "# plt.style.use(['science','no-latex'])\n",
    "# Set the font family and size for all text\n",
    "plt.rcParams['font.family'] = 'sans-serif'\n",
    "plt.rcParams['font.size'] = 10\n",
    "plt.rcParams['legend.fontsize'] = 9\n",
    "plt.rcParams['axes.labelsize'] = 12\n",
    "plt.rcParams['xtick.labelsize'] = 10\n",
    "plt.rcParams['ytick.labelsize'] = 10\n",
    "# Set the background color and grid style\n",
    "plt.rcParams['axes.facecolor'] = 'white'\n",
    "plt.rcParams['grid.linewidth'] = 1.5\n",
    "plt.rcParams['grid.color'] = 'black'\n",
    "plt.rcParams['grid.alpha'] = 0.5\n",
    "\n",
    "columnwidth = 3.33\n",
    "aspect_ratio = 0.9\n",
    "fig, axes = plt.subplots(nrows=2, ncols=2, figsize=(columnwidth*2+0.5, columnwidth*aspect_ratio*2+0.5))\n",
    "\n",
    "\n",
    "this_ax = axes[0,0]\n",
    "data = z_l[mask_stack]\n",
    "counts_smoothed, bins = smooth_hist(data)\n",
    "this_ax.step(bins[:-1], counts_smoothed,  where='post', color='red', label=\"Lens-Stack\")\n",
    "data = z_s[mask_stack]\n",
    "counts_smoothed, bins = smooth_hist(data)\n",
    "this_ax.step(bins[:-1], counts_smoothed,  where='post', color='blue', label=\"Source-Stack\")\n",
    "data = z_l[mask_single]\n",
    "counts_smoothed, bins = smooth_hist(data)\n",
    "this_ax.step(bins[:-1], counts_smoothed,  where='post', color='red', label=\"Lens-Single\", ls='--')\n",
    "data = z_s[mask_single]\n",
    "counts_smoothed, bins = smooth_hist(data)\n",
    "this_ax.step(bins[:-1], counts_smoothed,  where='post', color='blue', label=\"Source-Single\", ls='--')\n",
    "this_ax.axvline(x=1, color='black', linestyle=':')\n",
    "this_ax.set_xlabel(r'z')\n",
    "this_ax.set_ylabel(r'N')\n",
    "_, ymax = this_ax.get_ylim()\n",
    "this_ax.set_ylim(0,ymax)\n",
    "this_ax.legend()\n",
    "\n",
    "this_ax = axes[0,1]\n",
    "data = mass_s0[mask_stack]\n",
    "counts_smoothed, bins = smooth_hist(data, log_bin=True)\n",
    "this_ax.step(bins[:-1], counts_smoothed,  where='post', color='black', label=\"Stack\")\n",
    "data = mass_s0[mask_single]\n",
    "counts_smoothed, bins = smooth_hist(data, log_bin=True)\n",
    "this_ax.step(bins[:-1], counts_smoothed,  where='post', color='black', label=\"Single\", ls='--')\n",
    "this_ax.axvline(x=1e11, color='black', linestyle=':')\n",
    "this_ax.legend()\n",
    "this_ax.set_xlabel(r'Einstein Mass ($\\rm M_{\\odot}$)')\n",
    "this_ax.set_xscale('log')\n",
    "_, ymax = this_ax.get_ylim()\n",
    "this_ax.set_ylim(0,ymax)\n",
    "\n",
    "this_ax = axes[1,0]\n",
    "data = mu[mask_stack]\n",
    "counts_smoothed, bins = smooth_hist(data, bins=20, log_bin=True)\n",
    "this_ax.step(bins[:-1], counts_smoothed,  where='post', color='black', label=\"Stack\")\n",
    "data = mu[mask_single]\n",
    "counts_smoothed, bins = smooth_hist(data, bins=20, log_bin=True)\n",
    "this_ax.step(bins[:-1], counts_smoothed,  where='post', color='black', label=\"Single\", ls='--')\n",
    "this_ax.legend()\n",
    "this_ax.set_xlabel('$\\mu$')\n",
    "this_ax.set_ylabel(r'N')\n",
    "this_ax.set_xscale('log')\n",
    "this_ax.set_yscale('log')\n",
    "_, xmax = this_ax.get_xlim()\n",
    "this_ax.set_xlim(3,100)\n",
    "# this_ax.set_xlim(3,xmax)\n",
    "\n",
    "this_ax = axes[1,1]\n",
    "data = mag_g_s0[mask_stack]\n",
    "counts_smoothed, bins = smooth_hist(data)\n",
    "this_ax.step(bins[:-1], counts_smoothed,  where='post', color='black', label=\"Stack\")\n",
    "this_ax.axvline(x=np.median(data), color='black', linestyle='-')\n",
    "data = mag_g_s0[mask_single]\n",
    "counts_smoothed, bins = smooth_hist(data)\n",
    "this_ax.step(bins[:-1], counts_smoothed,  where='post', color='black', label=\"Single\", ls='--')\n",
    "this_ax.axvline(x=np.median(data), color='black', linestyle='--')\n",
    "this_ax.legend()\n",
    "this_ax.set_xlabel(r'$\\rm mag^{src}_g$')\n",
    "this_ax.set_xlim(20,30)\n",
    "_, ymax = this_ax.get_ylim()\n",
    "this_ax.set_ylim(0,ymax)\n",
    "\n",
    "plt.tight_layout()\n",
    "fig.savefig('figures/lensing_properties.pdf', bbox_inches='tight')\n",
    "plt.close(fig)"
   ]
  },
  {
   "cell_type": "code",
   "execution_count": 22,
   "id": "c5665c6a-8563-4bbb-a742-8b91602f2212",
   "metadata": {
    "tags": []
   },
   "outputs": [
    {
     "name": "stdout",
     "output_type": "stream",
     "text": [
      "25.4022 1.2684582407811922\n"
     ]
    }
   ],
   "source": [
    "print(np.median(data), np.std(data))"
   ]
  },
  {
   "cell_type": "markdown",
   "id": "6804563f-b29f-478e-8590-5c3fca3fd27c",
   "metadata": {},
   "source": [
    "## Fig.5 LSST, Euclid, CSST"
   ]
  },
  {
   "cell_type": "code",
   "execution_count": 23,
   "id": "e57d80d7-a86e-47ad-bdba-0164551f3263",
   "metadata": {
    "tags": []
   },
   "outputs": [],
   "source": [
    "from matplotlib import pyplot as plt\n",
    "from astropy.visualization import hist\n",
    "import scienceplots\n",
    "plt.style.use(['science','no-latex', 'nature'])\n",
    "# plt.style.use(['science','no-latex'])\n",
    "# Set the font family and size for all text\n",
    "plt.rcParams['font.family'] = 'sans-serif'\n",
    "plt.rcParams['font.size'] = 10\n",
    "plt.rcParams['legend.fontsize'] = 9\n",
    "plt.rcParams['axes.labelsize'] = 12\n",
    "plt.rcParams['xtick.labelsize'] = 10\n",
    "plt.rcParams['ytick.labelsize'] = 10\n",
    "# Set the background color and grid style\n",
    "plt.rcParams['axes.facecolor'] = 'white'\n",
    "plt.rcParams['grid.linewidth'] = 1.5\n",
    "plt.rcParams['grid.color'] = 'black'\n",
    "plt.rcParams['grid.alpha'] = 0.5\n",
    "\n",
    "lsst_samples = Table.read('lenses_LSSTc.txt',  format='ascii')\n",
    "euclid_samples = Table.read('lenses_Euclid.txt',  format='ascii')\n",
    "\n",
    "thetaE_lsst = lsst_samples['col3'].data\n",
    "vdisp_lsst = lsst_samples['col4'].data\n",
    "thetaE_euclid = euclid_samples['col3'].data\n",
    "vdisp_euclid = euclid_samples['col4'].data\n",
    "\n",
    "thetaE_csst = lens_samples[mask_stack]['thetaE_s0'].data\n",
    "vdisp_csst = lens_samples[mask_stack]['vdisp_l'].data\n",
    "\n",
    "columnwidth = 3.33\n",
    "aspect_ratio = 0.9\n",
    "fig, axes = plt.subplots(nrows=1, ncols=2, figsize=(columnwidth*2+0.5, columnwidth*aspect_ratio))\n",
    "\n",
    "this_ax = axes[0]\n",
    "data = thetaE_csst\n",
    "counts_smoothed, bins = smooth_hist(data)\n",
    "this_ax.step(bins[:-1], counts_smoothed,  where='post', color='black', label=\"CSST\")\n",
    "this_ax.axvline(x=np.median(data), color='black', linestyle=':')\n",
    "data = thetaE_euclid\n",
    "counts_smoothed, bins = smooth_hist(data)\n",
    "counts_smoothed = counts_smoothed * 15000/(41252.96*0.1)\n",
    "this_ax.step(bins[:-1], counts_smoothed,  where='post', color='red', label=\"Euclid\")\n",
    "this_ax.axvline(x=np.median(data), color='red', linestyle=':')\n",
    "data = thetaE_lsst\n",
    "counts_smoothed, bins = smooth_hist(data)\n",
    "counts_smoothed = counts_smoothed * 20000/(41252.96*0.1)\n",
    "this_ax.step(bins[:-1], counts_smoothed,  where='post', color='blue', label=\"LSST\")\n",
    "this_ax.axvline(x=np.median(data), color='blue', linestyle=':')\n",
    "this_ax.legend()\n",
    "this_ax.set_xlabel(r'$\\theta_\\mathrm{E}$ [arcsec]')\n",
    "this_ax.set_ylabel(r'N')\n",
    "_, ymax = this_ax.get_ylim()\n",
    "this_ax.set_ylim(0,ymax)\n",
    "this_ax.set_xlim(0, 3.5)\n",
    "\n",
    "this_ax = axes[1]\n",
    "data = vdisp_csst\n",
    "counts_smoothed, bins = smooth_hist(data)\n",
    "this_ax.step(bins[:-1], counts_smoothed,  where='post', color='black', label=\"CSST\")\n",
    "this_ax.axvline(x=np.median(data), color='black', linestyle=':')\n",
    "data = vdisp_euclid\n",
    "counts_smoothed, bins = smooth_hist(data)\n",
    "counts_smoothed = counts_smoothed * 15000/(41252.96*0.1)\n",
    "this_ax.step(bins[:-1], counts_smoothed,  where='post', color='red', label=\"Euclid\")\n",
    "this_ax.axvline(x=np.median(data), color='red', linestyle=':')\n",
    "data = vdisp_lsst\n",
    "counts_smoothed, bins = smooth_hist(data)\n",
    "counts_smoothed = counts_smoothed * 20000/(41252.96*0.1)\n",
    "this_ax.step(bins[:-1], counts_smoothed,  where='post', color='blue', label=\"LSST\")\n",
    "this_ax.axvline(x=np.median(data), color='blue', linestyle=':')\n",
    "this_ax.legend()\n",
    "this_ax.set_xlabel(r'$\\sigma_\\mathrm{v}$ [km/s]')\n",
    "_, ymax = this_ax.get_ylim()\n",
    "this_ax.set_ylim(0,ymax)\n",
    "\n",
    "plt.tight_layout()\n",
    "fig.savefig('figures/csst_euclid_lsst.pdf', bbox_inches='tight')\n",
    "plt.close(fig)\n"
   ]
  },
  {
   "cell_type": "code",
   "execution_count": 35,
   "id": "3e258e48-05ca-4824-825d-0a69571aa2f9",
   "metadata": {
    "tags": []
   },
   "outputs": [
    {
     "name": "stdout",
     "output_type": "stream",
     "text": [
      "csst thetaE: 0.63812+-0.42\n",
      "euclid thetaE: 0.66+-0.40\n",
      "lsst thetaE: 1.14+-0.42\n",
      "-----------\n",
      "csst vdisp: 217.19309+-50.55\n",
      "euclid vdisp: 221.10+-48.18\n",
      "lsst vdisp: 258.09+-41.62\n",
      "--------------\n",
      "median magnification: 5.46\n",
      "------------\n",
      "unlensed g band src mag stack: 25.87+-1.19\n",
      "unlensed g band src mag single: 25.40+-1.27\n",
      "-------------\n",
      "redshif of ideal lens 0.7125973534087096 0.019861855647847034 2.4940619853527166\n",
      "vdisp of ideal lens 210.5352952285691 52.342355705874176\n",
      "---------------\n",
      "einstein mass of csst lens: 1.36e+11, 1.47e+09, 1.97e+12\n"
     ]
    }
   ],
   "source": [
    "print(f\"csst thetaE: {np.median(thetaE_csst):.5f}+-{np.std(thetaE_csst):.2f}\")\n",
    "print(f\"euclid thetaE: {np.median(thetaE_euclid):.2f}+-{np.std(thetaE_euclid):.2f}\")\n",
    "print(f\"lsst thetaE: {np.median(thetaE_lsst):.2f}+-{np.std(thetaE_lsst):.2f}\")\n",
    "print('-----------')\n",
    "print(f\"csst vdisp: {np.median(vdisp_csst):.5f}+-{np.std(vdisp_csst):.2f}\")\n",
    "print(f\"euclid vdisp: {np.median(vdisp_euclid):.2f}+-{np.std(vdisp_euclid):.2f}\")\n",
    "print(f\"lsst vdisp: {np.median(vdisp_lsst):.2f}+-{np.std(vdisp_lsst):.2f}\")\n",
    "print('--------------')\n",
    "mu_csst = mu[mask_stack]\n",
    "print(f'median magnification: {np.median(mu_csst):.2f}')\n",
    "print('------------')\n",
    "mag_g_s0_csst_stack = mag_g_s0[mask_stack]\n",
    "print(f'unlensed g band src mag stack: {np.median(mag_g_s0_csst_stack):.2f}+-{np.std(mag_g_s0_csst_stack):.2f}')\n",
    "mag_g_s0_csst_single = mag_g_s0[mask_single]\n",
    "print(f'unlensed g band src mag single: {np.median(mag_g_s0_csst_single):.2f}+-{np.std(mag_g_s0_csst_single):.2f}')\n",
    "print('-------------')\n",
    "print('redshif of ideal lens', np.median(z_l), np.percentile(z_l, 0.01), np.percentile(z_l, 99.99))\n",
    "print('vdisp of ideal lens', np.median(vdisp_l), np.std(vdisp_l))\n",
    "print('---------------')\n",
    "mass_csst = mass_s0[mask_stack]\n",
    "print('einstein mass of csst lens: {:.2e}, {:.2e}, {:.2e}'.format(np.median(mass_csst), np.percentile(mass_csst, 0.01), np.percentile(mass_csst, 99.99)))"
   ]
  },
  {
   "cell_type": "code",
   "execution_count": 31,
   "id": "54fe7c92-92de-4b1c-acbd-2d78ee70bf16",
   "metadata": {
    "tags": []
   },
   "outputs": [
    {
     "data": {
      "text/plain": [
       "0.08607905950878167"
      ]
     },
     "execution_count": 31,
     "metadata": {},
     "output_type": "execute_result"
    }
   ],
   "source": [
    "np.percentile(z_l, 0.5)"
   ]
  },
  {
   "cell_type": "code",
   "execution_count": null,
   "id": "11b40a3f-01ae-457b-bb89-6224520d0be3",
   "metadata": {},
   "outputs": [],
   "source": []
  },
  {
   "cell_type": "code",
   "execution_count": 32,
   "id": "9bd41b61-58e3-4bb5-96c1-f565a956bb3b",
   "metadata": {
    "tags": []
   },
   "outputs": [
    {
     "data": {
      "text/plain": [
       "0.0741301251632502"
      ]
     },
     "execution_count": 32,
     "metadata": {},
     "output_type": "execute_result"
    }
   ],
   "source": [
    "thetaE_csst.min()"
   ]
  },
  {
   "cell_type": "code",
   "execution_count": 33,
   "id": "6c5dcb7b-fcdc-492a-acae-899a7ede9ce3",
   "metadata": {},
   "outputs": [
    {
     "data": {
      "text/plain": [
       "0.13"
      ]
     },
     "execution_count": 33,
     "metadata": {},
     "output_type": "execute_result"
    }
   ],
   "source": [
    "thetaE_euclid.min()"
   ]
  },
  {
   "cell_type": "code",
   "execution_count": 21,
   "id": "faf89918-ba3a-4f02-aa09-ede27dfb19d7",
   "metadata": {
    "tags": []
   },
   "outputs": [
    {
     "data": {
      "image/png": "[encoded data removed]",
      "text/plain": [
       "<Figure size 333x299.7 with 2 Axes>"
      ]
     },
     "metadata": {},
     "output_type": "display_data"
    },
    {
     "name": "stderr",
     "output_type": "stream",
     "text": [
      "/tmp/ipykernel_16095/1555745971.py:26: UserWarning: No data for colormapping provided via 'c'. Parameters 'cmap' will be ignored\n",
      "  plt.scatter(arc_snr_, mu_, s=0.1, alpha=1, marker='o', cmap='jet')\n"
     ]
    },
    {
     "data": {
      "image/png": "[encoded data removed]",
      "text/plain": [
       "<Figure size 333x299.7 with 1 Axes>"
      ]
     },
     "metadata": {},
     "output_type": "display_data"
    }
   ],
   "source": [
    "from matplotlib.colors import LogNorm\n",
    "\n",
    "thetaE_ = thetaE_s0[mask_stack]\n",
    "mu_ = mu[mask_stack]\n",
    "arc_snr_ = SNR_stack[mask_stack]\n",
    "\n",
    "from astropy.stats import sigma_clip\n",
    "arc_snr_ = sigma_clip(arc_snr_, sigma=3)\n",
    "\n",
    "columnwidth = 3.33\n",
    "aspect_ratio = 0.9\n",
    "fig, axes = plt.subplots(nrows=1, ncols=1, figsize=(columnwidth, columnwidth*aspect_ratio))\n",
    "plt.scatter(thetaE_, mu_, c=arc_snr_, s=0.1, alpha=1, marker='o', cmap='jet', norm=LogNorm())\n",
    "cbar = plt.colorbar()\n",
    "cbar.set_label('SNR')\n",
    "plt.xlabel(r'$\\theta_{\\rm E}$')\n",
    "plt.ylabel(r'$\\mu$')\n",
    "plt.subplots_adjust()\n",
    "plt.show()\n",
    "\n",
    "\n",
    "columnwidth = 3.33\n",
    "aspect_ratio = 0.9\n",
    "fig, axes = plt.subplots(nrows=1, ncols=1, figsize=(columnwidth, columnwidth*aspect_ratio))\n",
    "plt.scatter(arc_snr_, mu_, s=0.1, alpha=1, marker='o', cmap='jet')\n",
    "plt.xlabel(r'$\\theta_{\\rm E}$')\n",
    "plt.ylabel(r'$\\mu$')\n",
    "plt.subplots_adjust()\n",
    "plt.show()"
   ]
  },
  {
   "cell_type": "code",
   "execution_count": 1,
   "id": "98f7727e-45d5-4437-bfc5-944185e63334",
   "metadata": {},
   "outputs": [
    {
     "data": {
      "text/plain": [
       "131874.17339264866"
      ]
     },
     "execution_count": 1,
     "metadata": {},
     "output_type": "execute_result"
    }
   ],
   "source": [
    "36268* 15000/(41252.96*0.1)"
   ]
  },
  {
   "cell_type": "code",
   "execution_count": 2,
   "id": "496292ce-068b-4d71-a402-8ace54a10c17",
   "metadata": {
    "tags": []
   },
   "outputs": [
    {
     "data": {
      "text/plain": [
       "128296.24831769647"
      ]
     },
     "execution_count": 2,
     "metadata": {},
     "output_type": "execute_result"
    }
   ],
   "source": [
    "26463*20000/(41252.96*0.1)"
   ]
  },
  {
   "cell_type": "code",
   "execution_count": null,
   "id": "a4482ab6-5b01-4cb8-a216-92a035609658",
   "metadata": {},
   "outputs": [],
   "source": []
  }
 ],
 "metadata": {
  "kernelspec": {
   "display_name": "Python 3 (ipykernel)",
   "language": "python",
   "name": "python3"
  },
  "language_info": {
   "codemirror_mode": {
    "name": "ipython",
    "version": 3
   },
   "file_extension": ".py",
   "mimetype": "text/x-python",
   "name": "python",
   "nbconvert_exporter": "python",
   "pygments_lexer": "ipython3",
   "version": "3.11.3"
  }
 },
 "nbformat": 4,
 "nbformat_minor": 5
}
