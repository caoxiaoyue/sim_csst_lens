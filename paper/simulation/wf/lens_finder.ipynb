{
 "cells": [
  {
   "cell_type": "markdown",
   "id": "08a8ef7c-0fe1-48e6-a3d5-e150cb1a5e8a",
   "metadata": {},
   "source": [
    "## First, default lens finder --- number checking"
   ]
  },
  {
   "cell_type": "code",
   "execution_count": 1,
   "id": "a1fa7f93-1266-4333-89ff-f04dcf91c286",
   "metadata": {
    "tags": []
   },
   "outputs": [],
   "source": [
    "from astropy.table import Table\n",
    "import numpy as np\n",
    "from matplotlib import pyplot as plt\n",
    "lens_samples = Table.read('lens_samples.fits')"
   ]
  },
  {
   "cell_type": "code",
   "execution_count": 2,
   "id": "bc452b4f-a146-49a7-87be-428633650e7b",
   "metadata": {
    "tags": []
   },
   "outputs": [
    {
     "data": {
      "text/html": [
       "<i>Row index=0</i>\n",
       "<table id=\"table139726513530064\">\n",
       "<thead><tr><th>thetaE_s0</th><th>mass_s0</th><th>z_s0</th><th>re_s0</th><th>q_s0</th><th>pa_s0</th><th>x_s0</th><th>y_s0</th><th>mag_g_s0</th><th>mag_r_s0</th><th>mag_i_s0</th><th>mag_z_s0</th><th>vdisp_l</th><th>re_l</th><th>q_l</th><th>z_l</th><th>mag_g_l</th><th>mag_r_l</th><th>mag_i_l</th><th>mag_z_l</th><th>SNR_g</th><th>SNR_r</th><th>SNR_i</th><th>SNR_z</th><th>SNR_stack</th><th>best_band</th><th>mu</th><th>if_ring</th><th>if_obs_stack</th><th>if_obs_single</th><th>noise_seed</th></tr></thead>\n",
       "<thead><tr><th>float64</th><th>float64</th><th>float64</th><th>float64</th><th>float64</th><th>float64</th><th>float64</th><th>float64</th><th>float64</th><th>float64</th><th>float64</th><th>float64</th><th>float64</th><th>float64</th><th>float64</th><th>float64</th><th>float64</th><th>float64</th><th>float64</th><th>float64</th><th>float64</th><th>float64</th><th>float64</th><th>float64</th><th>float64</th><th>bytes1</th><th>float64</th><th>bool</th><th>bool</th><th>bool</th><th>int64</th></tr></thead>\n",
       "<tr><td>1.0966084016507394</td><td>220618705190.45496</td><td>2.4813</td><td>0.04755680836013041</td><td>0.48724151839551133</td><td>56.84835836540002</td><td>-0.679774694569647</td><td>-0.19032010755702378</td><td>26.8804</td><td>26.7911</td><td>27.1784</td><td>26.9373</td><td>227.31589216009394</td><td>0.48874105992050526</td><td>0.6177436725840784</td><td>0.39480433148639105</td><td>21.44529815513444</td><td>19.494334310672166</td><td>18.780101509455797</td><td>18.338227104944824</td><td>8.565924589820026</td><td>6.563163395814959</td><td>3.5898829774557766</td><td>2.7892841517608145</td><td>10.657003960170975</td><td>g</td><td>2.8410611440345908</td><td>False</td><td>False</td><td>False</td><td>0</td></tr>\n",
       "</table>"
      ],
      "text/plain": [
       "<Row index=0>\n",
       "    thetaE_s0           mass_s0         z_s0         re_s0                q_s0              pa_s0              x_s0                y_s0         mag_g_s0 mag_r_s0 mag_i_s0 mag_z_s0      vdisp_l               re_l               q_l                 z_l              mag_g_l           mag_r_l            mag_i_l            mag_z_l             SNR_g             SNR_r             SNR_i              SNR_z            SNR_stack      best_band         mu         if_ring if_obs_stack if_obs_single noise_seed\n",
       "     float64            float64       float64       float64             float64            float64           float64             float64        float64  float64  float64  float64       float64             float64            float64             float64            float64           float64            float64            float64            float64           float64           float64            float64            float64         bytes1       float64         bool      bool          bool       int64   \n",
       "------------------ ------------------ ------- ------------------- ------------------- ----------------- ------------------ -------------------- -------- -------- -------- -------- ------------------ ------------------- ------------------ ------------------- ----------------- ------------------ ------------------ ------------------ ----------------- ----------------- ------------------ ------------------ ------------------ --------- ------------------ ------- ------------ ------------- ----------\n",
       "1.0966084016507394 220618705190.45496  2.4813 0.04755680836013041 0.48724151839551133 56.84835836540002 -0.679774694569647 -0.19032010755702378  26.8804  26.7911  27.1784  26.9373 227.31589216009394 0.48874105992050526 0.6177436725840784 0.39480433148639105 21.44529815513444 19.494334310672166 18.780101509455797 18.338227104944824 8.565924589820026 6.563163395814959 3.5898829774557766 2.7892841517608145 10.657003960170975         g 2.8410611440345908   False        False         False          0"
      ]
     },
     "execution_count": 2,
     "metadata": {},
     "output_type": "execute_result"
    }
   ],
   "source": [
    "lens_samples[0]"
   ]
  },
  {
   "cell_type": "code",
   "execution_count": 3,
   "id": "615258a8-c19c-48e8-ba87-937257047e62",
   "metadata": {
    "tags": []
   },
   "outputs": [],
   "source": [
    "def lens_finder(thetaE, Re_src, psf_fwhm, magnification, snr_arc):\n",
    "    #seeing test\n",
    "    cond1 = 2*thetaE**2 >= (2*Re_src)**2+psf_fwhm**2\n",
    "    \n",
    "    #resolved counter image\n",
    "    cond2 = (magnification*Re_src > psf_fwhm)\n",
    "    \n",
    "    #arc snr\n",
    "    cond3 = snr_arc>20.0\n",
    "    \n",
    "    #magnification lower bound\n",
    "    cond4 = magnification > 3\n",
    "    \n",
    "    return np.logical_and.reduce([cond1, cond2, cond3, cond4])"
   ]
  },
  {
   "cell_type": "code",
   "execution_count": 4,
   "id": "318002f4-183a-4452-8805-75ae5a470fed",
   "metadata": {
    "tags": []
   },
   "outputs": [
    {
     "data": {
      "text/plain": [
       "{'g': 0.051, 'r': 0.064, 'i': 0.076, 'z': 0.089, 'stack': 0.07}"
      ]
     },
     "execution_count": 4,
     "metadata": {},
     "output_type": "execute_result"
    }
   ],
   "source": [
    "from SimCsstLens.SimLensImage.MockSurvey import MockSurvey\n",
    "survey = MockSurvey(config_path='.', config_file='csst_setting.yaml')\n",
    "survey.psf_fwhm_dict"
   ]
  },
  {
   "cell_type": "code",
   "execution_count": 5,
   "id": "301dcc9a-46d8-43bd-bc84-1769aa597417",
   "metadata": {
    "tags": []
   },
   "outputs": [],
   "source": [
    "thetaE = lens_samples['thetaE_s0'].data\n",
    "Re_src = lens_samples['re_s0'].data\n",
    "mu = lens_samples['mu'].data\n",
    "psf_fwhm_list = [\n",
    "    survey.psf_fwhm_dict['g'], \n",
    "    survey.psf_fwhm_dict['r'], \n",
    "    survey.psf_fwhm_dict['i'], \n",
    "    survey.psf_fwhm_dict['z']\n",
    "]  #[0.177190, 0.177190, 0.190315, 0.21656564172137857]\n",
    "snr_list = [\n",
    "    lens_samples['SNR_g'].data,\n",
    "    lens_samples['SNR_r'].data,\n",
    "    lens_samples['SNR_i'].data,\n",
    "    lens_samples['SNR_z'].data,\n",
    "]"
   ]
  },
  {
   "cell_type": "code",
   "execution_count": 6,
   "id": "f5337cb1-ccce-4ade-a9a5-396aed48f57f",
   "metadata": {
    "tags": []
   },
   "outputs": [
    {
     "name": "stdout",
     "output_type": "stream",
     "text": [
      "number of single band detection 76396\n"
     ]
    }
   ],
   "source": [
    "detect_cond_list = [None]*4\n",
    "for ii in range(4):\n",
    "    detect_cond_list[ii] = lens_finder(thetaE, Re_src, psf_fwhm_list[ii], mu, snr_list[ii])\n",
    "    \n",
    "single_band_bool = np.logical_or.reduce(detect_cond_list)\n",
    "N_single_fiducial = np.count_nonzero(single_band_bool)\n",
    "print('number of single band detection',N_single_fiducial)"
   ]
  },
  {
   "cell_type": "code",
   "execution_count": 7,
   "id": "ad35bd0d-3a50-4935-ad31-97b2b7336a80",
   "metadata": {
    "tags": []
   },
   "outputs": [
    {
     "name": "stdout",
     "output_type": "stream",
     "text": [
      "number of stack band detection 161548\n"
     ]
    }
   ],
   "source": [
    "psf_fwhm_stack =  survey.psf_fwhm_dict['stack']\n",
    "snr_stack = lens_samples['SNR_stack'].data\n",
    "stack_band_bool = lens_finder(thetaE, Re_src, psf_fwhm_stack, mu, snr_stack)\n",
    "N_stack_fiducial = np.count_nonzero(stack_band_bool)\n",
    "print('number of stack band detection', N_stack_fiducial)"
   ]
  },
  {
   "cell_type": "markdown",
   "id": "9fbcfff9-cf2b-49c0-a858-43a90ce50aa0",
   "metadata": {},
   "source": [
    "## Check SNR"
   ]
  },
  {
   "cell_type": "code",
   "execution_count": 12,
   "id": "8bd279c1-4ff5-4ba3-8045-2096ca594715",
   "metadata": {
    "tags": []
   },
   "outputs": [
    {
     "name": "stdout",
     "output_type": "stream",
     "text": [
      "number of stack band detection 36935\n",
      "Decreasing fraction: 77%\n"
     ]
    }
   ],
   "source": [
    "def lens_finder(thetaE, Re_src, psf_fwhm, magnification, snr_arc):\n",
    "    #seeing test\n",
    "    cond1 = 2*thetaE**2 >= (2*Re_src)**2+psf_fwhm**2\n",
    "    \n",
    "    #resolved counter image\n",
    "    cond2 = (magnification*Re_src > psf_fwhm)\n",
    "    \n",
    "    #arc snr\n",
    "    cond3 = snr_arc>40.0\n",
    "    \n",
    "    #magnification lower bound\n",
    "    cond4 = magnification > 3\n",
    "    \n",
    "    return np.logical_and.reduce([cond1, cond2, cond3, cond4])\n",
    "\n",
    "psf_fwhm_stack =  survey.psf_fwhm_dict['stack']\n",
    "snr_stack = lens_samples['SNR_stack'].data\n",
    "stack_band_bool = lens_finder(thetaE, Re_src, psf_fwhm_stack, mu, snr_stack)\n",
    "N_obs_lenses = np.count_nonzero(stack_band_bool)\n",
    "fraction = (N_stack_fiducial-N_obs_lenses)/N_stack_fiducial\n",
    "print('number of stack band detection', np.count_nonzero(stack_band_bool))\n",
    "print(f'Decreasing fraction: {fraction:.0%}')"
   ]
  },
  {
   "cell_type": "markdown",
   "id": "7d5e24d5-3815-41ff-9e27-825e24507e36",
   "metadata": {},
   "source": [
    "## Check magnification"
   ]
  },
  {
   "cell_type": "code",
   "execution_count": 15,
   "id": "56c49538-66e2-4b4c-91ca-ac131047ff1c",
   "metadata": {
    "tags": []
   },
   "outputs": [
    {
     "name": "stdout",
     "output_type": "stream",
     "text": [
      "number of stack band detection 119094\n",
      "Decreasing fraction: 26%\n"
     ]
    }
   ],
   "source": [
    "def lens_finder(thetaE, Re_src, psf_fwhm, magnification, snr_arc):\n",
    "    #seeing test\n",
    "    cond1 = 2*thetaE**2 >= (2*Re_src)**2+psf_fwhm**2\n",
    "    \n",
    "    #resolved counter image\n",
    "    cond2 = (magnification*Re_src > psf_fwhm)\n",
    "    \n",
    "    #arc snr\n",
    "    cond3 = snr_arc>20.0\n",
    "    \n",
    "    #magnification lower bound\n",
    "    cond4 = magnification > 4\n",
    "    \n",
    "    return np.logical_and.reduce([cond1, cond2, cond3, cond4])\n",
    "\n",
    "psf_fwhm_stack =  survey.psf_fwhm_dict['stack']\n",
    "snr_stack = lens_samples['SNR_stack'].data\n",
    "stack_band_bool = lens_finder(thetaE, Re_src, psf_fwhm_stack, mu, snr_stack)\n",
    "N_obs_lenses = np.count_nonzero(stack_band_bool)\n",
    "fraction = (N_stack_fiducial-N_obs_lenses)/N_stack_fiducial\n",
    "print('number of stack band detection', np.count_nonzero(stack_band_bool))\n",
    "print(f'Decreasing fraction: {fraction:.0%}')"
   ]
  },
  {
   "cell_type": "markdown",
   "id": "08145fbb-049d-4184-9d08-191cc406ce82",
   "metadata": {},
   "source": [
    "## Resolving condition"
   ]
  },
  {
   "cell_type": "code",
   "execution_count": 23,
   "id": "20f6de3f-4fe4-406b-b412-cfdf73677467",
   "metadata": {
    "tags": []
   },
   "outputs": [
    {
     "name": "stdout",
     "output_type": "stream",
     "text": [
      "number of stack band detection 159001\n",
      "Decreasing fraction: 2%\n"
     ]
    }
   ],
   "source": [
    "def lens_finder(thetaE, Re_src, psf_fwhm, magnification, snr_arc):\n",
    "    #seeing test\n",
    "    cond1 = 2*thetaE**2 >= (2*Re_src)**2+ 4*psf_fwhm**2\n",
    "    \n",
    "    #resolved counter image\n",
    "    cond2 = (magnification*Re_src > psf_fwhm)\n",
    "    \n",
    "    #arc snr\n",
    "    cond3 = snr_arc>20.0\n",
    "    \n",
    "    #magnification lower bound\n",
    "    cond4 = magnification > 3\n",
    "    \n",
    "    return np.logical_and.reduce([cond1, cond2, cond3, cond4])\n",
    "\n",
    "psf_fwhm_stack =  survey.psf_fwhm_dict['stack']\n",
    "snr_stack = lens_samples['SNR_stack'].data\n",
    "stack_band_bool = lens_finder(thetaE, Re_src, psf_fwhm_stack, mu, snr_stack)\n",
    "N_obs_lenses = np.count_nonzero(stack_band_bool)\n",
    "fraction = (N_stack_fiducial-N_obs_lenses)/N_stack_fiducial\n",
    "print('number of stack band detection', np.count_nonzero(stack_band_bool))\n",
    "print(f'Decreasing fraction: {fraction:.0%}')"
   ]
  },
  {
   "cell_type": "code",
   "execution_count": null,
   "id": "3df6cf5d-c527-4063-9a6d-1d7dbc728715",
   "metadata": {},
   "outputs": [],
   "source": []
  }
 ],
 "metadata": {
  "kernelspec": {
   "display_name": "Python 3 (ipykernel)",
   "language": "python",
   "name": "python3"
  },
  "language_info": {
   "codemirror_mode": {
    "name": "ipython",
    "version": 3
   },
   "file_extension": ".py",
   "mimetype": "text/x-python",
   "name": "python",
   "nbconvert_exporter": "python",
   "pygments_lexer": "ipython3",
   "version": "3.11.3"
  }
 },
 "nbformat": 4,
 "nbformat_minor": 5
}
