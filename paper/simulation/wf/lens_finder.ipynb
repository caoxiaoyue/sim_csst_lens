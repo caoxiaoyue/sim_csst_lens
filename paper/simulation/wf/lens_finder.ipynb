{
 "cells": [
  {
   "cell_type": "code",
   "execution_count": 1,
   "id": "a1fa7f93-1266-4333-89ff-f04dcf91c286",
   "metadata": {
    "tags": []
   },
   "outputs": [],
   "source": [
    "from astropy.table import Table\n",
    "import numpy as np\n",
    "from matplotlib import pyplot as plt\n",
    "lens_samples = Table.read('lens_samples.fits')"
   ]
  },
  {
   "cell_type": "code",
   "execution_count": 2,
   "id": "bc452b4f-a146-49a7-87be-428633650e7b",
   "metadata": {
    "tags": []
   },
   "outputs": [
    {
     "data": {
      "text/html": [
       "<i>Row index=0</i>\n",
       "<table id=\"table139865025164816\">\n",
       "<thead><tr><th>thetaE_s0</th><th>mass_s0</th><th>z_s0</th><th>re_s0</th><th>q_s0</th><th>pa_s0</th><th>x_s0</th><th>y_s0</th><th>mag_g_s0</th><th>mag_r_s0</th><th>mag_i_s0</th><th>mag_z_s0</th><th>vdisp_l</th><th>re_l</th><th>q_l</th><th>z_l</th><th>mag_g_l</th><th>mag_r_l</th><th>mag_i_l</th><th>mag_z_l</th><th>SNR_g</th><th>SNR_r</th><th>SNR_i</th><th>SNR_z</th><th>SNR_stack</th><th>best_band</th><th>mu</th><th>if_ring</th><th>if_obs_stack</th><th>if_obs_single</th><th>noise_seed</th></tr></thead>\n",
       "<thead><tr><th>float64</th><th>float64</th><th>float64</th><th>float64</th><th>float64</th><th>float64</th><th>float64</th><th>float64</th><th>float64</th><th>float64</th><th>float64</th><th>float64</th><th>float64</th><th>float64</th><th>float64</th><th>float64</th><th>float64</th><th>float64</th><th>float64</th><th>float64</th><th>float64</th><th>float64</th><th>float64</th><th>float64</th><th>float64</th><th>bytes1</th><th>float64</th><th>bool</th><th>bool</th><th>bool</th><th>int64</th></tr></thead>\n",
       "<tr><td>1.3196268626551055</td><td>264596483383.2295</td><td>4.4275</td><td>0.6214770781714286</td><td>0.7320195457264107</td><td>30.232606079738332</td><td>-0.9861918644280009</td><td>0.7417372980109783</td><td>26.9092</td><td>26.7538</td><td>25.9745</td><td>25.8792</td><td>236.61722483491087</td><td>0.5571690004369176</td><td>0.6259450622792214</td><td>0.3459937760977172</td><td>20.782409392808418</td><td>18.83204064877745</td><td>18.17475897845127</td><td>17.80022039548253</td><td>0.7048565112305543</td><td>0.631598379841616</td><td>1.0664061300899874</td><td>0.7688413613416288</td><td>1.5908905321477644</td><td>i</td><td>2.2542780269433975</td><td>False</td><td>False</td><td>False</td><td>0</td></tr>\n",
       "</table>"
      ],
      "text/plain": [
       "<Row index=0>\n",
       "    thetaE_s0           mass_s0        z_s0        re_s0               q_s0              pa_s0                x_s0               y_s0        mag_g_s0 mag_r_s0 mag_i_s0 mag_z_s0      vdisp_l              re_l               q_l                z_l              mag_g_l            mag_r_l           mag_i_l           mag_z_l            SNR_g              SNR_r             SNR_i              SNR_z            SNR_stack      best_band         mu         if_ring if_obs_stack if_obs_single noise_seed\n",
       "     float64            float64      float64      float64            float64            float64             float64            float64       float64  float64  float64  float64       float64            float64            float64            float64            float64            float64           float64           float64           float64            float64           float64            float64            float64         bytes1       float64         bool      bool          bool       int64   \n",
       "------------------ ----------------- ------- ------------------ ------------------ ------------------ ------------------- ------------------ -------- -------- -------- -------- ------------------ ------------------ ------------------ ------------------ ------------------ ----------------- ----------------- ----------------- ------------------ ----------------- ------------------ ------------------ ------------------ --------- ------------------ ------- ------------ ------------- ----------\n",
       "1.3196268626551055 264596483383.2295  4.4275 0.6214770781714286 0.7320195457264107 30.232606079738332 -0.9861918644280009 0.7417372980109783  26.9092  26.7538  25.9745  25.8792 236.61722483491087 0.5571690004369176 0.6259450622792214 0.3459937760977172 20.782409392808418 18.83204064877745 18.17475897845127 17.80022039548253 0.7048565112305543 0.631598379841616 1.0664061300899874 0.7688413613416288 1.5908905321477644         i 2.2542780269433975   False        False         False          0"
      ]
     },
     "execution_count": 2,
     "metadata": {},
     "output_type": "execute_result"
    }
   ],
   "source": [
    "lens_samples[0]"
   ]
  },
  {
   "cell_type": "code",
   "execution_count": 36,
   "id": "615258a8-c19c-48e8-ba87-937257047e62",
   "metadata": {
    "tags": []
   },
   "outputs": [],
   "source": [
    "def lens_finder(thetaE, Re_src, psf_fwhm, magnification, snr_arc):\n",
    "    #seeing test\n",
    "    # cond1 = thetaE**2 > (Re_src**2 + (psf_fwhm/2.0)**2)\n",
    "    # cond1 = 2*thetaE**2 >= (2*Re_src)**2+psf_fwhm**2\n",
    "    cond1 = thetaE**2 > (Re_src**2 + (psf_fwhm)**2)\n",
    "    \n",
    "    #resolved counter image\n",
    "    cond2 = (magnification*Re_src > psf_fwhm)\n",
    "    \n",
    "    #arc snr\n",
    "    cond3 = snr_arc>20.0\n",
    "    \n",
    "    #magnification lower bound\n",
    "    cond4 = magnification > 3\n",
    "    \n",
    "    return np.logical_and.reduce([cond1, cond2, cond3, cond4])"
   ]
  },
  {
   "cell_type": "code",
   "execution_count": 37,
   "id": "318002f4-183a-4452-8805-75ae5a470fed",
   "metadata": {
    "tags": []
   },
   "outputs": [
    {
     "data": {
      "text/plain": [
       "{'g': 0.17719007049930974,\n",
       " 'r': 0.17719007049930974,\n",
       " 'i': 0.19031526090666598,\n",
       " 'z': 0.21656564172137857,\n",
       " 'stack': 0.21656564172137857}"
      ]
     },
     "execution_count": 37,
     "metadata": {},
     "output_type": "execute_result"
    }
   ],
   "source": [
    "from SimCsstLens.SimLensImage.MockSurvey import MockSurvey\n",
    "survey = MockSurvey(config_path='.', config_file='csst_setting.yaml')\n",
    "survey.psf_fwhm_dict"
   ]
  },
  {
   "cell_type": "code",
   "execution_count": 38,
   "id": "301dcc9a-46d8-43bd-bc84-1769aa597417",
   "metadata": {
    "tags": []
   },
   "outputs": [],
   "source": [
    "thetaE = lens_samples['thetaE_s0'].data\n",
    "Re_src = lens_samples['re_s0'].data\n",
    "mu = lens_samples['mu'].data\n",
    "psf_fwhm_list = [\n",
    "    survey.psf_fwhm_dict['g'], \n",
    "    survey.psf_fwhm_dict['r'], \n",
    "    survey.psf_fwhm_dict['i'], \n",
    "    survey.psf_fwhm_dict['z']\n",
    "]  #[0.177190, 0.177190, 0.190315, 0.21656564172137857]\n",
    "snr_list = [\n",
    "    lens_samples['SNR_g'].data,\n",
    "    lens_samples['SNR_r'].data,\n",
    "    lens_samples['SNR_i'].data,\n",
    "    lens_samples['SNR_z'].data,\n",
    "]"
   ]
  },
  {
   "cell_type": "code",
   "execution_count": 39,
   "id": "f5337cb1-ccce-4ade-a9a5-396aed48f57f",
   "metadata": {
    "tags": []
   },
   "outputs": [
    {
     "name": "stdout",
     "output_type": "stream",
     "text": [
      "number of single band detection 52438\n"
     ]
    }
   ],
   "source": [
    "detect_cond_list = [None]*4\n",
    "for ii in range(4):\n",
    "    detect_cond_list[ii] = lens_finder(thetaE, Re_src, psf_fwhm_list[ii], mu, snr_list[ii])\n",
    "    \n",
    "single_band_bool = np.logical_or.reduce(detect_cond_list)\n",
    "print('number of single band detection', np.where(single_band_bool)[0].size)"
   ]
  },
  {
   "cell_type": "code",
   "execution_count": 40,
   "id": "ad35bd0d-3a50-4935-ad31-97b2b7336a80",
   "metadata": {
    "tags": []
   },
   "outputs": [
    {
     "name": "stdout",
     "output_type": "stream",
     "text": [
      "number of stack band detection 103673\n"
     ]
    }
   ],
   "source": [
    "psf_fwhm_stack =  survey.psf_fwhm_dict['z']\n",
    "snr_stack = lens_samples['SNR_stack'].data\n",
    "stack_band_bool = lens_finder(thetaE, Re_src, psf_fwhm_stack, mu, snr_stack)\n",
    "print('number of stack band detection', np.where(stack_band_bool)[0].size)"
   ]
  },
  {
   "cell_type": "code",
   "execution_count": null,
   "id": "68dc050a-0d0d-46ec-8403-8f88ddf9ca74",
   "metadata": {},
   "outputs": [],
   "source": []
  },
  {
   "cell_type": "code",
   "execution_count": 29,
   "id": "20601911-6b0c-4224-9e22-08bcc4d65c1f",
   "metadata": {
    "tags": []
   },
   "outputs": [
    {
     "data": {
      "text/plain": [
       "0.7507599394054917"
      ]
     },
     "execution_count": 29,
     "metadata": {},
     "output_type": "execute_result"
    }
   ],
   "source": [
    "(99679-24844)/99679"
   ]
  },
  {
   "cell_type": "code",
   "execution_count": 35,
   "id": "b4ba75bf-17cd-4188-850c-577ffa705476",
   "metadata": {
    "tags": []
   },
   "outputs": [
    {
     "data": {
      "text/plain": [
       "0.2569347605814665"
      ]
     },
     "execution_count": 35,
     "metadata": {},
     "output_type": "execute_result"
    }
   ],
   "source": [
    "(99679-74068)/99679"
   ]
  },
  {
   "cell_type": "code",
   "execution_count": 41,
   "id": "aebd349b-58f9-4450-b062-b4543f4041e5",
   "metadata": {
    "tags": []
   },
   "outputs": [
    {
     "data": {
      "text/plain": [
       "0.09090909090909091"
      ]
     },
     "execution_count": 41,
     "metadata": {},
     "output_type": "execute_result"
    }
   ],
   "source": [
    "(110000-100000)/110000"
   ]
  },
  {
   "cell_type": "code",
   "execution_count": 7,
   "id": "ac6eff10-d7d8-42ac-9913-781169846777",
   "metadata": {
    "tags": []
   },
   "outputs": [
    {
     "data": {
      "text/plain": [
       "array([False, False, False, ..., False, False, False])"
      ]
     },
     "execution_count": 7,
     "metadata": {},
     "output_type": "execute_result"
    }
   ],
   "source": [
    "single_band_bool"
   ]
  },
  {
   "cell_type": "code",
   "execution_count": 8,
   "id": "cfc103bf-f606-4ffa-9378-01b4e5808196",
   "metadata": {
    "tags": []
   },
   "outputs": [],
   "source": [
    "s_bool_table = lens_samples['if_obs_single'].data"
   ]
  },
  {
   "cell_type": "code",
   "execution_count": 9,
   "id": "9f68df39-872e-4f97-9cdb-7240ac5011e0",
   "metadata": {
    "tags": []
   },
   "outputs": [
    {
     "data": {
      "text/plain": [
       "(array([ 142114, 3397146]),)"
      ]
     },
     "execution_count": 9,
     "metadata": {},
     "output_type": "execute_result"
    }
   ],
   "source": [
    "np.where(single_band_bool != s_bool_table)"
   ]
  },
  {
   "cell_type": "code",
   "execution_count": 10,
   "id": "fce134dc-83ee-4790-95ca-b8f47320240d",
   "metadata": {
    "tags": []
   },
   "outputs": [
    {
     "data": {
      "text/html": [
       "<i>Row index=142114</i>\n",
       "<table id=\"table139865025164816\">\n",
       "<thead><tr><th>thetaE_s0</th><th>mass_s0</th><th>z_s0</th><th>re_s0</th><th>q_s0</th><th>pa_s0</th><th>x_s0</th><th>y_s0</th><th>mag_g_s0</th><th>mag_r_s0</th><th>mag_i_s0</th><th>mag_z_s0</th><th>vdisp_l</th><th>re_l</th><th>q_l</th><th>z_l</th><th>mag_g_l</th><th>mag_r_l</th><th>mag_i_l</th><th>mag_z_l</th><th>SNR_g</th><th>SNR_r</th><th>SNR_i</th><th>SNR_z</th><th>SNR_stack</th><th>best_band</th><th>mu</th><th>if_ring</th><th>if_obs_stack</th><th>if_obs_single</th><th>noise_seed</th></tr></thead>\n",
       "<thead><tr><th>float64</th><th>float64</th><th>float64</th><th>float64</th><th>float64</th><th>float64</th><th>float64</th><th>float64</th><th>float64</th><th>float64</th><th>float64</th><th>float64</th><th>float64</th><th>float64</th><th>float64</th><th>float64</th><th>float64</th><th>float64</th><th>float64</th><th>float64</th><th>float64</th><th>float64</th><th>float64</th><th>float64</th><th>float64</th><th>bytes1</th><th>float64</th><th>bool</th><th>bool</th><th>bool</th><th>int64</th></tr></thead>\n",
       "<tr><td>1.5168830187419187</td><td>268854314487.72906</td><td>1.8098</td><td>0.9635260849723911</td><td>0.2344240855115115</td><td>14.744980139832624</td><td>-1.187607790172714</td><td>-0.09078073060996318</td><td>22.9067</td><td>22.966</td><td>23.0278</td><td>22.9565</td><td>255.3788709962412</td><td>1.65428775000688</td><td>0.7294196940551096</td><td>0.23385006462450564</td><td>18.89954359464662</td><td>17.321305003637082</td><td>16.757649438636843</td><td>16.473135644273807</td><td>23.705179535384605</td><td>15.331664875479314</td><td>11.298925012078316</td><td>8.03632949726326</td><td>28.18526712460036</td><td>g</td><td>2.997196691730436</td><td>True</td><td>False</td><td>True</td><td>2172</td></tr>\n",
       "</table>"
      ],
      "text/plain": [
       "<Row index=142114>\n",
       "    thetaE_s0           mass_s0         z_s0        re_s0               q_s0              pa_s0               x_s0                y_s0         mag_g_s0 mag_r_s0 mag_i_s0 mag_z_s0      vdisp_l            re_l              q_l                 z_l              mag_g_l           mag_r_l            mag_i_l            mag_z_l             SNR_g              SNR_r              SNR_i             SNR_z           SNR_stack     best_band         mu        if_ring if_obs_stack if_obs_single noise_seed\n",
       "     float64            float64       float64      float64            float64            float64            float64             float64        float64  float64  float64  float64       float64          float64           float64             float64            float64           float64            float64            float64            float64            float64            float64           float64           float64        bytes1       float64        bool      bool          bool       int64   \n",
       "------------------ ------------------ ------- ------------------ ------------------ ------------------ ------------------ -------------------- -------- -------- -------- -------- ----------------- ---------------- ------------------ ------------------- ----------------- ------------------ ------------------ ------------------ ------------------ ------------------ ------------------ ---------------- ----------------- --------- ----------------- ------- ------------ ------------- ----------\n",
       "1.5168830187419187 268854314487.72906  1.8098 0.9635260849723911 0.2344240855115115 14.744980139832624 -1.187607790172714 -0.09078073060996318  22.9067   22.966  23.0278  22.9565 255.3788709962412 1.65428775000688 0.7294196940551096 0.23385006462450564 18.89954359464662 17.321305003637082 16.757649438636843 16.473135644273807 23.705179535384605 15.331664875479314 11.298925012078316 8.03632949726326 28.18526712460036         g 2.997196691730436    True        False          True       2172"
      ]
     },
     "execution_count": 10,
     "metadata": {},
     "output_type": "execute_result"
    }
   ],
   "source": [
    "lens_samples[142114]"
   ]
  },
  {
   "cell_type": "code",
   "execution_count": 13,
   "id": "51fd778c-b669-425b-8648-9eba09a92eee",
   "metadata": {
    "tags": []
   },
   "outputs": [
    {
     "data": {
      "text/html": [
       "<i>Row index=3397146</i>\n",
       "<table id=\"table140645855903696\">\n",
       "<thead><tr><th>thetaE_s0</th><th>mass_s0</th><th>z_s0</th><th>re_s0</th><th>q_s0</th><th>pa_s0</th><th>x_s0</th><th>y_s0</th><th>mag_g_s0</th><th>mag_r_s0</th><th>mag_i_s0</th><th>mag_z_s0</th><th>vdisp_l</th><th>re_l</th><th>q_l</th><th>z_l</th><th>mag_g_l</th><th>mag_r_l</th><th>mag_i_l</th><th>mag_z_l</th><th>SNR_g</th><th>SNR_r</th><th>SNR_i</th><th>SNR_z</th><th>SNR_stack</th><th>best_band</th><th>mu</th><th>if_ring</th><th>if_obs_stack</th><th>if_obs_single</th><th>noise_seed</th></tr></thead>\n",
       "<thead><tr><th>float64</th><th>float64</th><th>float64</th><th>float64</th><th>float64</th><th>float64</th><th>float64</th><th>float64</th><th>float64</th><th>float64</th><th>float64</th><th>float64</th><th>float64</th><th>float64</th><th>float64</th><th>float64</th><th>float64</th><th>float64</th><th>float64</th><th>float64</th><th>float64</th><th>float64</th><th>float64</th><th>float64</th><th>float64</th><th>bytes1</th><th>float64</th><th>bool</th><th>bool</th><th>bool</th><th>int64</th></tr></thead>\n",
       "<tr><td>1.9761687166259978</td><td>848008919925.5077</td><td>1.8294</td><td>1.00253332668594</td><td>0.8865099478585281</td><td>15.701295280725594</td><td>0.6004651339756885</td><td>1.349010349315035</td><td>22.3616</td><td>22.574</td><td>21.9323</td><td>21.5574</td><td>322.2821870980947</td><td>1.2310607325425604</td><td>0.791077543376361</td><td>0.43606019269168866</td><td>20.094763888955804</td><td>18.178977147549617</td><td>17.35455863704028</td><td>16.86751295531733</td><td>34.9295968368236</td><td>21.55645122361124</td><td>30.699521607997823</td><td>28.22698782072543</td><td>57.11193472850041</td><td>g</td><td>2.999731484080643</td><td>False</td><td>False</td><td>True</td><td>5273</td></tr>\n",
       "</table>"
      ],
      "text/plain": [
       "<Row index=3397146>\n",
       "    thetaE_s0           mass_s0        z_s0       re_s0              q_s0              pa_s0               x_s0               y_s0       mag_g_s0 mag_r_s0 mag_i_s0 mag_z_s0      vdisp_l             re_l               q_l                z_l              mag_g_l            mag_r_l            mag_i_l           mag_z_l           SNR_g             SNR_r             SNR_i              SNR_z           SNR_stack     best_band         mu        if_ring if_obs_stack if_obs_single noise_seed\n",
       "     float64            float64      float64     float64           float64            float64            float64            float64      float64  float64  float64  float64       float64           float64            float64            float64            float64            float64            float64           float64          float64           float64           float64            float64           float64        bytes1       float64        bool      bool          bool       int64   \n",
       "------------------ ----------------- ------- ---------------- ------------------ ------------------ ------------------ ----------------- -------- -------- -------- -------- ----------------- ------------------ ----------------- ------------------- ------------------ ------------------ ----------------- ----------------- ---------------- ----------------- ------------------ ----------------- ----------------- --------- ----------------- ------- ------------ ------------- ----------\n",
       "1.9761687166259978 848008919925.5077  1.8294 1.00253332668594 0.8865099478585281 15.701295280725594 0.6004651339756885 1.349010349315035  22.3616   22.574  21.9323  21.5574 322.2821870980947 1.2310607325425604 0.791077543376361 0.43606019269168866 20.094763888955804 18.178977147549617 17.35455863704028 16.86751295531733 34.9295968368236 21.55645122361124 30.699521607997823 28.22698782072543 57.11193472850041         g 2.999731484080643   False        False          True       5273"
      ]
     },
     "execution_count": 13,
     "metadata": {},
     "output_type": "execute_result"
    }
   ],
   "source": [
    "lens_samples[3397146]"
   ]
  },
  {
   "cell_type": "code",
   "execution_count": null,
   "id": "4f63a6da-bcd1-4b11-b9db-5d510e11c08d",
   "metadata": {},
   "outputs": [],
   "source": []
  }
 ],
 "metadata": {
  "kernelspec": {
   "display_name": "Python 3 (ipykernel)",
   "language": "python",
   "name": "python3"
  },
  "language_info": {
   "codemirror_mode": {
    "name": "ipython",
    "version": 3
   },
   "file_extension": ".py",
   "mimetype": "text/x-python",
   "name": "python",
   "nbconvert_exporter": "python",
   "pygments_lexer": "ipython3",
   "version": "3.11.3"
  }
 },
 "nbformat": 4,
 "nbformat_minor": 5
}
