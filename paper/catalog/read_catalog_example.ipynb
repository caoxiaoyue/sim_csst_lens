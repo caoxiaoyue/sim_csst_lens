{
 "cells": [
  {
   "cell_type": "code",
   "execution_count": 2,
   "metadata": {},
   "outputs": [
    {
     "name": "stdout",
     "output_type": "stream",
     "text": [
      "CSST wide filed mode are forecasted to detect 161548 of galaxy-galaxy strong lenses\n"
     ]
    }
   ],
   "source": [
    "from astropy.table import Table\n",
    "import numpy as np\n",
    "\n",
    "#First, let's load the galaxy-galaxy strong lens sample under the CSST wide field survey, detected by the griz stacked image\n",
    "#If you want to check the lens sample detected by best single band image, load the csst_wf_single.csv file\n",
    "#*_df_*.csv and *_udf_*.csv represent the strong lens sample under the CSST deep-field and ultra-deep-field mode.\n",
    "lens_samples = Table.read('csst_wf_stack.csv')\n",
    "\n",
    "N_lens = len(lens_samples) \n",
    "print(f\"CSST wide filed mode are forecasted to detect {N_lens} of galaxy-galaxy strong lenses\")"
   ]
  },
  {
   "cell_type": "code",
   "execution_count": 11,
   "metadata": {},
   "outputs": [
    {
     "data": {
      "text/html": [
       "<i>Row index=100</i>\n",
       "<table id=\"table140555826985616\">\n",
       "<thead><tr><th>thetaE_s0</th><th>mass_s0</th><th>z_s0</th><th>re_s0</th><th>q_s0</th><th>pa_s0</th><th>x_s0</th><th>y_s0</th><th>mag_g_s0</th><th>mag_r_s0</th><th>mag_i_s0</th><th>mag_z_s0</th><th>vdisp_l</th><th>re_l</th><th>q_l</th><th>z_l</th><th>mag_g_l</th><th>mag_r_l</th><th>mag_i_l</th><th>mag_z_l</th><th>SNR_g</th><th>SNR_r</th><th>SNR_i</th><th>SNR_z</th><th>SNR_stack</th><th>best_band</th><th>mu</th><th>if_ring</th><th>if_obs_stack</th><th>if_obs_single</th><th>noise_seed</th></tr></thead>\n",
       "<thead><tr><th>float64</th><th>float64</th><th>float64</th><th>float64</th><th>float64</th><th>float64</th><th>float64</th><th>float64</th><th>float64</th><th>float64</th><th>float64</th><th>float64</th><th>float64</th><th>float64</th><th>float64</th><th>float64</th><th>float64</th><th>float64</th><th>float64</th><th>float64</th><th>float64</th><th>float64</th><th>float64</th><th>float64</th><th>float64</th><th>str1</th><th>float64</th><th>str5</th><th>str4</th><th>str5</th><th>int64</th></tr></thead>\n",
       "<tr><td>0.3651244153492999</td><td>56758904026.372215</td><td>1.1671</td><td>0.014353604333241947</td><td>0.7596942030211478</td><td>154.43837231335112</td><td>-0.010424698728463792</td><td>0.11426380049483507</td><td>27.7619</td><td>27.5464</td><td>27.5147</td><td>27.2064</td><td>178.14234653303905</td><td>0.4399978434961588</td><td>0.6886444273965384</td><td>0.6040081809439419</td><td>24.361847684075858</td><td>22.484610716179066</td><td>21.142182028511268</td><td>20.56663271222608</td><td>16.195256505766245</td><td>14.323245165590281</td><td>11.171025184504659</td><td>9.177424918346704</td><td>25.136163515488526</td><td>g</td><td>11.626543278565832</td><td>False</td><td>True</td><td>False</td><td>305</td></tr>\n",
       "</table>"
      ],
      "text/plain": [
       "<Row index=100>\n",
       "    thetaE_s0           mass_s0         z_s0         re_s0                q_s0              pa_s0                 x_s0                 y_s0        mag_g_s0 mag_r_s0 mag_i_s0 mag_z_s0      vdisp_l              re_l               q_l                z_l              mag_g_l            mag_r_l            mag_i_l            mag_z_l            SNR_g              SNR_r              SNR_i              SNR_z           SNR_stack      best_band         mu         if_ring if_obs_stack if_obs_single noise_seed\n",
       "     float64            float64       float64       float64             float64            float64              float64              float64       float64  float64  float64  float64       float64            float64            float64            float64            float64            float64            float64            float64           float64            float64            float64            float64           float64          str1        float64         str5      str4          str5       int64   \n",
       "------------------ ------------------ ------- -------------------- ------------------ ------------------ --------------------- ------------------- -------- -------- -------- -------- ------------------ ------------------ ------------------ ------------------ ------------------ ------------------ ------------------ ----------------- ------------------ ------------------ ------------------ ----------------- ------------------ --------- ------------------ ------- ------------ ------------- ----------\n",
       "0.3651244153492999 56758904026.372215  1.1671 0.014353604333241947 0.7596942030211478 154.43837231335112 -0.010424698728463792 0.11426380049483507  27.7619  27.5464  27.5147  27.2064 178.14234653303905 0.4399978434961588 0.6886444273965384 0.6040081809439419 24.361847684075858 22.484610716179066 21.142182028511268 20.56663271222608 16.195256505766245 14.323245165590281 11.171025184504659 9.177424918346704 25.136163515488526         g 11.626543278565832   False         True         False        305"
      ]
     },
     "execution_count": 11,
     "metadata": {},
     "output_type": "execute_result"
    }
   ],
   "source": [
    "#let's quickly check the content of the table\n",
    "lens_samples[100]"
   ]
  },
  {
   "cell_type": "code",
   "execution_count": 12,
   "metadata": {},
   "outputs": [],
   "source": [
    "# read the data of the table column by column\n",
    "thetaE = lens_samples['thetaE_s0'].data ##Einstein radius of lens in arcsec unit\n",
    "Eintein_mass = lens_samples['mass_s0'].data ##Einstein mass of lens in solor mass unit\n",
    "z_s = lens_samples['z_s0'].data ##redshift of source\n",
    "re_s = lens_samples['re_s0'].data ##half light radius of the sersic source, in arcsec unit\n",
    "q_s = lens_samples['q_s0'].data ##axis-ratio of the source\n",
    "pa_s = lens_samples['pa_s0'].data ##position angle of the source, in degree unit\n",
    "x_s = lens_samples['x_s0'].data ##the x-coordinate of the source, relative to the lens center, in arcsec unit\n",
    "y_s = lens_samples['y_s0'].data ##the y-coordinate of the source, relative to the lens center, in arcsec unit\n",
    "mag_g_s = lens_samples['mag_g_s0'].data ##the intrisinc (unlensed) source magnitude in the g band\n",
    "mag_r_s = lens_samples['mag_r_s0'].data ##the intrisinc (unlensed) source magnitude in the r band\n",
    "mag_i_s = lens_samples['mag_i_s0'].data ##the intrisinc (unlensed) source magnitude in the i band\n",
    "mag_z_s = lens_samples['mag_z_s0'].data ##the intrisinc (unlensed) source magnitude in the z band\n",
    "vdisp_l = lens_samples['vdisp_l'].data ##the velocity dispersion of the lens, in km/s unit\n",
    "re_l = lens_samples['re_l'].data ##the half light radius of the lens, in arcsec unit\n",
    "q_l = lens_samples['q_l'].data ##the axis ratio of lens\n",
    "z_l = lens_samples['z_l'].data ##the redshift of the lens\n",
    "mag_g_l = lens_samples['mag_g_l'].data ##the lens magnitude in the g band\n",
    "mag_r_l = lens_samples['mag_r_l'].data ##the lens magnitude in the r band\n",
    "mag_i_l = lens_samples['mag_i_l'].data ##the lens magnitude in the i band\n",
    "mag_z_l = lens_samples['mag_z_l'].data ##the lens magnitude in the z band\n",
    "SNR_g = lens_samples['SNR_g'].data ##the total SNR of the lensed images in the g band\n",
    "SNR_r = lens_samples['SNR_r'].data ##the total SNR of the lensed images in the r band\n",
    "SNR_i = lens_samples['SNR_i'].data ##the total SNR of the lensed images in the i band\n",
    "SNR_z = lens_samples['SNR_z'].data ##the total SNR of the lensed images in the z band\n",
    "SNR_stack = lens_samples['SNR_stack'].data ##the total SNR of the lensed images for the griz stacked image\n",
    "best_band = lens_samples['best_band'].data ##the band id whose SNR of lensed images is highest \n",
    "magnification = lens_samples['mu'].data ##the total lensing magnification\n",
    "if_ring = lens_samples['if_ring'].data  ##if the lensed images show extended lensed arc structures"
   ]
  }
 ],
 "metadata": {
  "kernelspec": {
   "display_name": "SimCsst",
   "language": "python",
   "name": "python3"
  },
  "language_info": {
   "codemirror_mode": {
    "name": "ipython",
    "version": 3
   },
   "file_extension": ".py",
   "mimetype": "text/x-python",
   "name": "python",
   "nbconvert_exporter": "python",
   "pygments_lexer": "ipython3",
   "version": "3.9.7"
  }
 },
 "nbformat": 4,
 "nbformat_minor": 2
}
